{
  "nbformat": 4,
  "nbformat_minor": 0,
  "metadata": {
    "colab": {
      "name": "판다스 연습 튜토리얼.ipynb",
      "provenance": [],
      "collapsed_sections": [],
      "authorship_tag": "ABX9TyO0+9Wb2uZ/gsB1cIm/mOvN",
      "include_colab_link": true
    },
    "kernelspec": {
      "name": "python3",
      "display_name": "Python 3"
    },
    "language_info": {
      "name": "python"
    }
  },
  "cells": [
    {
      "cell_type": "markdown",
      "metadata": {
        "id": "view-in-github",
        "colab_type": "text"
      },
      "source": [
        "<a href=\"https://colab.research.google.com/github/youkyung2/dataAnalysis/blob/master/%ED%8C%90%EB%8B%A4%EC%8A%A4_%EC%97%B0%EC%8A%B5_%ED%8A%9C%ED%86%A0%EB%A6%AC%EC%96%BC.ipynb\" target=\"_parent\"><img src=\"https://colab.research.google.com/assets/colab-badge.svg\" alt=\"Open In Colab\"/></a>"
      ]
    },
    {
      "cell_type": "markdown",
      "metadata": {
        "id": "G74RDjLM6rBd"
      },
      "source": [
        "판다스 연습 튜토리얼\n",
        "\n",
        "* 참고 URL : https://www.datamanim.com/dataset/99_pandas/pandasMain.html"
      ]
    },
    {
      "cell_type": "code",
      "metadata": {
        "id": "p-6U1dXQ054F"
      },
      "source": [
        "import pandas as pd\n",
        "import numpy as np"
      ],
      "execution_count": 16,
      "outputs": []
    },
    {
      "cell_type": "markdown",
      "metadata": {
        "id": "soUgLqjK6nyv"
      },
      "source": [
        "### 01. Getting & Knowing Data"
      ]
    },
    {
      "cell_type": "code",
      "metadata": {
        "colab": {
          "base_uri": "https://localhost:8080/",
          "height": 203
        },
        "id": "b0smWAp70_qm",
        "outputId": "5142b526-af5f-47fb-fe28-26d69a40e678"
      },
      "source": [
        "df = pd.read_csv('https://raw.githubusercontent.com/youkyung2/dataAnalysis/master/pandas_data/Jeju.csv', encoding='EUC-KR')\n",
        "df.head()"
      ],
      "execution_count": 5,
      "outputs": [
        {
          "output_type": "execute_result",
          "data": {
            "text/html": [
              "<div>\n",
              "<style scoped>\n",
              "    .dataframe tbody tr th:only-of-type {\n",
              "        vertical-align: middle;\n",
              "    }\n",
              "\n",
              "    .dataframe tbody tr th {\n",
              "        vertical-align: top;\n",
              "    }\n",
              "\n",
              "    .dataframe thead th {\n",
              "        text-align: right;\n",
              "    }\n",
              "</style>\n",
              "<table border=\"1\" class=\"dataframe\">\n",
              "  <thead>\n",
              "    <tr style=\"text-align: right;\">\n",
              "      <th></th>\n",
              "      <th>id</th>\n",
              "      <th>일자</th>\n",
              "      <th>시도명</th>\n",
              "      <th>읍면동명</th>\n",
              "      <th>거주인구</th>\n",
              "      <th>근무인구</th>\n",
              "      <th>방문인구</th>\n",
              "      <th>총 유동인구</th>\n",
              "      <th>평균 속도</th>\n",
              "      <th>평균 소요 시간</th>\n",
              "      <th>평균 기온</th>\n",
              "      <th>일강수량</th>\n",
              "      <th>평균 풍속</th>\n",
              "    </tr>\n",
              "  </thead>\n",
              "  <tbody>\n",
              "    <tr>\n",
              "      <th>0</th>\n",
              "      <td>22448</td>\n",
              "      <td>2018-01-01</td>\n",
              "      <td>제주시</td>\n",
              "      <td>도두동</td>\n",
              "      <td>32249.987</td>\n",
              "      <td>3418.266</td>\n",
              "      <td>102709.092</td>\n",
              "      <td>138377.345</td>\n",
              "      <td>39.556</td>\n",
              "      <td>29.167</td>\n",
              "      <td>5.0</td>\n",
              "      <td>0.0</td>\n",
              "      <td>2.5</td>\n",
              "    </tr>\n",
              "    <tr>\n",
              "      <th>1</th>\n",
              "      <td>22449</td>\n",
              "      <td>2018-01-01</td>\n",
              "      <td>제주시</td>\n",
              "      <td>외도동</td>\n",
              "      <td>213500.997</td>\n",
              "      <td>10341.172</td>\n",
              "      <td>112692.789</td>\n",
              "      <td>336534.958</td>\n",
              "      <td>32.900</td>\n",
              "      <td>30.900</td>\n",
              "      <td>5.0</td>\n",
              "      <td>0.0</td>\n",
              "      <td>2.5</td>\n",
              "    </tr>\n",
              "    <tr>\n",
              "      <th>2</th>\n",
              "      <td>22450</td>\n",
              "      <td>2018-01-01</td>\n",
              "      <td>제주시</td>\n",
              "      <td>이도2동</td>\n",
              "      <td>1212382.218</td>\n",
              "      <td>96920.834</td>\n",
              "      <td>541194.481</td>\n",
              "      <td>1850497.533</td>\n",
              "      <td>29.538</td>\n",
              "      <td>35.692</td>\n",
              "      <td>2.9</td>\n",
              "      <td>0.0</td>\n",
              "      <td>2.4</td>\n",
              "    </tr>\n",
              "    <tr>\n",
              "      <th>3</th>\n",
              "      <td>22451</td>\n",
              "      <td>2018-01-01</td>\n",
              "      <td>제주시</td>\n",
              "      <td>일도1동</td>\n",
              "      <td>33991.653</td>\n",
              "      <td>6034.253</td>\n",
              "      <td>72155.919</td>\n",
              "      <td>112181.825</td>\n",
              "      <td>30.000</td>\n",
              "      <td>23.500</td>\n",
              "      <td>2.9</td>\n",
              "      <td>0.0</td>\n",
              "      <td>2.4</td>\n",
              "    </tr>\n",
              "    <tr>\n",
              "      <th>4</th>\n",
              "      <td>22452</td>\n",
              "      <td>2018-01-01</td>\n",
              "      <td>서귀포시</td>\n",
              "      <td>대천동</td>\n",
              "      <td>155036.925</td>\n",
              "      <td>9403.969</td>\n",
              "      <td>150882.409</td>\n",
              "      <td>315323.303</td>\n",
              "      <td>41.583</td>\n",
              "      <td>14.375</td>\n",
              "      <td>5.1</td>\n",
              "      <td>0.0</td>\n",
              "      <td>2.3</td>\n",
              "    </tr>\n",
              "  </tbody>\n",
              "</table>\n",
              "</div>"
            ],
            "text/plain": [
              "      id          일자   시도명  읍면동명  ...  평균 소요 시간  평균 기온  일강수량  평균 풍속\n",
              "0  22448  2018-01-01   제주시   도두동  ...    29.167    5.0   0.0    2.5\n",
              "1  22449  2018-01-01   제주시   외도동  ...    30.900    5.0   0.0    2.5\n",
              "2  22450  2018-01-01   제주시  이도2동  ...    35.692    2.9   0.0    2.4\n",
              "3  22451  2018-01-01   제주시  일도1동  ...    23.500    2.9   0.0    2.4\n",
              "4  22452  2018-01-01  서귀포시   대천동  ...    14.375    5.1   0.0    2.3\n",
              "\n",
              "[5 rows x 13 columns]"
            ]
          },
          "metadata": {
            "tags": []
          },
          "execution_count": 5
        }
      ]
    },
    {
      "cell_type": "code",
      "metadata": {
        "colab": {
          "base_uri": "https://localhost:8080/",
          "height": 142
        },
        "id": "Du2r6jtT4cxo",
        "outputId": "a433543d-c88b-4398-fac9-26e6781e9c69"
      },
      "source": [
        "df.tail(3)"
      ],
      "execution_count": 6,
      "outputs": [
        {
          "output_type": "execute_result",
          "data": {
            "text/html": [
              "<div>\n",
              "<style scoped>\n",
              "    .dataframe tbody tr th:only-of-type {\n",
              "        vertical-align: middle;\n",
              "    }\n",
              "\n",
              "    .dataframe tbody tr th {\n",
              "        vertical-align: top;\n",
              "    }\n",
              "\n",
              "    .dataframe thead th {\n",
              "        text-align: right;\n",
              "    }\n",
              "</style>\n",
              "<table border=\"1\" class=\"dataframe\">\n",
              "  <thead>\n",
              "    <tr style=\"text-align: right;\">\n",
              "      <th></th>\n",
              "      <th>id</th>\n",
              "      <th>일자</th>\n",
              "      <th>시도명</th>\n",
              "      <th>읍면동명</th>\n",
              "      <th>거주인구</th>\n",
              "      <th>근무인구</th>\n",
              "      <th>방문인구</th>\n",
              "      <th>총 유동인구</th>\n",
              "      <th>평균 속도</th>\n",
              "      <th>평균 소요 시간</th>\n",
              "      <th>평균 기온</th>\n",
              "      <th>일강수량</th>\n",
              "      <th>평균 풍속</th>\n",
              "    </tr>\n",
              "  </thead>\n",
              "  <tbody>\n",
              "    <tr>\n",
              "      <th>9618</th>\n",
              "      <td>32066</td>\n",
              "      <td>2020-04-30</td>\n",
              "      <td>제주시</td>\n",
              "      <td>도두동</td>\n",
              "      <td>28397.481</td>\n",
              "      <td>3144.895</td>\n",
              "      <td>84052.697</td>\n",
              "      <td>115595.073</td>\n",
              "      <td>41.053</td>\n",
              "      <td>29.421</td>\n",
              "      <td>20.3</td>\n",
              "      <td>0.0</td>\n",
              "      <td>3.0</td>\n",
              "    </tr>\n",
              "    <tr>\n",
              "      <th>9619</th>\n",
              "      <td>32067</td>\n",
              "      <td>2020-04-30</td>\n",
              "      <td>서귀포시</td>\n",
              "      <td>안덕면</td>\n",
              "      <td>348037.846</td>\n",
              "      <td>29106.286</td>\n",
              "      <td>251129.660</td>\n",
              "      <td>628273.792</td>\n",
              "      <td>46.595</td>\n",
              "      <td>49.189</td>\n",
              "      <td>17.6</td>\n",
              "      <td>0.0</td>\n",
              "      <td>3.5</td>\n",
              "    </tr>\n",
              "    <tr>\n",
              "      <th>9620</th>\n",
              "      <td>32068</td>\n",
              "      <td>2020-04-30</td>\n",
              "      <td>제주시</td>\n",
              "      <td>연동</td>\n",
              "      <td>1010643.372</td>\n",
              "      <td>65673.477</td>\n",
              "      <td>447622.068</td>\n",
              "      <td>1523938.917</td>\n",
              "      <td>40.863</td>\n",
              "      <td>27.765</td>\n",
              "      <td>14.1</td>\n",
              "      <td>0.0</td>\n",
              "      <td>4.8</td>\n",
              "    </tr>\n",
              "  </tbody>\n",
              "</table>\n",
              "</div>"
            ],
            "text/plain": [
              "         id          일자   시도명 읍면동명  ...  평균 소요 시간  평균 기온  일강수량  평균 풍속\n",
              "9618  32066  2020-04-30   제주시  도두동  ...    29.421   20.3   0.0    3.0\n",
              "9619  32067  2020-04-30  서귀포시  안덕면  ...    49.189   17.6   0.0    3.5\n",
              "9620  32068  2020-04-30   제주시   연동  ...    27.765   14.1   0.0    4.8\n",
              "\n",
              "[3 rows x 13 columns]"
            ]
          },
          "metadata": {
            "tags": []
          },
          "execution_count": 6
        }
      ]
    },
    {
      "cell_type": "code",
      "metadata": {
        "colab": {
          "base_uri": "https://localhost:8080/"
        },
        "id": "-XNtMaVQ4XU0",
        "outputId": "b80900e9-72f4-4df8-bdbc-51b8f425429d"
      },
      "source": [
        "df.columns[df.dtypes != 'object']"
      ],
      "execution_count": 13,
      "outputs": [
        {
          "output_type": "execute_result",
          "data": {
            "text/plain": [
              "Index(['id', '거주인구', '근무인구', '방문인구', '총 유동인구', '평균 속도', '평균 소요 시간', '평균 기온',\n",
              "       '일강수량', '평균 풍속'],\n",
              "      dtype='object')"
            ]
          },
          "metadata": {
            "tags": []
          },
          "execution_count": 13
        }
      ]
    },
    {
      "cell_type": "code",
      "metadata": {
        "colab": {
          "base_uri": "https://localhost:8080/"
        },
        "id": "1acRBxTd403B",
        "outputId": "04297e0c-d0e6-4f16-e294-9b605ff0026d"
      },
      "source": [
        "df.select_dtypes(include=np.number).columns"
      ],
      "execution_count": 17,
      "outputs": [
        {
          "output_type": "execute_result",
          "data": {
            "text/plain": [
              "Index(['id', '거주인구', '근무인구', '방문인구', '총 유동인구', '평균 속도', '평균 소요 시간', '평균 기온',\n",
              "       '일강수량', '평균 풍속'],\n",
              "      dtype='object')"
            ]
          },
          "metadata": {
            "tags": []
          },
          "execution_count": 17
        }
      ]
    },
    {
      "cell_type": "code",
      "metadata": {
        "colab": {
          "base_uri": "https://localhost:8080/"
        },
        "id": "73QZAzm04wr9",
        "outputId": "1ee288eb-066d-4dae-9b75-2712760984b0"
      },
      "source": [
        "df.select_dtypes(include=np.object).columns"
      ],
      "execution_count": 18,
      "outputs": [
        {
          "output_type": "execute_result",
          "data": {
            "text/plain": [
              "Index(['일자', '시도명', '읍면동명'], dtype='object')"
            ]
          },
          "metadata": {
            "tags": []
          },
          "execution_count": 18
        }
      ]
    },
    {
      "cell_type": "code",
      "metadata": {
        "colab": {
          "base_uri": "https://localhost:8080/"
        },
        "id": "wxyJqTsj5okU",
        "outputId": "20288dca-e7ec-4f1c-c756-2f45fc8a987b"
      },
      "source": [
        "df.isnull().sum()"
      ],
      "execution_count": 19,
      "outputs": [
        {
          "output_type": "execute_result",
          "data": {
            "text/plain": [
              "id          0\n",
              "일자          0\n",
              "시도명         0\n",
              "읍면동명        0\n",
              "거주인구        0\n",
              "근무인구        0\n",
              "방문인구        0\n",
              "총 유동인구      0\n",
              "평균 속도       0\n",
              "평균 소요 시간    0\n",
              "평균 기온       0\n",
              "일강수량        0\n",
              "평균 풍속       0\n",
              "dtype: int64"
            ]
          },
          "metadata": {
            "tags": []
          },
          "execution_count": 19
        }
      ]
    },
    {
      "cell_type": "code",
      "metadata": {
        "colab": {
          "base_uri": "https://localhost:8080/"
        },
        "id": "mb_NBljO5q9F",
        "outputId": "f7845774-ae0d-4e86-e566-9451a9b134c2"
      },
      "source": [
        "df.info()"
      ],
      "execution_count": 21,
      "outputs": [
        {
          "output_type": "stream",
          "text": [
            "<class 'pandas.core.frame.DataFrame'>\n",
            "RangeIndex: 9621 entries, 0 to 9620\n",
            "Data columns (total 13 columns):\n",
            " #   Column    Non-Null Count  Dtype  \n",
            "---  ------    --------------  -----  \n",
            " 0   id        9621 non-null   int64  \n",
            " 1   일자        9621 non-null   object \n",
            " 2   시도명       9621 non-null   object \n",
            " 3   읍면동명      9621 non-null   object \n",
            " 4   거주인구      9621 non-null   float64\n",
            " 5   근무인구      9621 non-null   float64\n",
            " 6   방문인구      9621 non-null   float64\n",
            " 7   총 유동인구    9621 non-null   float64\n",
            " 8   평균 속도     9621 non-null   float64\n",
            " 9   평균 소요 시간  9621 non-null   float64\n",
            " 10  평균 기온     9621 non-null   float64\n",
            " 11  일강수량      9621 non-null   float64\n",
            " 12  평균 풍속     9621 non-null   float64\n",
            "dtypes: float64(9), int64(1), object(3)\n",
            "memory usage: 977.3+ KB\n"
          ],
          "name": "stdout"
        }
      ]
    },
    {
      "cell_type": "code",
      "metadata": {
        "colab": {
          "base_uri": "https://localhost:8080/",
          "height": 332
        },
        "id": "WpDVQaLt5s6o",
        "outputId": "7745c6be-0c9c-4933-d9e2-7de29ebdf580"
      },
      "source": [
        "df.describe()"
      ],
      "execution_count": 23,
      "outputs": [
        {
          "output_type": "execute_result",
          "data": {
            "text/html": [
              "<div>\n",
              "<style scoped>\n",
              "    .dataframe tbody tr th:only-of-type {\n",
              "        vertical-align: middle;\n",
              "    }\n",
              "\n",
              "    .dataframe tbody tr th {\n",
              "        vertical-align: top;\n",
              "    }\n",
              "\n",
              "    .dataframe thead th {\n",
              "        text-align: right;\n",
              "    }\n",
              "</style>\n",
              "<table border=\"1\" class=\"dataframe\">\n",
              "  <thead>\n",
              "    <tr style=\"text-align: right;\">\n",
              "      <th></th>\n",
              "      <th>id</th>\n",
              "      <th>거주인구</th>\n",
              "      <th>근무인구</th>\n",
              "      <th>방문인구</th>\n",
              "      <th>총 유동인구</th>\n",
              "      <th>평균 속도</th>\n",
              "      <th>평균 소요 시간</th>\n",
              "      <th>평균 기온</th>\n",
              "      <th>일강수량</th>\n",
              "      <th>평균 풍속</th>\n",
              "    </tr>\n",
              "  </thead>\n",
              "  <tbody>\n",
              "    <tr>\n",
              "      <th>count</th>\n",
              "      <td>9621.000000</td>\n",
              "      <td>9.621000e+03</td>\n",
              "      <td>9621.000000</td>\n",
              "      <td>9621.000000</td>\n",
              "      <td>9.621000e+03</td>\n",
              "      <td>9621.000000</td>\n",
              "      <td>9621.000000</td>\n",
              "      <td>9621.000000</td>\n",
              "      <td>9621.000000</td>\n",
              "      <td>9621.000000</td>\n",
              "    </tr>\n",
              "    <tr>\n",
              "      <th>mean</th>\n",
              "      <td>27258.000000</td>\n",
              "      <td>3.174315e+05</td>\n",
              "      <td>35471.201510</td>\n",
              "      <td>195889.561802</td>\n",
              "      <td>5.487922e+05</td>\n",
              "      <td>41.109084</td>\n",
              "      <td>37.215873</td>\n",
              "      <td>13.550828</td>\n",
              "      <td>6.972426</td>\n",
              "      <td>2.753171</td>\n",
              "    </tr>\n",
              "    <tr>\n",
              "      <th>std</th>\n",
              "      <td>2777.487804</td>\n",
              "      <td>2.982079e+05</td>\n",
              "      <td>40381.214775</td>\n",
              "      <td>140706.090325</td>\n",
              "      <td>4.608802e+05</td>\n",
              "      <td>8.758631</td>\n",
              "      <td>12.993786</td>\n",
              "      <td>7.745515</td>\n",
              "      <td>27.617260</td>\n",
              "      <td>1.498538</td>\n",
              "    </tr>\n",
              "    <tr>\n",
              "      <th>min</th>\n",
              "      <td>22448.000000</td>\n",
              "      <td>9.305552e+03</td>\n",
              "      <td>1407.936000</td>\n",
              "      <td>11538.322000</td>\n",
              "      <td>2.225181e+04</td>\n",
              "      <td>24.333000</td>\n",
              "      <td>12.667000</td>\n",
              "      <td>-9.600000</td>\n",
              "      <td>0.000000</td>\n",
              "      <td>0.000000</td>\n",
              "    </tr>\n",
              "    <tr>\n",
              "      <th>25%</th>\n",
              "      <td>24853.000000</td>\n",
              "      <td>9.539939e+04</td>\n",
              "      <td>12074.498000</td>\n",
              "      <td>99632.153000</td>\n",
              "      <td>2.216910e+05</td>\n",
              "      <td>34.250000</td>\n",
              "      <td>27.889000</td>\n",
              "      <td>7.600000</td>\n",
              "      <td>0.000000</td>\n",
              "      <td>1.700000</td>\n",
              "    </tr>\n",
              "    <tr>\n",
              "      <th>50%</th>\n",
              "      <td>27258.000000</td>\n",
              "      <td>2.221105e+05</td>\n",
              "      <td>21960.928000</td>\n",
              "      <td>152805.335000</td>\n",
              "      <td>3.866935e+05</td>\n",
              "      <td>39.640000</td>\n",
              "      <td>34.500000</td>\n",
              "      <td>13.400000</td>\n",
              "      <td>0.000000</td>\n",
              "      <td>2.400000</td>\n",
              "    </tr>\n",
              "    <tr>\n",
              "      <th>75%</th>\n",
              "      <td>29663.000000</td>\n",
              "      <td>4.106671e+05</td>\n",
              "      <td>40192.032000</td>\n",
              "      <td>236325.109000</td>\n",
              "      <td>6.406918e+05</td>\n",
              "      <td>49.105000</td>\n",
              "      <td>46.176000</td>\n",
              "      <td>19.700000</td>\n",
              "      <td>1.500000</td>\n",
              "      <td>3.400000</td>\n",
              "    </tr>\n",
              "    <tr>\n",
              "      <th>max</th>\n",
              "      <td>32068.000000</td>\n",
              "      <td>1.364504e+06</td>\n",
              "      <td>263476.965000</td>\n",
              "      <td>723459.209000</td>\n",
              "      <td>2.066484e+06</td>\n",
              "      <td>103.000000</td>\n",
              "      <td>172.200000</td>\n",
              "      <td>30.400000</td>\n",
              "      <td>587.500000</td>\n",
              "      <td>13.333000</td>\n",
              "    </tr>\n",
              "  </tbody>\n",
              "</table>\n",
              "</div>"
            ],
            "text/plain": [
              "                 id          거주인구  ...         일강수량        평균 풍속\n",
              "count   9621.000000  9.621000e+03  ...  9621.000000  9621.000000\n",
              "mean   27258.000000  3.174315e+05  ...     6.972426     2.753171\n",
              "std     2777.487804  2.982079e+05  ...    27.617260     1.498538\n",
              "min    22448.000000  9.305552e+03  ...     0.000000     0.000000\n",
              "25%    24853.000000  9.539939e+04  ...     0.000000     1.700000\n",
              "50%    27258.000000  2.221105e+05  ...     0.000000     2.400000\n",
              "75%    29663.000000  4.106671e+05  ...     1.500000     3.400000\n",
              "max    32068.000000  1.364504e+06  ...   587.500000    13.333000\n",
              "\n",
              "[8 rows x 10 columns]"
            ]
          },
          "metadata": {
            "tags": []
          },
          "execution_count": 23
        }
      ]
    },
    {
      "cell_type": "code",
      "metadata": {
        "colab": {
          "base_uri": "https://localhost:8080/"
        },
        "id": "o9hVGYFF5vU-",
        "outputId": "fd978961-c059-4848-e6e5-1ceef91b683f"
      },
      "source": [
        "df['거주인구']"
      ],
      "execution_count": 24,
      "outputs": [
        {
          "output_type": "execute_result",
          "data": {
            "text/plain": [
              "0         32249.987\n",
              "1        213500.997\n",
              "2       1212382.218\n",
              "3         33991.653\n",
              "4        155036.925\n",
              "           ...     \n",
              "9616     228260.005\n",
              "9617     459959.064\n",
              "9618      28397.481\n",
              "9619     348037.846\n",
              "9620    1010643.372\n",
              "Name: 거주인구, Length: 9621, dtype: float64"
            ]
          },
          "metadata": {
            "tags": []
          },
          "execution_count": 24
        }
      ]
    },
    {
      "cell_type": "code",
      "metadata": {
        "colab": {
          "base_uri": "https://localhost:8080/"
        },
        "id": "0zznsT3E5xPu",
        "outputId": "178b869b-e305-4661-c11c-4abeb6f0e062"
      },
      "source": [
        "df['평균 속도'].quantile(3/4) - df['평균 속도'].quantile(1/4)"
      ],
      "execution_count": 29,
      "outputs": [
        {
          "output_type": "execute_result",
          "data": {
            "text/plain": [
              "14.854999999999997"
            ]
          },
          "metadata": {
            "tags": []
          },
          "execution_count": 29
        }
      ]
    },
    {
      "cell_type": "code",
      "metadata": {
        "colab": {
          "base_uri": "https://localhost:8080/"
        },
        "id": "8a_Hkrhu6ErD",
        "outputId": "6271bac8-3801-4019-c57a-104eff6a221d"
      },
      "source": [
        "len(df['읍면동명'].unique())"
      ],
      "execution_count": 38,
      "outputs": [
        {
          "output_type": "execute_result",
          "data": {
            "text/plain": [
              "41"
            ]
          },
          "metadata": {
            "tags": []
          },
          "execution_count": 38
        }
      ]
    },
    {
      "cell_type": "code",
      "metadata": {
        "colab": {
          "base_uri": "https://localhost:8080/"
        },
        "id": "KZeaPfdj6bNQ",
        "outputId": "2ef5d3a6-ebab-47ab-e6e6-3dda2f9efc6b"
      },
      "source": [
        "df['읍면동명'].nunique()"
      ],
      "execution_count": 39,
      "outputs": [
        {
          "output_type": "execute_result",
          "data": {
            "text/plain": [
              "41"
            ]
          },
          "metadata": {
            "tags": []
          },
          "execution_count": 39
        }
      ]
    },
    {
      "cell_type": "code",
      "metadata": {
        "colab": {
          "base_uri": "https://localhost:8080/"
        },
        "id": "BzpfoPL-6g7D",
        "outputId": "eb78dd1a-2c5f-444d-de1d-9423cf953a2c"
      },
      "source": [
        "df['읍면동명'].unique()"
      ],
      "execution_count": 40,
      "outputs": [
        {
          "output_type": "execute_result",
          "data": {
            "text/plain": [
              "array(['도두동', '외도동', '이도2동', '일도1동', '대천동', '서홍동', '한경면', '송산동', '조천읍',\n",
              "       '일도2동', '영천동', '예래동', '대륜동', '삼도1동', '이호동', '건입동', '중앙동', '삼양동',\n",
              "       '삼도2동', '이도1동', '남원읍', '대정읍', '정방동', '효돈동', '아라동', '한림읍', '구좌읍',\n",
              "       '용담1동', '오라동', '화북동', '연동', '표선면', '중문동', '성산읍', '안덕면', '천지동',\n",
              "       '노형동', '동홍동', '용담2동', '봉개동', '애월읍'], dtype=object)"
            ]
          },
          "metadata": {
            "tags": []
          },
          "execution_count": 40
        }
      ]
    }
  ]
}
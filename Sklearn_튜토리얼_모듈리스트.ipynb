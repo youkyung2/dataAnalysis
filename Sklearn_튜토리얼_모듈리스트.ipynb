{
  "nbformat": 4,
  "nbformat_minor": 0,
  "metadata": {
    "colab": {
      "name": "Sklearn 튜토리얼_모듈리스트.ipynb",
      "provenance": [],
      "authorship_tag": "ABX9TyN5VMCW9tQF+9HJSuOVyPy1",
      "include_colab_link": true
    },
    "kernelspec": {
      "name": "python3",
      "display_name": "Python 3"
    },
    "language_info": {
      "name": "python"
    }
  },
  "cells": [
    {
      "cell_type": "markdown",
      "metadata": {
        "id": "view-in-github",
        "colab_type": "text"
      },
      "source": [
        "<a href=\"https://colab.research.google.com/github/youkyung2/dataAnalysis/blob/master/Sklearn_%ED%8A%9C%ED%86%A0%EB%A6%AC%EC%96%BC_%EB%AA%A8%EB%93%88%EB%A6%AC%EC%8A%A4%ED%8A%B8.ipynb\" target=\"_parent\"><img src=\"https://colab.research.google.com/assets/colab-badge.svg\" alt=\"Open In Colab\"/></a>"
      ]
    },
    {
      "cell_type": "code",
      "metadata": {
        "id": "nRuyMNe0wZi5"
      },
      "source": [
        "from sklearn.preprocessing import MinMaxScaler\n",
        "sc = MinMaxScaler()"
      ],
      "execution_count": 1,
      "outputs": []
    },
    {
      "cell_type": "code",
      "metadata": {
        "colab": {
          "base_uri": "https://localhost:8080/"
        },
        "id": "DxY_QFBXwhER",
        "outputId": "d79dcc87-5dee-40fc-efdd-a2abd832e73f"
      },
      "source": [
        "import sklearn.model_selection\n",
        "dir(sklearn.model_selection)"
      ],
      "execution_count": 3,
      "outputs": [
        {
          "output_type": "execute_result",
          "data": {
            "text/plain": [
              "['BaseCrossValidator',\n",
              " 'GridSearchCV',\n",
              " 'GroupKFold',\n",
              " 'GroupShuffleSplit',\n",
              " 'KFold',\n",
              " 'LeaveOneGroupOut',\n",
              " 'LeaveOneOut',\n",
              " 'LeavePGroupsOut',\n",
              " 'LeavePOut',\n",
              " 'ParameterGrid',\n",
              " 'ParameterSampler',\n",
              " 'PredefinedSplit',\n",
              " 'RandomizedSearchCV',\n",
              " 'RepeatedKFold',\n",
              " 'RepeatedStratifiedKFold',\n",
              " 'ShuffleSplit',\n",
              " 'StratifiedKFold',\n",
              " 'StratifiedShuffleSplit',\n",
              " 'TimeSeriesSplit',\n",
              " '__all__',\n",
              " '__builtins__',\n",
              " '__cached__',\n",
              " '__doc__',\n",
              " '__file__',\n",
              " '__loader__',\n",
              " '__name__',\n",
              " '__package__',\n",
              " '__path__',\n",
              " '__spec__',\n",
              " '_search',\n",
              " '_split',\n",
              " '_validation',\n",
              " 'check_cv',\n",
              " 'cross_val_predict',\n",
              " 'cross_val_score',\n",
              " 'cross_validate',\n",
              " 'fit_grid_point',\n",
              " 'learning_curve',\n",
              " 'permutation_test_score',\n",
              " 'train_test_split',\n",
              " 'validation_curve']"
            ]
          },
          "metadata": {
            "tags": []
          },
          "execution_count": 3
        }
      ]
    },
    {
      "cell_type": "markdown",
      "metadata": {
        "id": "17SIOwYXw28Q"
      },
      "source": [
        "모듈 리스트"
      ]
    },
    {
      "cell_type": "code",
      "metadata": {
        "id": "ca7qgvngwruv"
      },
      "source": [
        "sklearn\n",
        "│\n",
        "├── 01 preprocessing (전처리)\n",
        "│   │\n",
        "│   ├── 스케일러\n",
        "│   │   ├── MinMaxScaler\n",
        "│   │   ├── RobustScaler\n",
        "│   │   └── StandardScaler\n",
        "│   │\n",
        "│   └── 인코더\n",
        "│       ├── LabelEncoder\n",
        "│       └── OneHotEncoder\n",
        "│  \n",
        "├── 02 model_selection (모델링 전처리)\n",
        "│   │\n",
        "│   ├── 데이터셋 분리\n",
        "│   │   ├── KFold\n",
        "│   │   ├── StratifiedKFold\n",
        "│   │   └── train_test_split\n",
        "│   │\n",
        "│   └── 하이퍼파라미터 튜닝\n",
        "│       └── GridSearchCV\n",
        "│\n",
        "├── 03 모델학습\n",
        "│   │\n",
        "│   ├── ensemble\n",
        "│   │   ├── AdaBoostClassifier\n",
        "│   │   ├── GradientBoostingClassifier\n",
        "│   │   ├── RandomForestClassifier\n",
        "│   │   └── RandomForestRegressor\n",
        "│   │\n",
        "│   ├── linear_model\n",
        "│   │   ├── LogisticRegression\n",
        "│   │   └── RidgeClassifier\n",
        "│   │\n",
        "│   ├── neighbors\n",
        "│   │   └── KNeighborsClassifier\n",
        "│   │\n",
        "│   ├── svm\n",
        "│   │   ├── SVC\n",
        "│   │   └── SVR\n",
        "│   │\n",
        "│   └── tree\n",
        "│       ├── DecisionTreeClassifier\n",
        "│       ├── DecisionTreeRegressor\n",
        "│       ├── ExtraTreeClassifier\n",
        "│       └── ExtraTreeRegressor\n",
        "│\n",
        "├── 04 모델평가\n",
        "│   │\n",
        "│   ├── metrics\n",
        "│   │   ├── accuracy_score\n",
        "│   │   ├── classification_report\n",
        "│   │   ├── confusion_matrix\n",
        "│   │   ├── f1_score\n",
        "│   │   ├── log_loss\n",
        "│   │   ├── mean_absolute_error\n",
        "│   │   ├── mean_squared_error\n",
        "│   │   └── roc_auc_score\n",
        "│   │\n",
        "│   └── model (정의된 모델에서 추출)\n",
        "│       ├── predict\n",
        "│       └── predict_proba\n",
        "│\n",
        "└── 05 최종앙상블\n",
        "    │\n",
        "    └── ensemble\n",
        "        ├── StackingClassifier\n",
        "        ├── StackingRegressor\n",
        "        ├── VotingClassifier\n",
        "        └── VotingRegressor"
      ],
      "execution_count": null,
      "outputs": []
    },
    {
      "cell_type": "markdown",
      "metadata": {
        "id": "lo03QRhpw7-m"
      },
      "source": [
        "01. 데이터전처리\n",
        "02. 모델링전처리\n",
        "03. 모델링\n",
        "04. 모델 평가\n",
        "05. 최종 앙상블"
      ]
    }
  ]
}
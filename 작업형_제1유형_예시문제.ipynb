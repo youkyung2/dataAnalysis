{
  "nbformat": 4,
  "nbformat_minor": 0,
  "metadata": {
    "colab": {
      "name": "작업형_제1유형_예시문제.ipynb",
      "provenance": [],
      "collapsed_sections": [],
      "authorship_tag": "ABX9TyMfuGlGvLl6lqeoXLiRs+kc",
      "include_colab_link": true
    },
    "kernelspec": {
      "name": "python3",
      "display_name": "Python 3"
    },
    "language_info": {
      "name": "python"
    }
  },
  "cells": [
    {
      "cell_type": "markdown",
      "metadata": {
        "id": "view-in-github",
        "colab_type": "text"
      },
      "source": [
        "<a href=\"https://colab.research.google.com/github/youkyung2/dataAnalysis/blob/master/%EC%9E%91%EC%97%85%ED%98%95_%EC%A0%9C1%EC%9C%A0%ED%98%95_%EC%98%88%EC%8B%9C%EB%AC%B8%EC%A0%9C.ipynb\" target=\"_parent\"><img src=\"https://colab.research.google.com/assets/colab-badge.svg\" alt=\"Open In Colab\"/></a>"
      ]
    },
    {
      "cell_type": "markdown",
      "metadata": {
        "id": "WXloPnHQynSZ"
      },
      "source": [
        "작업형 제 1유형 예시문제\n",
        "\n",
        "URL : https://www.datamanim.com/dataset/03_dataq/main_p1.html\n",
        "\n",
        "데이터셋 : https://raw.githubusercontent.com/youkyung2/dataAnalysis/master/dataq/\n"
      ]
    },
    {
      "cell_type": "markdown",
      "metadata": {
        "id": "U3bnl3o8HIgr"
      },
      "source": [
        "##### mtcars"
      ]
    },
    {
      "cell_type": "code",
      "metadata": {
        "id": "jLNxmVghxURC"
      },
      "source": [
        "import pandas as pd\n",
        "import matplotlib.pyplot as plt\n",
        "\n",
        "dataurl = 'https://raw.githubusercontent.com/youkyung2/dataAnalysis/master/dataq/'"
      ],
      "execution_count": 2,
      "outputs": []
    },
    {
      "cell_type": "code",
      "metadata": {
        "colab": {
          "base_uri": "https://localhost:8080/",
          "height": 175
        },
        "id": "hxRd3b3OxpJo",
        "outputId": "2fe38e6c-e19a-4807-9478-518911ca2149"
      },
      "source": [
        "df = pd.read_csv(dataurl+'mtcars.csv',index_col=0)\n",
        "df.head(4)"
      ],
      "execution_count": 152,
      "outputs": [
        {
          "output_type": "execute_result",
          "data": {
            "text/html": [
              "<div>\n",
              "<style scoped>\n",
              "    .dataframe tbody tr th:only-of-type {\n",
              "        vertical-align: middle;\n",
              "    }\n",
              "\n",
              "    .dataframe tbody tr th {\n",
              "        vertical-align: top;\n",
              "    }\n",
              "\n",
              "    .dataframe thead th {\n",
              "        text-align: right;\n",
              "    }\n",
              "</style>\n",
              "<table border=\"1\" class=\"dataframe\">\n",
              "  <thead>\n",
              "    <tr style=\"text-align: right;\">\n",
              "      <th></th>\n",
              "      <th>mpg</th>\n",
              "      <th>cyl</th>\n",
              "      <th>disp</th>\n",
              "      <th>hp</th>\n",
              "      <th>drat</th>\n",
              "      <th>wt</th>\n",
              "      <th>qsec</th>\n",
              "      <th>vs</th>\n",
              "      <th>am</th>\n",
              "      <th>gear</th>\n",
              "      <th>carb</th>\n",
              "    </tr>\n",
              "  </thead>\n",
              "  <tbody>\n",
              "    <tr>\n",
              "      <th>Mazda RX4</th>\n",
              "      <td>21.0</td>\n",
              "      <td>6</td>\n",
              "      <td>160.0</td>\n",
              "      <td>110</td>\n",
              "      <td>3.90</td>\n",
              "      <td>2.620</td>\n",
              "      <td>16.46</td>\n",
              "      <td>0</td>\n",
              "      <td>1</td>\n",
              "      <td>4</td>\n",
              "      <td>4</td>\n",
              "    </tr>\n",
              "    <tr>\n",
              "      <th>Mazda RX4 Wag</th>\n",
              "      <td>21.0</td>\n",
              "      <td>6</td>\n",
              "      <td>160.0</td>\n",
              "      <td>110</td>\n",
              "      <td>3.90</td>\n",
              "      <td>2.875</td>\n",
              "      <td>17.02</td>\n",
              "      <td>0</td>\n",
              "      <td>1</td>\n",
              "      <td>4</td>\n",
              "      <td>4</td>\n",
              "    </tr>\n",
              "    <tr>\n",
              "      <th>Datsun 710</th>\n",
              "      <td>22.8</td>\n",
              "      <td>4</td>\n",
              "      <td>108.0</td>\n",
              "      <td>93</td>\n",
              "      <td>3.85</td>\n",
              "      <td>2.320</td>\n",
              "      <td>18.61</td>\n",
              "      <td>1</td>\n",
              "      <td>1</td>\n",
              "      <td>4</td>\n",
              "      <td>1</td>\n",
              "    </tr>\n",
              "    <tr>\n",
              "      <th>Hornet 4 Drive</th>\n",
              "      <td>21.4</td>\n",
              "      <td>6</td>\n",
              "      <td>258.0</td>\n",
              "      <td>110</td>\n",
              "      <td>3.08</td>\n",
              "      <td>3.215</td>\n",
              "      <td>19.44</td>\n",
              "      <td>1</td>\n",
              "      <td>0</td>\n",
              "      <td>3</td>\n",
              "      <td>1</td>\n",
              "    </tr>\n",
              "  </tbody>\n",
              "</table>\n",
              "</div>"
            ],
            "text/plain": [
              "                 mpg  cyl   disp   hp  drat     wt   qsec  vs  am  gear  carb\n",
              "Mazda RX4       21.0    6  160.0  110  3.90  2.620  16.46   0   1     4     4\n",
              "Mazda RX4 Wag   21.0    6  160.0  110  3.90  2.875  17.02   0   1     4     4\n",
              "Datsun 710      22.8    4  108.0   93  3.85  2.320  18.61   1   1     4     1\n",
              "Hornet 4 Drive  21.4    6  258.0  110  3.08  3.215  19.44   1   0     3     1"
            ]
          },
          "metadata": {
            "tags": []
          },
          "execution_count": 152
        }
      ]
    },
    {
      "cell_type": "code",
      "metadata": {
        "colab": {
          "base_uri": "https://localhost:8080/",
          "height": 143
        },
        "id": "ISpU5YOKEvvD",
        "outputId": "1135f612-e31b-4feb-baf4-6ca0a36bacf2"
      },
      "source": [
        "df2 = pd.read_csv(dataurl + 'mtcars.csv',index_col = 0)\n",
        "df2.head(3)"
      ],
      "execution_count": 154,
      "outputs": [
        {
          "output_type": "execute_result",
          "data": {
            "text/html": [
              "<div>\n",
              "<style scoped>\n",
              "    .dataframe tbody tr th:only-of-type {\n",
              "        vertical-align: middle;\n",
              "    }\n",
              "\n",
              "    .dataframe tbody tr th {\n",
              "        vertical-align: top;\n",
              "    }\n",
              "\n",
              "    .dataframe thead th {\n",
              "        text-align: right;\n",
              "    }\n",
              "</style>\n",
              "<table border=\"1\" class=\"dataframe\">\n",
              "  <thead>\n",
              "    <tr style=\"text-align: right;\">\n",
              "      <th></th>\n",
              "      <th>mpg</th>\n",
              "      <th>cyl</th>\n",
              "      <th>disp</th>\n",
              "      <th>hp</th>\n",
              "      <th>drat</th>\n",
              "      <th>wt</th>\n",
              "      <th>qsec</th>\n",
              "      <th>vs</th>\n",
              "      <th>am</th>\n",
              "      <th>gear</th>\n",
              "      <th>carb</th>\n",
              "    </tr>\n",
              "  </thead>\n",
              "  <tbody>\n",
              "    <tr>\n",
              "      <th>Mazda RX4</th>\n",
              "      <td>21.0</td>\n",
              "      <td>6</td>\n",
              "      <td>160.0</td>\n",
              "      <td>110</td>\n",
              "      <td>3.90</td>\n",
              "      <td>2.620</td>\n",
              "      <td>16.46</td>\n",
              "      <td>0</td>\n",
              "      <td>1</td>\n",
              "      <td>4</td>\n",
              "      <td>4</td>\n",
              "    </tr>\n",
              "    <tr>\n",
              "      <th>Mazda RX4 Wag</th>\n",
              "      <td>21.0</td>\n",
              "      <td>6</td>\n",
              "      <td>160.0</td>\n",
              "      <td>110</td>\n",
              "      <td>3.90</td>\n",
              "      <td>2.875</td>\n",
              "      <td>17.02</td>\n",
              "      <td>0</td>\n",
              "      <td>1</td>\n",
              "      <td>4</td>\n",
              "      <td>4</td>\n",
              "    </tr>\n",
              "    <tr>\n",
              "      <th>Datsun 710</th>\n",
              "      <td>22.8</td>\n",
              "      <td>4</td>\n",
              "      <td>108.0</td>\n",
              "      <td>93</td>\n",
              "      <td>3.85</td>\n",
              "      <td>2.320</td>\n",
              "      <td>18.61</td>\n",
              "      <td>1</td>\n",
              "      <td>1</td>\n",
              "      <td>4</td>\n",
              "      <td>1</td>\n",
              "    </tr>\n",
              "  </tbody>\n",
              "</table>\n",
              "</div>"
            ],
            "text/plain": [
              "                mpg  cyl   disp   hp  drat     wt   qsec  vs  am  gear  carb\n",
              "Mazda RX4      21.0    6  160.0  110  3.90  2.620  16.46   0   1     4     4\n",
              "Mazda RX4 Wag  21.0    6  160.0  110  3.90  2.875  17.02   0   1     4     4\n",
              "Datsun 710     22.8    4  108.0   93  3.85  2.320  18.61   1   1     4     1"
            ]
          },
          "metadata": {
            "tags": []
          },
          "execution_count": 154
        }
      ]
    },
    {
      "cell_type": "code",
      "metadata": {
        "colab": {
          "base_uri": "https://localhost:8080/"
        },
        "id": "dNaonLAlE3wX",
        "outputId": "56c15abc-097a-4a1c-c83e-0ffc290ad23d"
      },
      "source": [
        "df.index"
      ],
      "execution_count": 156,
      "outputs": [
        {
          "output_type": "execute_result",
          "data": {
            "text/plain": [
              "Index(['Mazda RX4', 'Mazda RX4 Wag', 'Datsun 710', 'Hornet 4 Drive',\n",
              "       'Hornet Sportabout', 'Valiant', 'Duster 360', 'Merc 240D', 'Merc 230',\n",
              "       'Merc 280', 'Merc 280C', 'Merc 450SE', 'Merc 450SL', 'Merc 450SLC',\n",
              "       'Cadillac Fleetwood', 'Lincoln Continental', 'Chrysler Imperial',\n",
              "       'Fiat 128', 'Honda Civic', 'Toyota Corolla', 'Toyota Corona',\n",
              "       'Dodge Challenger', 'AMC Javelin', 'Camaro Z28', 'Pontiac Firebird',\n",
              "       'Fiat X1-9', 'Porsche 914-2', 'Lotus Europa', 'Ford Pantera L',\n",
              "       'Ferrari Dino', 'Maserati Bora', 'Volvo 142E'],\n",
              "      dtype='object')"
            ]
          },
          "metadata": {
            "tags": []
          },
          "execution_count": 156
        }
      ]
    },
    {
      "cell_type": "code",
      "metadata": {
        "id": "-juZbgdXz4sv"
      },
      "source": [
        "df.qsec"
      ],
      "execution_count": null,
      "outputs": []
    },
    {
      "cell_type": "code",
      "metadata": {
        "colab": {
          "base_uri": "https://localhost:8080/"
        },
        "id": "v3WEGceezGFM",
        "outputId": "d1eeda71-fc5b-4bdc-f65a-c249adbb7872"
      },
      "source": [
        "import sklearn.preprocessing\n",
        "dir(sklearn.preprocessing)[:10]"
      ],
      "execution_count": 8,
      "outputs": [
        {
          "output_type": "execute_result",
          "data": {
            "text/plain": [
              "['Binarizer',\n",
              " 'FunctionTransformer',\n",
              " 'KBinsDiscretizer',\n",
              " 'KernelCenterer',\n",
              " 'LabelBinarizer',\n",
              " 'LabelEncoder',\n",
              " 'MaxAbsScaler',\n",
              " 'MinMaxScaler',\n",
              " 'MultiLabelBinarizer',\n",
              " 'Normalizer']"
            ]
          },
          "metadata": {
            "tags": []
          },
          "execution_count": 8
        }
      ]
    },
    {
      "cell_type": "code",
      "metadata": {
        "id": "i-4r8xGpzWAF"
      },
      "source": [
        "from sklearn.preprocessing import MinMaxScaler"
      ],
      "execution_count": 12,
      "outputs": []
    },
    {
      "cell_type": "code",
      "metadata": {
        "id": "YLGXhYGTz0B-"
      },
      "source": [
        "sc = MinMaxScaler()"
      ],
      "execution_count": 13,
      "outputs": []
    },
    {
      "cell_type": "code",
      "metadata": {
        "colab": {
          "base_uri": "https://localhost:8080/"
        },
        "id": "QPqha4F-2hg2",
        "outputId": "3efc0970-33a6-470c-e38d-d2eadb1eb405"
      },
      "source": [
        "testfit = sc.fit(df.qsec.to_numpy().reshape(-1,1))\n",
        "testtrans = testfit.transform(df.qsec.to_numpy().reshape(-1,1))\n",
        "testtrans"
      ],
      "execution_count": 33,
      "outputs": [
        {
          "output_type": "execute_result",
          "data": {
            "text/plain": [
              "array([[0.23333333],\n",
              "       [0.3       ],\n",
              "       [0.48928571],\n",
              "       [0.58809524],\n",
              "       [0.3       ],\n",
              "       [0.68095238],\n",
              "       [0.15952381],\n",
              "       [0.6547619 ],\n",
              "       [1.        ],\n",
              "       [0.45238095],\n",
              "       [0.52380952],\n",
              "       [0.3452381 ],\n",
              "       [0.36904762],\n",
              "       [0.41666667],\n",
              "       [0.41428571],\n",
              "       [0.3952381 ],\n",
              "       [0.34761905],\n",
              "       [0.59166667],\n",
              "       [0.47857143],\n",
              "       [0.64285714],\n",
              "       [0.65595238],\n",
              "       [0.28214286],\n",
              "       [0.33333333],\n",
              "       [0.10833333],\n",
              "       [0.30357143],\n",
              "       [0.52380952],\n",
              "       [0.26190476],\n",
              "       [0.28571429],\n",
              "       [0.        ],\n",
              "       [0.11904762],\n",
              "       [0.01190476],\n",
              "       [0.48809524]])"
            ]
          },
          "metadata": {
            "tags": []
          },
          "execution_count": 33
        }
      ]
    },
    {
      "cell_type": "code",
      "metadata": {
        "colab": {
          "base_uri": "https://localhost:8080/"
        },
        "id": "azrwGA2j3OSL",
        "outputId": "aa2cec0a-200a-4173-b1fb-89bb4c9bb654"
      },
      "source": [
        "sc.fit(df.qsec.to_numpy().reshape(-1,1))\n",
        "testtrans = sc.transform(df.qsec.to_numpy().reshape(-1,1))\n",
        "testtrans"
      ],
      "execution_count": 34,
      "outputs": [
        {
          "output_type": "execute_result",
          "data": {
            "text/plain": [
              "array([[0.23333333],\n",
              "       [0.3       ],\n",
              "       [0.48928571],\n",
              "       [0.58809524],\n",
              "       [0.3       ],\n",
              "       [0.68095238],\n",
              "       [0.15952381],\n",
              "       [0.6547619 ],\n",
              "       [1.        ],\n",
              "       [0.45238095],\n",
              "       [0.52380952],\n",
              "       [0.3452381 ],\n",
              "       [0.36904762],\n",
              "       [0.41666667],\n",
              "       [0.41428571],\n",
              "       [0.3952381 ],\n",
              "       [0.34761905],\n",
              "       [0.59166667],\n",
              "       [0.47857143],\n",
              "       [0.64285714],\n",
              "       [0.65595238],\n",
              "       [0.28214286],\n",
              "       [0.33333333],\n",
              "       [0.10833333],\n",
              "       [0.30357143],\n",
              "       [0.52380952],\n",
              "       [0.26190476],\n",
              "       [0.28571429],\n",
              "       [0.        ],\n",
              "       [0.11904762],\n",
              "       [0.01190476],\n",
              "       [0.48809524]])"
            ]
          },
          "metadata": {
            "tags": []
          },
          "execution_count": 34
        }
      ]
    },
    {
      "cell_type": "code",
      "metadata": {
        "colab": {
          "base_uri": "https://localhost:8080/"
        },
        "id": "NF0fn1HZz9qP",
        "outputId": "311238ea-ece4-4ae3-9f0a-c03a9f022788"
      },
      "source": [
        "test = sc.fit_transform(df.qsec.to_numpy().reshape(-1,1))\n",
        "test"
      ],
      "execution_count": 28,
      "outputs": [
        {
          "output_type": "execute_result",
          "data": {
            "text/plain": [
              "array([[0.23333333],\n",
              "       [0.3       ],\n",
              "       [0.48928571],\n",
              "       [0.58809524],\n",
              "       [0.3       ],\n",
              "       [0.68095238],\n",
              "       [0.15952381],\n",
              "       [0.6547619 ],\n",
              "       [1.        ],\n",
              "       [0.45238095],\n",
              "       [0.52380952],\n",
              "       [0.3452381 ],\n",
              "       [0.36904762],\n",
              "       [0.41666667],\n",
              "       [0.41428571],\n",
              "       [0.3952381 ],\n",
              "       [0.34761905],\n",
              "       [0.59166667],\n",
              "       [0.47857143],\n",
              "       [0.64285714],\n",
              "       [0.65595238],\n",
              "       [0.28214286],\n",
              "       [0.33333333],\n",
              "       [0.10833333],\n",
              "       [0.30357143],\n",
              "       [0.52380952],\n",
              "       [0.26190476],\n",
              "       [0.28571429],\n",
              "       [0.        ],\n",
              "       [0.11904762],\n",
              "       [0.01190476],\n",
              "       [0.48809524]])"
            ]
          },
          "metadata": {
            "tags": []
          },
          "execution_count": 28
        }
      ]
    },
    {
      "cell_type": "code",
      "metadata": {
        "colab": {
          "base_uri": "https://localhost:8080/"
        },
        "id": "rb8MoFfj0_fQ",
        "outputId": "c76068b8-65a1-4836-fd03-725aa926aed5"
      },
      "source": [
        "len(test[test>=0.5])"
      ],
      "execution_count": 32,
      "outputs": [
        {
          "output_type": "execute_result",
          "data": {
            "text/plain": [
              "9"
            ]
          },
          "metadata": {
            "tags": []
          },
          "execution_count": 32
        }
      ]
    },
    {
      "cell_type": "code",
      "metadata": {
        "colab": {
          "base_uri": "https://localhost:8080/"
        },
        "id": "8jKWdLl20uBb",
        "outputId": "a949d29e-b81e-4473-de94-c1391ffd0062"
      },
      "source": [
        "df.qsec.to_numpy().reshape(-1,1)"
      ],
      "execution_count": 23,
      "outputs": [
        {
          "output_type": "execute_result",
          "data": {
            "text/plain": [
              "array([[16.46],\n",
              "       [17.02],\n",
              "       [18.61],\n",
              "       [19.44],\n",
              "       [17.02],\n",
              "       [20.22],\n",
              "       [15.84],\n",
              "       [20.  ],\n",
              "       [22.9 ],\n",
              "       [18.3 ],\n",
              "       [18.9 ],\n",
              "       [17.4 ],\n",
              "       [17.6 ],\n",
              "       [18.  ],\n",
              "       [17.98],\n",
              "       [17.82],\n",
              "       [17.42],\n",
              "       [19.47],\n",
              "       [18.52],\n",
              "       [19.9 ],\n",
              "       [20.01],\n",
              "       [16.87],\n",
              "       [17.3 ],\n",
              "       [15.41],\n",
              "       [17.05],\n",
              "       [18.9 ],\n",
              "       [16.7 ],\n",
              "       [16.9 ],\n",
              "       [14.5 ],\n",
              "       [15.5 ],\n",
              "       [14.6 ],\n",
              "       [18.6 ]])"
            ]
          },
          "metadata": {
            "tags": []
          },
          "execution_count": 23
        }
      ]
    },
    {
      "cell_type": "markdown",
      "metadata": {
        "id": "Nep8wibW3vlR"
      },
      "source": [
        "###. fit() vs fit_transform()\n",
        "\n",
        "url : https://www.inflearn.com/questions/19038"
      ]
    },
    {
      "cell_type": "code",
      "metadata": {
        "colab": {
          "base_uri": "https://localhost:8080/"
        },
        "id": "9ft4OkJk4VnE",
        "outputId": "4f6acad1-a44b-4285-911a-3dec24ad0f19"
      },
      "source": [
        "from sklearn.datasets import load_iris\n",
        "from sklearn.linear_model import LogisticRegression\n",
        "from sklearn.model_selection import train_test_split\n",
        "from sklearn.preprocessing import MinMaxScaler, StandardScaler\n",
        "from sklearn.metrics import accuracy_score\n",
        "\n",
        "# 붓꽃 데이터 세트를 로딩합니다.\n",
        "iris = load_iris()\n",
        "iris_data = iris.data\n",
        "iris_label = iris.target\n",
        "\n",
        "# MinMaxScaler() Scaler객체 생성.\n",
        "scaler = MinMaxScaler()\n",
        "# 학습 데이터, 테스트 데이터로 나누기 전에 fit과 transform 으로 변환. fit_transform() 도 무방. \n",
        "scaler.fit(iris.data)\n",
        "scaled_iris_data = scaler.transform(iris.data)\n",
        "\n",
        "# scale된 iris_data로 학습과 테스트 데이터를 나눔.\n",
        "X_train, X_test, y_train, y_test = train_test_split(scaled_iris_data, iris_label,\n",
        "                                                    test_size=0.2, random_state=2)\n",
        "\n",
        "lr = LogisticRegression()\n",
        "lr.fit(X_train, y_train)\n",
        "pred = lr.predict(X_test)\n",
        "print('예측 정확도: {0:.4f}'.format(accuracy_score(y_test,pred)))"
      ],
      "execution_count": 39,
      "outputs": [
        {
          "output_type": "stream",
          "text": [
            "예측 정확도: 0.9333\n"
          ],
          "name": "stdout"
        }
      ]
    },
    {
      "cell_type": "code",
      "metadata": {
        "id": "mVugwNp65c20"
      },
      "source": [
        "mtcars = pd.read_csv(dataurl+'mtcars.csv',index_col=0)"
      ],
      "execution_count": 157,
      "outputs": []
    },
    {
      "cell_type": "code",
      "metadata": {
        "id": "iZekz7gP5rVh"
      },
      "source": [
        "qsec = mtcars.qsec.to_numpy().reshape(-1,1)"
      ],
      "execution_count": 41,
      "outputs": []
    },
    {
      "cell_type": "code",
      "metadata": {
        "colab": {
          "base_uri": "https://localhost:8080/"
        },
        "id": "a1YN1-1E5vuK",
        "outputId": "2cddba51-66ce-4236-a1d0-c4e62cc9afec"
      },
      "source": [
        "from sklearn.preprocessing import MinMaxScaler\n",
        "sc = MinMaxScaler()\n",
        "sc.fit(qsec)\n",
        "transed = sc.transform(qsec)\n",
        "sum(transed>=0.5)"
      ],
      "execution_count": 46,
      "outputs": [
        {
          "output_type": "execute_result",
          "data": {
            "text/plain": [
              "array([9])"
            ]
          },
          "metadata": {
            "tags": []
          },
          "execution_count": 46
        }
      ]
    },
    {
      "cell_type": "code",
      "metadata": {
        "colab": {
          "base_uri": "https://localhost:8080/"
        },
        "id": "eCZQjF1V6bpW",
        "outputId": "db1d947e-64e6-405c-f4b6-36d34a4d2f5a"
      },
      "source": [
        "from sklearn.preprocessing import StandardScaler\n",
        "\n",
        "sc = StandardScaler()\n",
        "sc.fit(mtcars.qsec.to_numpy().reshape(-1,1))\n",
        "res = sc.transform(mtcars.qsec.to_numpy().reshape(-1,1))\n",
        "Max = max(res)\n",
        "Min = min(res)\n",
        "print(Max, Min)"
      ],
      "execution_count": 48,
      "outputs": [
        {
          "output_type": "stream",
          "text": [
            "[2.87198554] [-1.90399635]\n"
          ],
          "name": "stdout"
        }
      ]
    },
    {
      "cell_type": "code",
      "metadata": {
        "colab": {
          "base_uri": "https://localhost:8080/"
        },
        "id": "8_aVxnNW7HlZ",
        "outputId": "bc8ccfe5-85e6-401e-d3b4-2b900cddb835"
      },
      "source": [
        "sc2 = StandardScaler()\n",
        "res = sc2.fit_transform(mtcars.qsec.to_numpy().reshape(-1,1))\n",
        "Max = max(res)\n",
        "Min = min(res)\n",
        "print(Max, Min)"
      ],
      "execution_count": 49,
      "outputs": [
        {
          "output_type": "stream",
          "text": [
            "[2.87198554] [-1.90399635]\n"
          ],
          "name": "stdout"
        }
      ]
    },
    {
      "cell_type": "code",
      "metadata": {
        "id": "gtnRbQZI7MOu"
      },
      "source": [
        "import numpy as np"
      ],
      "execution_count": 50,
      "outputs": []
    },
    {
      "cell_type": "code",
      "metadata": {
        "colab": {
          "base_uri": "https://localhost:8080/"
        },
        "id": "Au39_AAh8eQt",
        "outputId": "0f0d5dec-7a83-4f1d-ae0e-892f183833de"
      },
      "source": [
        "wt = mtcars.wt\n",
        "wt"
      ],
      "execution_count": 51,
      "outputs": [
        {
          "output_type": "execute_result",
          "data": {
            "text/plain": [
              "Mazda RX4              2.620\n",
              "Mazda RX4 Wag          2.875\n",
              "Datsun 710             2.320\n",
              "Hornet 4 Drive         3.215\n",
              "Hornet Sportabout      3.440\n",
              "Valiant                3.460\n",
              "Duster 360             3.570\n",
              "Merc 240D              3.190\n",
              "Merc 230               3.150\n",
              "Merc 280               3.440\n",
              "Merc 280C              3.440\n",
              "Merc 450SE             4.070\n",
              "Merc 450SL             3.730\n",
              "Merc 450SLC            3.780\n",
              "Cadillac Fleetwood     5.250\n",
              "Lincoln Continental    5.424\n",
              "Chrysler Imperial      5.345\n",
              "Fiat 128               2.200\n",
              "Honda Civic            1.615\n",
              "Toyota Corolla         1.835\n",
              "Toyota Corona          2.465\n",
              "Dodge Challenger       3.520\n",
              "AMC Javelin            3.435\n",
              "Camaro Z28             3.840\n",
              "Pontiac Firebird       3.845\n",
              "Fiat X1-9              1.935\n",
              "Porsche 914-2          2.140\n",
              "Lotus Europa           1.513\n",
              "Ford Pantera L         3.170\n",
              "Ferrari Dino           2.770\n",
              "Maserati Bora          3.570\n",
              "Volvo 142E             2.780\n",
              "Name: wt, dtype: float64"
            ]
          },
          "metadata": {
            "tags": []
          },
          "execution_count": 51
        }
      ]
    },
    {
      "cell_type": "code",
      "metadata": {
        "id": "q4MsSGhi8iZV"
      },
      "source": [
        "IQR = wt.quantile(0.75) - wt.quantile(0.25)"
      ],
      "execution_count": 56,
      "outputs": []
    },
    {
      "cell_type": "code",
      "metadata": {
        "colab": {
          "base_uri": "https://localhost:8080/"
        },
        "id": "THuIGMs_82mh",
        "outputId": "73d6534a-81cb-4b17-d1cf-9136eb51f394"
      },
      "source": [
        "minimun = wt.quantile(0.25) - 1.5 * IQR\n",
        "maximun = wt.quantile(0.75) + 1.5 * IQR\n",
        "print(minimun, maximun)"
      ],
      "execution_count": 57,
      "outputs": [
        {
          "output_type": "stream",
          "text": [
            "1.0381249999999997 5.153125\n"
          ],
          "name": "stdout"
        }
      ]
    },
    {
      "cell_type": "code",
      "metadata": {
        "colab": {
          "base_uri": "https://localhost:8080/"
        },
        "id": "Y0Vrwhmk9oHd",
        "outputId": "ff189e4a-88a7-4b0e-d5ae-d90fbbf4e8c3"
      },
      "source": [
        "wt[(wt < minimun) | (wt > maximun)].values"
      ],
      "execution_count": 64,
      "outputs": [
        {
          "output_type": "execute_result",
          "data": {
            "text/plain": [
              "array([5.25 , 5.424, 5.345])"
            ]
          },
          "metadata": {
            "tags": []
          },
          "execution_count": 64
        }
      ]
    },
    {
      "cell_type": "code",
      "metadata": {
        "colab": {
          "base_uri": "https://localhost:8080/",
          "height": 362
        },
        "id": "QW_nupH2-EXp",
        "outputId": "205c0e9e-1889-4006-df8a-bbebfdbbba4b"
      },
      "source": [
        "mtcars.corr()['mpg'][1:].to_frame().sort_values('mpg',ascending=False)"
      ],
      "execution_count": 84,
      "outputs": [
        {
          "output_type": "execute_result",
          "data": {
            "text/html": [
              "<div>\n",
              "<style scoped>\n",
              "    .dataframe tbody tr th:only-of-type {\n",
              "        vertical-align: middle;\n",
              "    }\n",
              "\n",
              "    .dataframe tbody tr th {\n",
              "        vertical-align: top;\n",
              "    }\n",
              "\n",
              "    .dataframe thead th {\n",
              "        text-align: right;\n",
              "    }\n",
              "</style>\n",
              "<table border=\"1\" class=\"dataframe\">\n",
              "  <thead>\n",
              "    <tr style=\"text-align: right;\">\n",
              "      <th></th>\n",
              "      <th>mpg</th>\n",
              "    </tr>\n",
              "  </thead>\n",
              "  <tbody>\n",
              "    <tr>\n",
              "      <th>drat</th>\n",
              "      <td>0.681172</td>\n",
              "    </tr>\n",
              "    <tr>\n",
              "      <th>vs</th>\n",
              "      <td>0.664039</td>\n",
              "    </tr>\n",
              "    <tr>\n",
              "      <th>am</th>\n",
              "      <td>0.599832</td>\n",
              "    </tr>\n",
              "    <tr>\n",
              "      <th>gear</th>\n",
              "      <td>0.480285</td>\n",
              "    </tr>\n",
              "    <tr>\n",
              "      <th>qsec</th>\n",
              "      <td>0.418684</td>\n",
              "    </tr>\n",
              "    <tr>\n",
              "      <th>carb</th>\n",
              "      <td>-0.550925</td>\n",
              "    </tr>\n",
              "    <tr>\n",
              "      <th>hp</th>\n",
              "      <td>-0.776168</td>\n",
              "    </tr>\n",
              "    <tr>\n",
              "      <th>disp</th>\n",
              "      <td>-0.847551</td>\n",
              "    </tr>\n",
              "    <tr>\n",
              "      <th>cyl</th>\n",
              "      <td>-0.852162</td>\n",
              "    </tr>\n",
              "    <tr>\n",
              "      <th>wt</th>\n",
              "      <td>-0.867659</td>\n",
              "    </tr>\n",
              "  </tbody>\n",
              "</table>\n",
              "</div>"
            ],
            "text/plain": [
              "           mpg\n",
              "drat  0.681172\n",
              "vs    0.664039\n",
              "am    0.599832\n",
              "gear  0.480285\n",
              "qsec  0.418684\n",
              "carb -0.550925\n",
              "hp   -0.776168\n",
              "disp -0.847551\n",
              "cyl  -0.852162\n",
              "wt   -0.867659"
            ]
          },
          "metadata": {
            "tags": []
          },
          "execution_count": 84
        }
      ]
    },
    {
      "cell_type": "code",
      "metadata": {
        "id": "6uvMr9Zw_FYe"
      },
      "source": [
        "q5 = mtcars.iloc[:,1:]\n",
        "# mtcars.drop('mpg',axis = 1)"
      ],
      "execution_count": 91,
      "outputs": []
    },
    {
      "cell_type": "code",
      "metadata": {
        "colab": {
          "base_uri": "https://localhost:8080/"
        },
        "id": "6UiRU7jc_3XY",
        "outputId": "b890b274-8261-45f2-a823-d18209d05615"
      },
      "source": [
        "q5.columns"
      ],
      "execution_count": 93,
      "outputs": [
        {
          "output_type": "execute_result",
          "data": {
            "text/plain": [
              "Index(['cyl', 'disp', 'hp', 'drat', 'wt', 'qsec', 'vs', 'am', 'gear', 'carb'], dtype='object')"
            ]
          },
          "metadata": {
            "tags": []
          },
          "execution_count": 93
        }
      ]
    },
    {
      "cell_type": "code",
      "metadata": {
        "id": "1l4WrYBR_fGG"
      },
      "source": [
        "from sklearn.preprocessing import StandardScaler\n",
        "sc = StandardScaler()\n",
        "\n",
        "pcaDf = sc.fit_transform(q5)"
      ],
      "execution_count": 96,
      "outputs": []
    },
    {
      "cell_type": "code",
      "metadata": {
        "id": "7kX7glKCAO4i"
      },
      "source": [
        "from sklearn.decomposition import PCA\n",
        "\n",
        "componentsNum=10\n",
        "pca = PCA(n_components=componentsNum) \n",
        "printcipalComponents = pca.fit_transform(pcaDf)\n",
        "principalDf = pd.DataFrame(data=printcipalComponents, columns = ['component'+str(x) for x in range(componentsNum)])\n",
        "\n",
        "componentDf = pd.DataFrame(pca.explained_variance_ratio_,columns=['cumsumVariance']).cumsum().reset_index()\n",
        "componentDf['index'] +=1\n",
        "componentDf=componentDf.rename(columns={'index':'componentsCount'})"
      ],
      "execution_count": 98,
      "outputs": []
    },
    {
      "cell_type": "code",
      "metadata": {
        "colab": {
          "base_uri": "https://localhost:8080/",
          "height": 362
        },
        "id": "ZpwZ2NADBMvs",
        "outputId": "ba490b09-cd61-41b6-9e84-bcf4d8ca1711"
      },
      "source": [
        "componentDf"
      ],
      "execution_count": 99,
      "outputs": [
        {
          "output_type": "execute_result",
          "data": {
            "text/html": [
              "<div>\n",
              "<style scoped>\n",
              "    .dataframe tbody tr th:only-of-type {\n",
              "        vertical-align: middle;\n",
              "    }\n",
              "\n",
              "    .dataframe tbody tr th {\n",
              "        vertical-align: top;\n",
              "    }\n",
              "\n",
              "    .dataframe thead th {\n",
              "        text-align: right;\n",
              "    }\n",
              "</style>\n",
              "<table border=\"1\" class=\"dataframe\">\n",
              "  <thead>\n",
              "    <tr style=\"text-align: right;\">\n",
              "      <th></th>\n",
              "      <th>componentsCount</th>\n",
              "      <th>cumsumVariance</th>\n",
              "    </tr>\n",
              "  </thead>\n",
              "  <tbody>\n",
              "    <tr>\n",
              "      <th>0</th>\n",
              "      <td>1</td>\n",
              "      <td>0.576022</td>\n",
              "    </tr>\n",
              "    <tr>\n",
              "      <th>1</th>\n",
              "      <td>2</td>\n",
              "      <td>0.840986</td>\n",
              "    </tr>\n",
              "    <tr>\n",
              "      <th>2</th>\n",
              "      <td>3</td>\n",
              "      <td>0.900708</td>\n",
              "    </tr>\n",
              "    <tr>\n",
              "      <th>3</th>\n",
              "      <td>4</td>\n",
              "      <td>0.927658</td>\n",
              "    </tr>\n",
              "    <tr>\n",
              "      <th>4</th>\n",
              "      <td>5</td>\n",
              "      <td>0.949883</td>\n",
              "    </tr>\n",
              "    <tr>\n",
              "      <th>5</th>\n",
              "      <td>6</td>\n",
              "      <td>0.970895</td>\n",
              "    </tr>\n",
              "    <tr>\n",
              "      <th>6</th>\n",
              "      <td>7</td>\n",
              "      <td>0.984187</td>\n",
              "    </tr>\n",
              "    <tr>\n",
              "      <th>7</th>\n",
              "      <td>8</td>\n",
              "      <td>0.992255</td>\n",
              "    </tr>\n",
              "    <tr>\n",
              "      <th>8</th>\n",
              "      <td>9</td>\n",
              "      <td>0.997620</td>\n",
              "    </tr>\n",
              "    <tr>\n",
              "      <th>9</th>\n",
              "      <td>10</td>\n",
              "      <td>1.000000</td>\n",
              "    </tr>\n",
              "  </tbody>\n",
              "</table>\n",
              "</div>"
            ],
            "text/plain": [
              "   componentsCount  cumsumVariance\n",
              "0                1        0.576022\n",
              "1                2        0.840986\n",
              "2                3        0.900708\n",
              "3                4        0.927658\n",
              "4                5        0.949883\n",
              "5                6        0.970895\n",
              "6                7        0.984187\n",
              "7                8        0.992255\n",
              "8                9        0.997620\n",
              "9               10        1.000000"
            ]
          },
          "metadata": {
            "tags": []
          },
          "execution_count": 99
        }
      ]
    },
    {
      "cell_type": "code",
      "metadata": {
        "colab": {
          "base_uri": "https://localhost:8080/"
        },
        "id": "ZrTRtVQUBTRg",
        "outputId": "d476bf93-763e-4be4-c8a9-ca988cdad1e6"
      },
      "source": [
        "mtcars.index"
      ],
      "execution_count": 159,
      "outputs": [
        {
          "output_type": "execute_result",
          "data": {
            "text/plain": [
              "Index(['Mazda RX4', 'Mazda RX4 Wag', 'Datsun 710', 'Hornet 4 Drive',\n",
              "       'Hornet Sportabout', 'Valiant', 'Duster 360', 'Merc 240D', 'Merc 230',\n",
              "       'Merc 280', 'Merc 280C', 'Merc 450SE', 'Merc 450SL', 'Merc 450SLC',\n",
              "       'Cadillac Fleetwood', 'Lincoln Continental', 'Chrysler Imperial',\n",
              "       'Fiat 128', 'Honda Civic', 'Toyota Corolla', 'Toyota Corona',\n",
              "       'Dodge Challenger', 'AMC Javelin', 'Camaro Z28', 'Pontiac Firebird',\n",
              "       'Fiat X1-9', 'Porsche 914-2', 'Lotus Europa', 'Ford Pantera L',\n",
              "       'Ferrari Dino', 'Maserati Bora', 'Volvo 142E'],\n",
              "      dtype='object')"
            ]
          },
          "metadata": {
            "tags": []
          },
          "execution_count": 159
        }
      ]
    },
    {
      "cell_type": "code",
      "metadata": {
        "colab": {
          "base_uri": "https://localhost:8080/",
          "height": 36
        },
        "id": "C0jzR57jBpks",
        "outputId": "6d90a8ad-4d84-4455-ecd8-8f4d7ef78244"
      },
      "source": [
        "test = mtcars.reset_index()\n",
        "test['index'].isnull().sum()\n",
        "test['index'][0].split(' ')[0]"
      ],
      "execution_count": 114,
      "outputs": [
        {
          "output_type": "execute_result",
          "data": {
            "application/vnd.google.colaboratory.intrinsic+json": {
              "type": "string"
            },
            "text/plain": [
              "'Mazda'"
            ]
          },
          "metadata": {
            "tags": []
          },
          "execution_count": 114
        }
      ]
    },
    {
      "cell_type": "code",
      "metadata": {
        "colab": {
          "base_uri": "https://localhost:8080/"
        },
        "id": "RDRV9MkTDDmo",
        "outputId": "136b48dd-6341-4c9d-f3e5-7001f9da2d77"
      },
      "source": [
        "pd.DataFrame(list(mtcars.index.str.split(' ')))[0].values"
      ],
      "execution_count": 158,
      "outputs": [
        {
          "output_type": "execute_result",
          "data": {
            "text/plain": [
              "array(['Mazda', 'Mazda', 'Datsun', 'Hornet', 'Hornet', 'Valiant',\n",
              "       'Duster', 'Merc', 'Merc', 'Merc', 'Merc', 'Merc', 'Merc', 'Merc',\n",
              "       'Cadillac', 'Lincoln', 'Chrysler', 'Fiat', 'Honda', 'Toyota',\n",
              "       'Toyota', 'Dodge', 'AMC', 'Camaro', 'Pontiac', 'Fiat', 'Porsche',\n",
              "       'Lotus', 'Ford', 'Ferrari', 'Maserati', 'Volvo'], dtype=object)"
            ]
          },
          "metadata": {
            "tags": []
          },
          "execution_count": 158
        }
      ]
    },
    {
      "cell_type": "code",
      "metadata": {
        "id": "ZsPWkAQ1CIHA"
      },
      "source": [
        "mtcars['brand'] = pd.DataFrame(list(mtcars.index.str.split(' ')))[0].values"
      ],
      "execution_count": 133,
      "outputs": []
    },
    {
      "cell_type": "code",
      "metadata": {
        "colab": {
          "base_uri": "https://localhost:8080/"
        },
        "id": "lhx8-IqjGY8y",
        "outputId": "05394d5f-c7a1-4e2a-c340-6b4fe8a16bc1"
      },
      "source": [
        "mtcars['brand'] = pd.DataFrame(test['index'].apply(lambda x : x.split(' ')[0]))['index'].values\n",
        "mtcars['brand']"
      ],
      "execution_count": 188,
      "outputs": [
        {
          "output_type": "execute_result",
          "data": {
            "text/plain": [
              "Mazda RX4                 Mazda\n",
              "Mazda RX4 Wag             Mazda\n",
              "Datsun 710               Datsun\n",
              "Hornet 4 Drive           Hornet\n",
              "Hornet Sportabout        Hornet\n",
              "Valiant                 Valiant\n",
              "Duster 360               Duster\n",
              "Merc 240D                  Merc\n",
              "Merc 230                   Merc\n",
              "Merc 280                   Merc\n",
              "Merc 280C                  Merc\n",
              "Merc 450SE                 Merc\n",
              "Merc 450SL                 Merc\n",
              "Merc 450SLC                Merc\n",
              "Cadillac Fleetwood     Cadillac\n",
              "Lincoln Continental     Lincoln\n",
              "Chrysler Imperial      Chrysler\n",
              "Fiat 128                   Fiat\n",
              "Honda Civic               Honda\n",
              "Toyota Corolla           Toyota\n",
              "Toyota Corona            Toyota\n",
              "Dodge Challenger          Dodge\n",
              "AMC Javelin                 AMC\n",
              "Camaro Z28               Camaro\n",
              "Pontiac Firebird        Pontiac\n",
              "Fiat X1-9                  Fiat\n",
              "Porsche 914-2           Porsche\n",
              "Lotus Europa              Lotus\n",
              "Ford Pantera L             Ford\n",
              "Ferrari Dino            Ferrari\n",
              "Maserati Bora          Maserati\n",
              "Volvo 142E                Volvo\n",
              "Name: brand, dtype: object"
            ]
          },
          "metadata": {
            "tags": []
          },
          "execution_count": 188
        }
      ]
    },
    {
      "cell_type": "code",
      "metadata": {
        "colab": {
          "base_uri": "https://localhost:8080/"
        },
        "id": "vIDqPRBtCd0e",
        "outputId": "e58f467f-ced3-4066-ea28-84ec25642580"
      },
      "source": [
        "mtcars['brand'] = pd.DataFrame(test['index'].apply(lambda x : x.split(' ')[0]))\n",
        "mtcars['brand']"
      ],
      "execution_count": 182,
      "outputs": [
        {
          "output_type": "execute_result",
          "data": {
            "text/plain": [
              "Mazda RX4              NaN\n",
              "Mazda RX4 Wag          NaN\n",
              "Datsun 710             NaN\n",
              "Hornet 4 Drive         NaN\n",
              "Hornet Sportabout      NaN\n",
              "Valiant                NaN\n",
              "Duster 360             NaN\n",
              "Merc 240D              NaN\n",
              "Merc 230               NaN\n",
              "Merc 280               NaN\n",
              "Merc 280C              NaN\n",
              "Merc 450SE             NaN\n",
              "Merc 450SL             NaN\n",
              "Merc 450SLC            NaN\n",
              "Cadillac Fleetwood     NaN\n",
              "Lincoln Continental    NaN\n",
              "Chrysler Imperial      NaN\n",
              "Fiat 128               NaN\n",
              "Honda Civic            NaN\n",
              "Toyota Corolla         NaN\n",
              "Toyota Corona          NaN\n",
              "Dodge Challenger       NaN\n",
              "AMC Javelin            NaN\n",
              "Camaro Z28             NaN\n",
              "Pontiac Firebird       NaN\n",
              "Fiat X1-9              NaN\n",
              "Porsche 914-2          NaN\n",
              "Lotus Europa           NaN\n",
              "Ford Pantera L         NaN\n",
              "Ferrari Dino           NaN\n",
              "Maserati Bora          NaN\n",
              "Volvo 142E             NaN\n",
              "Name: brand, dtype: object"
            ]
          },
          "metadata": {
            "tags": []
          },
          "execution_count": 182
        }
      ]
    },
    {
      "cell_type": "code",
      "metadata": {
        "colab": {
          "base_uri": "https://localhost:8080/"
        },
        "id": "WXwsqIqNFx5s",
        "outputId": "2e7e333e-ff82-468b-82ec-152c8474730d"
      },
      "source": [
        "test['index']"
      ],
      "execution_count": 175,
      "outputs": [
        {
          "output_type": "execute_result",
          "data": {
            "text/plain": [
              "0               Mazda RX4\n",
              "1           Mazda RX4 Wag\n",
              "2              Datsun 710\n",
              "3          Hornet 4 Drive\n",
              "4       Hornet Sportabout\n",
              "5                 Valiant\n",
              "6              Duster 360\n",
              "7               Merc 240D\n",
              "8                Merc 230\n",
              "9                Merc 280\n",
              "10              Merc 280C\n",
              "11             Merc 450SE\n",
              "12             Merc 450SL\n",
              "13            Merc 450SLC\n",
              "14     Cadillac Fleetwood\n",
              "15    Lincoln Continental\n",
              "16      Chrysler Imperial\n",
              "17               Fiat 128\n",
              "18            Honda Civic\n",
              "19         Toyota Corolla\n",
              "20          Toyota Corona\n",
              "21       Dodge Challenger\n",
              "22            AMC Javelin\n",
              "23             Camaro Z28\n",
              "24       Pontiac Firebird\n",
              "25              Fiat X1-9\n",
              "26          Porsche 914-2\n",
              "27           Lotus Europa\n",
              "28         Ford Pantera L\n",
              "29           Ferrari Dino\n",
              "30          Maserati Bora\n",
              "31             Volvo 142E\n",
              "Name: index, dtype: object"
            ]
          },
          "metadata": {
            "tags": []
          },
          "execution_count": 175
        }
      ]
    },
    {
      "cell_type": "code",
      "metadata": {
        "colab": {
          "base_uri": "https://localhost:8080/",
          "height": 366
        },
        "id": "L4jFYcZ8Dqlk",
        "outputId": "2a646497-a970-4132-c7e3-84b5acde82d6"
      },
      "source": [
        "mtcars['brand'] = test['index'].apply(lambda x : x.split(' ')[0]).to_frame().values.reshape(1,32)"
      ],
      "execution_count": 166,
      "outputs": [
        {
          "output_type": "error",
          "ename": "ValueError",
          "evalue": "ignored",
          "traceback": [
            "\u001b[0;31m---------------------------------------------------------------------------\u001b[0m",
            "\u001b[0;31mValueError\u001b[0m                                Traceback (most recent call last)",
            "\u001b[0;32m<ipython-input-166-3a563094728c>\u001b[0m in \u001b[0;36m<module>\u001b[0;34m()\u001b[0m\n\u001b[0;32m----> 1\u001b[0;31m \u001b[0mmtcars\u001b[0m\u001b[0;34m[\u001b[0m\u001b[0;34m'brand'\u001b[0m\u001b[0;34m]\u001b[0m \u001b[0;34m=\u001b[0m \u001b[0mtest\u001b[0m\u001b[0;34m[\u001b[0m\u001b[0;34m'index'\u001b[0m\u001b[0;34m]\u001b[0m\u001b[0;34m.\u001b[0m\u001b[0mapply\u001b[0m\u001b[0;34m(\u001b[0m\u001b[0;32mlambda\u001b[0m \u001b[0mx\u001b[0m \u001b[0;34m:\u001b[0m \u001b[0mx\u001b[0m\u001b[0;34m.\u001b[0m\u001b[0msplit\u001b[0m\u001b[0;34m(\u001b[0m\u001b[0;34m' '\u001b[0m\u001b[0;34m)\u001b[0m\u001b[0;34m[\u001b[0m\u001b[0;36m0\u001b[0m\u001b[0;34m]\u001b[0m\u001b[0;34m)\u001b[0m\u001b[0;34m.\u001b[0m\u001b[0mto_frame\u001b[0m\u001b[0;34m(\u001b[0m\u001b[0;34m)\u001b[0m\u001b[0;34m.\u001b[0m\u001b[0mvalues\u001b[0m\u001b[0;34m.\u001b[0m\u001b[0mreshape\u001b[0m\u001b[0;34m(\u001b[0m\u001b[0;36m1\u001b[0m\u001b[0;34m,\u001b[0m\u001b[0;36m32\u001b[0m\u001b[0;34m)\u001b[0m\u001b[0;34m\u001b[0m\u001b[0;34m\u001b[0m\u001b[0m\n\u001b[0m",
            "\u001b[0;32m/usr/local/lib/python3.7/dist-packages/pandas/core/frame.py\u001b[0m in \u001b[0;36m__setitem__\u001b[0;34m(self, key, value)\u001b[0m\n\u001b[1;32m   3042\u001b[0m         \u001b[0;32melse\u001b[0m\u001b[0;34m:\u001b[0m\u001b[0;34m\u001b[0m\u001b[0;34m\u001b[0m\u001b[0m\n\u001b[1;32m   3043\u001b[0m             \u001b[0;31m# set column\u001b[0m\u001b[0;34m\u001b[0m\u001b[0;34m\u001b[0m\u001b[0;34m\u001b[0m\u001b[0m\n\u001b[0;32m-> 3044\u001b[0;31m             \u001b[0mself\u001b[0m\u001b[0;34m.\u001b[0m\u001b[0m_set_item\u001b[0m\u001b[0;34m(\u001b[0m\u001b[0mkey\u001b[0m\u001b[0;34m,\u001b[0m \u001b[0mvalue\u001b[0m\u001b[0;34m)\u001b[0m\u001b[0;34m\u001b[0m\u001b[0;34m\u001b[0m\u001b[0m\n\u001b[0m\u001b[1;32m   3045\u001b[0m \u001b[0;34m\u001b[0m\u001b[0m\n\u001b[1;32m   3046\u001b[0m     \u001b[0;32mdef\u001b[0m \u001b[0m_setitem_slice\u001b[0m\u001b[0;34m(\u001b[0m\u001b[0mself\u001b[0m\u001b[0;34m,\u001b[0m \u001b[0mkey\u001b[0m\u001b[0;34m:\u001b[0m \u001b[0mslice\u001b[0m\u001b[0;34m,\u001b[0m \u001b[0mvalue\u001b[0m\u001b[0;34m)\u001b[0m\u001b[0;34m:\u001b[0m\u001b[0;34m\u001b[0m\u001b[0;34m\u001b[0m\u001b[0m\n",
            "\u001b[0;32m/usr/local/lib/python3.7/dist-packages/pandas/core/frame.py\u001b[0m in \u001b[0;36m_set_item\u001b[0;34m(self, key, value)\u001b[0m\n\u001b[1;32m   3118\u001b[0m         \"\"\"\n\u001b[1;32m   3119\u001b[0m         \u001b[0mself\u001b[0m\u001b[0;34m.\u001b[0m\u001b[0m_ensure_valid_index\u001b[0m\u001b[0;34m(\u001b[0m\u001b[0mvalue\u001b[0m\u001b[0;34m)\u001b[0m\u001b[0;34m\u001b[0m\u001b[0;34m\u001b[0m\u001b[0m\n\u001b[0;32m-> 3120\u001b[0;31m         \u001b[0mvalue\u001b[0m \u001b[0;34m=\u001b[0m \u001b[0mself\u001b[0m\u001b[0;34m.\u001b[0m\u001b[0m_sanitize_column\u001b[0m\u001b[0;34m(\u001b[0m\u001b[0mkey\u001b[0m\u001b[0;34m,\u001b[0m \u001b[0mvalue\u001b[0m\u001b[0;34m)\u001b[0m\u001b[0;34m\u001b[0m\u001b[0;34m\u001b[0m\u001b[0m\n\u001b[0m\u001b[1;32m   3121\u001b[0m         \u001b[0mNDFrame\u001b[0m\u001b[0;34m.\u001b[0m\u001b[0m_set_item\u001b[0m\u001b[0;34m(\u001b[0m\u001b[0mself\u001b[0m\u001b[0;34m,\u001b[0m \u001b[0mkey\u001b[0m\u001b[0;34m,\u001b[0m \u001b[0mvalue\u001b[0m\u001b[0;34m)\u001b[0m\u001b[0;34m\u001b[0m\u001b[0;34m\u001b[0m\u001b[0m\n\u001b[1;32m   3122\u001b[0m \u001b[0;34m\u001b[0m\u001b[0m\n",
            "\u001b[0;32m/usr/local/lib/python3.7/dist-packages/pandas/core/frame.py\u001b[0m in \u001b[0;36m_sanitize_column\u001b[0;34m(self, key, value, broadcast)\u001b[0m\n\u001b[1;32m   3766\u001b[0m \u001b[0;34m\u001b[0m\u001b[0m\n\u001b[1;32m   3767\u001b[0m             \u001b[0;31m# turn me into an ndarray\u001b[0m\u001b[0;34m\u001b[0m\u001b[0;34m\u001b[0m\u001b[0;34m\u001b[0m\u001b[0m\n\u001b[0;32m-> 3768\u001b[0;31m             \u001b[0mvalue\u001b[0m \u001b[0;34m=\u001b[0m \u001b[0msanitize_index\u001b[0m\u001b[0;34m(\u001b[0m\u001b[0mvalue\u001b[0m\u001b[0;34m,\u001b[0m \u001b[0mself\u001b[0m\u001b[0;34m.\u001b[0m\u001b[0mindex\u001b[0m\u001b[0;34m)\u001b[0m\u001b[0;34m\u001b[0m\u001b[0;34m\u001b[0m\u001b[0m\n\u001b[0m\u001b[1;32m   3769\u001b[0m             \u001b[0;32mif\u001b[0m \u001b[0;32mnot\u001b[0m \u001b[0misinstance\u001b[0m\u001b[0;34m(\u001b[0m\u001b[0mvalue\u001b[0m\u001b[0;34m,\u001b[0m \u001b[0;34m(\u001b[0m\u001b[0mnp\u001b[0m\u001b[0;34m.\u001b[0m\u001b[0mndarray\u001b[0m\u001b[0;34m,\u001b[0m \u001b[0mIndex\u001b[0m\u001b[0;34m)\u001b[0m\u001b[0;34m)\u001b[0m\u001b[0;34m:\u001b[0m\u001b[0;34m\u001b[0m\u001b[0;34m\u001b[0m\u001b[0m\n\u001b[1;32m   3770\u001b[0m                 \u001b[0;32mif\u001b[0m \u001b[0misinstance\u001b[0m\u001b[0;34m(\u001b[0m\u001b[0mvalue\u001b[0m\u001b[0;34m,\u001b[0m \u001b[0mlist\u001b[0m\u001b[0;34m)\u001b[0m \u001b[0;32mand\u001b[0m \u001b[0mlen\u001b[0m\u001b[0;34m(\u001b[0m\u001b[0mvalue\u001b[0m\u001b[0;34m)\u001b[0m \u001b[0;34m>\u001b[0m \u001b[0;36m0\u001b[0m\u001b[0;34m:\u001b[0m\u001b[0;34m\u001b[0m\u001b[0;34m\u001b[0m\u001b[0m\n",
            "\u001b[0;32m/usr/local/lib/python3.7/dist-packages/pandas/core/internals/construction.py\u001b[0m in \u001b[0;36msanitize_index\u001b[0;34m(data, index)\u001b[0m\n\u001b[1;32m    746\u001b[0m     \u001b[0;32mif\u001b[0m \u001b[0mlen\u001b[0m\u001b[0;34m(\u001b[0m\u001b[0mdata\u001b[0m\u001b[0;34m)\u001b[0m \u001b[0;34m!=\u001b[0m \u001b[0mlen\u001b[0m\u001b[0;34m(\u001b[0m\u001b[0mindex\u001b[0m\u001b[0;34m)\u001b[0m\u001b[0;34m:\u001b[0m\u001b[0;34m\u001b[0m\u001b[0;34m\u001b[0m\u001b[0m\n\u001b[1;32m    747\u001b[0m         raise ValueError(\n\u001b[0;32m--> 748\u001b[0;31m             \u001b[0;34m\"Length of values \"\u001b[0m\u001b[0;34m\u001b[0m\u001b[0;34m\u001b[0m\u001b[0m\n\u001b[0m\u001b[1;32m    749\u001b[0m             \u001b[0;34mf\"({len(data)}) \"\u001b[0m\u001b[0;34m\u001b[0m\u001b[0;34m\u001b[0m\u001b[0m\n\u001b[1;32m    750\u001b[0m             \u001b[0;34m\"does not match length of index \"\u001b[0m\u001b[0;34m\u001b[0m\u001b[0;34m\u001b[0m\u001b[0m\n",
            "\u001b[0;31mValueError\u001b[0m: Length of values (1) does not match length of index (32)"
          ]
        }
      ]
    },
    {
      "cell_type": "code",
      "metadata": {
        "colab": {
          "base_uri": "https://localhost:8080/"
        },
        "id": "qkbngNmxCg1w",
        "outputId": "c6e3f012-a004-4624-d200-b31e314cc5d3"
      },
      "source": [
        "len(mtcars)"
      ],
      "execution_count": 119,
      "outputs": [
        {
          "output_type": "execute_result",
          "data": {
            "text/plain": [
              "32"
            ]
          },
          "metadata": {
            "tags": []
          },
          "execution_count": 119
        }
      ]
    },
    {
      "cell_type": "code",
      "metadata": {
        "colab": {
          "base_uri": "https://localhost:8080/",
          "height": 143
        },
        "id": "A_2of_p_CWpZ",
        "outputId": "426cfce0-9fa2-4406-83cf-e375d2de8a0d"
      },
      "source": [
        "mtcars.head(3)"
      ],
      "execution_count": 173,
      "outputs": [
        {
          "output_type": "execute_result",
          "data": {
            "text/html": [
              "<div>\n",
              "<style scoped>\n",
              "    .dataframe tbody tr th:only-of-type {\n",
              "        vertical-align: middle;\n",
              "    }\n",
              "\n",
              "    .dataframe tbody tr th {\n",
              "        vertical-align: top;\n",
              "    }\n",
              "\n",
              "    .dataframe thead th {\n",
              "        text-align: right;\n",
              "    }\n",
              "</style>\n",
              "<table border=\"1\" class=\"dataframe\">\n",
              "  <thead>\n",
              "    <tr style=\"text-align: right;\">\n",
              "      <th></th>\n",
              "      <th>mpg</th>\n",
              "      <th>cyl</th>\n",
              "      <th>disp</th>\n",
              "      <th>hp</th>\n",
              "      <th>drat</th>\n",
              "      <th>wt</th>\n",
              "      <th>qsec</th>\n",
              "      <th>vs</th>\n",
              "      <th>am</th>\n",
              "      <th>gear</th>\n",
              "      <th>carb</th>\n",
              "      <th>brand</th>\n",
              "    </tr>\n",
              "  </thead>\n",
              "  <tbody>\n",
              "    <tr>\n",
              "      <th>Mazda RX4</th>\n",
              "      <td>21.0</td>\n",
              "      <td>6</td>\n",
              "      <td>160.0</td>\n",
              "      <td>110</td>\n",
              "      <td>3.90</td>\n",
              "      <td>2.620</td>\n",
              "      <td>16.46</td>\n",
              "      <td>0</td>\n",
              "      <td>1</td>\n",
              "      <td>4</td>\n",
              "      <td>4</td>\n",
              "      <td>NaN</td>\n",
              "    </tr>\n",
              "    <tr>\n",
              "      <th>Mazda RX4 Wag</th>\n",
              "      <td>21.0</td>\n",
              "      <td>6</td>\n",
              "      <td>160.0</td>\n",
              "      <td>110</td>\n",
              "      <td>3.90</td>\n",
              "      <td>2.875</td>\n",
              "      <td>17.02</td>\n",
              "      <td>0</td>\n",
              "      <td>1</td>\n",
              "      <td>4</td>\n",
              "      <td>4</td>\n",
              "      <td>NaN</td>\n",
              "    </tr>\n",
              "    <tr>\n",
              "      <th>Datsun 710</th>\n",
              "      <td>22.8</td>\n",
              "      <td>4</td>\n",
              "      <td>108.0</td>\n",
              "      <td>93</td>\n",
              "      <td>3.85</td>\n",
              "      <td>2.320</td>\n",
              "      <td>18.61</td>\n",
              "      <td>1</td>\n",
              "      <td>1</td>\n",
              "      <td>4</td>\n",
              "      <td>1</td>\n",
              "      <td>NaN</td>\n",
              "    </tr>\n",
              "  </tbody>\n",
              "</table>\n",
              "</div>"
            ],
            "text/plain": [
              "                mpg  cyl   disp   hp  drat  ...  vs  am  gear  carb  brand\n",
              "Mazda RX4      21.0    6  160.0  110  3.90  ...   0   1     4     4    NaN\n",
              "Mazda RX4 Wag  21.0    6  160.0  110  3.90  ...   0   1     4     4    NaN\n",
              "Datsun 710     22.8    4  108.0   93  3.85  ...   1   1     4     1    NaN\n",
              "\n",
              "[3 rows x 12 columns]"
            ]
          },
          "metadata": {
            "tags": []
          },
          "execution_count": 173
        }
      ]
    },
    {
      "cell_type": "code",
      "metadata": {
        "colab": {
          "base_uri": "https://localhost:8080/"
        },
        "id": "gool9HvNCx6w",
        "outputId": "0e837fd4-4a23-4ca3-a985-1e5fcd998808"
      },
      "source": [
        "mtcars.index.str"
      ],
      "execution_count": 123,
      "outputs": [
        {
          "output_type": "execute_result",
          "data": {
            "text/plain": [
              "<pandas.core.strings.StringMethods at 0x7f516b3d6250>"
            ]
          },
          "metadata": {
            "tags": []
          },
          "execution_count": 123
        }
      ]
    },
    {
      "cell_type": "markdown",
      "metadata": {
        "id": "2AHZdsr6HHNp"
      },
      "source": [
        "##### diamond"
      ]
    },
    {
      "cell_type": "code",
      "metadata": {
        "colab": {
          "base_uri": "https://localhost:8080/",
          "height": 143
        },
        "id": "mbztmSHbG3ci",
        "outputId": "f469a974-aeed-4f28-c8cc-4e67862cc9d7"
      },
      "source": [
        "import pandas as pd\n",
        "\n",
        "df = pd.read_csv(dataurl + 'diamonds.csv',index_col=0)\n",
        "df.head(3)"
      ],
      "execution_count": 190,
      "outputs": [
        {
          "output_type": "execute_result",
          "data": {
            "text/html": [
              "<div>\n",
              "<style scoped>\n",
              "    .dataframe tbody tr th:only-of-type {\n",
              "        vertical-align: middle;\n",
              "    }\n",
              "\n",
              "    .dataframe tbody tr th {\n",
              "        vertical-align: top;\n",
              "    }\n",
              "\n",
              "    .dataframe thead th {\n",
              "        text-align: right;\n",
              "    }\n",
              "</style>\n",
              "<table border=\"1\" class=\"dataframe\">\n",
              "  <thead>\n",
              "    <tr style=\"text-align: right;\">\n",
              "      <th></th>\n",
              "      <th>carat</th>\n",
              "      <th>cut</th>\n",
              "      <th>color</th>\n",
              "      <th>clarity</th>\n",
              "      <th>depth</th>\n",
              "      <th>table</th>\n",
              "      <th>price</th>\n",
              "      <th>x</th>\n",
              "      <th>y</th>\n",
              "      <th>z</th>\n",
              "    </tr>\n",
              "  </thead>\n",
              "  <tbody>\n",
              "    <tr>\n",
              "      <th>1</th>\n",
              "      <td>0.23</td>\n",
              "      <td>Ideal</td>\n",
              "      <td>E</td>\n",
              "      <td>SI2</td>\n",
              "      <td>61.5</td>\n",
              "      <td>55.0</td>\n",
              "      <td>326</td>\n",
              "      <td>3.95</td>\n",
              "      <td>3.98</td>\n",
              "      <td>2.43</td>\n",
              "    </tr>\n",
              "    <tr>\n",
              "      <th>2</th>\n",
              "      <td>0.21</td>\n",
              "      <td>Premium</td>\n",
              "      <td>E</td>\n",
              "      <td>SI1</td>\n",
              "      <td>59.8</td>\n",
              "      <td>61.0</td>\n",
              "      <td>326</td>\n",
              "      <td>3.89</td>\n",
              "      <td>3.84</td>\n",
              "      <td>2.31</td>\n",
              "    </tr>\n",
              "    <tr>\n",
              "      <th>3</th>\n",
              "      <td>0.23</td>\n",
              "      <td>Good</td>\n",
              "      <td>E</td>\n",
              "      <td>VS1</td>\n",
              "      <td>56.9</td>\n",
              "      <td>65.0</td>\n",
              "      <td>327</td>\n",
              "      <td>4.05</td>\n",
              "      <td>4.07</td>\n",
              "      <td>2.31</td>\n",
              "    </tr>\n",
              "  </tbody>\n",
              "</table>\n",
              "</div>"
            ],
            "text/plain": [
              "   carat      cut color clarity  depth  table  price     x     y     z\n",
              "1   0.23    Ideal     E     SI2   61.5   55.0    326  3.95  3.98  2.43\n",
              "2   0.21  Premium     E     SI1   59.8   61.0    326  3.89  3.84  2.31\n",
              "3   0.23     Good     E     VS1   56.9   65.0    327  4.05  4.07  2.31"
            ]
          },
          "metadata": {
            "tags": []
          },
          "execution_count": 190
        }
      ]
    },
    {
      "cell_type": "code",
      "metadata": {
        "colab": {
          "base_uri": "https://localhost:8080/",
          "height": 112
        },
        "id": "t-pZ3kvHHkL_",
        "outputId": "b4913ff0-c09a-4e2a-fb6e-8574aed55621"
      },
      "source": [
        "df[['carat','price']].corr()"
      ],
      "execution_count": 196,
      "outputs": [
        {
          "output_type": "execute_result",
          "data": {
            "text/html": [
              "<div>\n",
              "<style scoped>\n",
              "    .dataframe tbody tr th:only-of-type {\n",
              "        vertical-align: middle;\n",
              "    }\n",
              "\n",
              "    .dataframe tbody tr th {\n",
              "        vertical-align: top;\n",
              "    }\n",
              "\n",
              "    .dataframe thead th {\n",
              "        text-align: right;\n",
              "    }\n",
              "</style>\n",
              "<table border=\"1\" class=\"dataframe\">\n",
              "  <thead>\n",
              "    <tr style=\"text-align: right;\">\n",
              "      <th></th>\n",
              "      <th>carat</th>\n",
              "      <th>price</th>\n",
              "    </tr>\n",
              "  </thead>\n",
              "  <tbody>\n",
              "    <tr>\n",
              "      <th>carat</th>\n",
              "      <td>1.000000</td>\n",
              "      <td>0.921591</td>\n",
              "    </tr>\n",
              "    <tr>\n",
              "      <th>price</th>\n",
              "      <td>0.921591</td>\n",
              "      <td>1.000000</td>\n",
              "    </tr>\n",
              "  </tbody>\n",
              "</table>\n",
              "</div>"
            ],
            "text/plain": [
              "          carat     price\n",
              "carat  1.000000  0.921591\n",
              "price  0.921591  1.000000"
            ]
          },
          "metadata": {
            "tags": []
          },
          "execution_count": 196
        }
      ]
    },
    {
      "cell_type": "code",
      "metadata": {
        "colab": {
          "base_uri": "https://localhost:8080/"
        },
        "id": "0RE_4_g-IB8X",
        "outputId": "4ce6303e-059a-45d7-a3cd-d4f5d29b065a"
      },
      "source": [
        "df[['carat','price']].corr().iloc[0,1]"
      ],
      "execution_count": 201,
      "outputs": [
        {
          "output_type": "execute_result",
          "data": {
            "text/plain": [
              "0.9215913011935697"
            ]
          },
          "metadata": {
            "tags": []
          },
          "execution_count": 201
        }
      ]
    },
    {
      "cell_type": "code",
      "metadata": {
        "colab": {
          "base_uri": "https://localhost:8080/"
        },
        "id": "Nn99Sqe2IOAY",
        "outputId": "2deb3449-8fd6-4933-8e14-aedfa3b0f09c"
      },
      "source": [
        "from scipy import stats\n",
        "corr_by_scipy , pv = stats.pearsonr(df['carat'],df['price'])\n",
        "print(corr_by_scipy)\n",
        "print(pv)"
      ],
      "execution_count": 202,
      "outputs": [
        {
          "output_type": "stream",
          "text": [
            "0.9215913011934764\n",
            "0.0\n"
          ],
          "name": "stdout"
        }
      ]
    },
    {
      "cell_type": "code",
      "metadata": {
        "id": "Zpa1GEUUInq-"
      },
      "source": [
        "H_prop = df[df['color'] == 'H']\n",
        "static, pv = stats.ttest_1samp(H_prop['price'], 3932)\n",
        "\n",
        "if pv<0.05 :\n",
        "  hypo = False\n",
        "else :\n",
        "  hypo = True"
      ],
      "execution_count": 203,
      "outputs": []
    },
    {
      "cell_type": "code",
      "metadata": {
        "colab": {
          "base_uri": "https://localhost:8080/"
        },
        "id": "kv4whLUzI4KI",
        "outputId": "27e3102d-56ca-4a40-c089-5a017a95a73a"
      },
      "source": [
        "print(static)\n",
        "print(pv)\n",
        "print(hypo)"
      ],
      "execution_count": 204,
      "outputs": [
        {
          "output_type": "stream",
          "text": [
            "11.988997411117696\n",
            "7.569973305218302e-33\n",
            "False\n"
          ],
          "name": "stdout"
        }
      ]
    },
    {
      "cell_type": "code",
      "metadata": {
        "colab": {
          "base_uri": "https://localhost:8080/"
        },
        "id": "UwVTpP7lJh1p",
        "outputId": "f661fb9c-6d2e-48d5-8a5a-e996170503a1"
      },
      "source": [
        "H_prop['price'].mean()"
      ],
      "execution_count": 206,
      "outputs": [
        {
          "output_type": "execute_result",
          "data": {
            "text/plain": [
              "4486.669195568401"
            ]
          },
          "metadata": {
            "tags": []
          },
          "execution_count": 206
        }
      ]
    },
    {
      "cell_type": "code",
      "metadata": {
        "colab": {
          "base_uri": "https://localhost:8080/"
        },
        "id": "AdWkEdP_I7yy",
        "outputId": "882088e1-64d4-414e-8132-77665f91a0bc"
      },
      "source": [
        "F = df[df['color'] == 'F']\n",
        "G = df[df['color'] == 'G']\n",
        "\n",
        "leve = stats.levene(F['price'], G['price'])\n",
        "fli = stats.fligner(F['price'], G['price'])\n",
        "bartlet = stats.bartlett(F['price'], G['price'])\n",
        "\n",
        "print(leve)\n",
        "print(fli)\n",
        "print(bartlet)\n",
        "\n",
        "# 등분산조건 확인 :\n",
        "# 귀무가설기각 ( F, G 집단 간 분산 같지 않다.)"
      ],
      "execution_count": 207,
      "outputs": [
        {
          "output_type": "stream",
          "text": [
            "LeveneResult(statistic=53.627886257416655, pvalue=2.511093007074788e-13)\n",
            "FlignerResult(statistic=37.04347553879807, pvalue=1.155244880009172e-09)\n",
            "BartlettResult(statistic=47.52732212008511, pvalue=5.424264079418252e-12)\n"
          ],
          "name": "stdout"
        }
      ]
    },
    {
      "cell_type": "code",
      "metadata": {
        "colab": {
          "base_uri": "https://localhost:8080/"
        },
        "id": "xZPhvtRFKNWa",
        "outputId": "3f69f7ba-202f-4a22-ab66-a09fb7e6adf7"
      },
      "source": [
        "t_test_FG = stats.ttest_ind(G['price'],F['price'],equal_var = False)\n",
        "t_test_FG\n",
        "\n",
        "# 독립표본 t 검정 시행 :\n",
        "# 귀무가설기각 (F, G 집단간 평균 같지 않다.)"
      ],
      "execution_count": 209,
      "outputs": [
        {
          "output_type": "execute_result",
          "data": {
            "text/plain": [
              "Ttest_indResult(statistic=5.045279980436125, pvalue=4.5670321227041464e-07)"
            ]
          },
          "metadata": {
            "tags": []
          },
          "execution_count": 209
        }
      ]
    },
    {
      "cell_type": "code",
      "metadata": {
        "colab": {
          "base_uri": "https://localhost:8080/"
        },
        "id": "jK5UlBn_KrgU",
        "outputId": "0e24e7c4-d5e9-402c-e7e6-df4672b5682d"
      },
      "source": [
        "D = df[df['color'] == 'D']\n",
        "\n",
        "leve2 = stats.levene(F['price'], D['price'], G['price'])\n",
        "fli2 = stats.fligner(F['price'], D['price'], G['price'])\n",
        "bartlet2 = stats.bartlett(F['price'], D['price'], G['price'])\n",
        "\n",
        "print(leve2)\n",
        "print(fli2)\n",
        "print(bartlet2)"
      ],
      "execution_count": 210,
      "outputs": [
        {
          "output_type": "stream",
          "text": [
            "LeveneResult(statistic=118.97521469312785, pvalue=3.557425577381817e-52)\n",
            "FlignerResult(statistic=494.64591695585733, pvalue=3.881538382653518e-108)\n",
            "BartlettResult(statistic=289.14364432535103, pvalue=1.634012581050329e-63)\n"
          ],
          "name": "stdout"
        }
      ]
    },
    {
      "cell_type": "code",
      "metadata": {
        "colab": {
          "base_uri": "https://localhost:8080/"
        },
        "id": "aPZRrgWsK_2e",
        "outputId": "f86ba0b3-5d1c-4a15-b090-3403f3925675"
      },
      "source": [
        "anova = stats.f_oneway(F['price'], D['price'], G['price'])\n",
        "anova\n",
        "\n",
        "# anova 검정을 실행하였을 때,\n",
        "# 세 집단 중 어느 두 집단의 평균은 같지 않다."
      ],
      "execution_count": 211,
      "outputs": [
        {
          "output_type": "execute_result",
          "data": {
            "text/plain": [
              "F_onewayResult(statistic=101.1811790316069, pvalue=1.6513790091285713e-44)"
            ]
          },
          "metadata": {
            "tags": []
          },
          "execution_count": 211
        }
      ]
    },
    {
      "cell_type": "code",
      "metadata": {
        "colab": {
          "base_uri": "https://localhost:8080/",
          "height": 143
        },
        "id": "a5GRiYMiLQ9z",
        "outputId": "36ee5c32-0701-414b-f6a3-98417e522ffe"
      },
      "source": [
        "df.head(3)"
      ],
      "execution_count": 212,
      "outputs": [
        {
          "output_type": "execute_result",
          "data": {
            "text/html": [
              "<div>\n",
              "<style scoped>\n",
              "    .dataframe tbody tr th:only-of-type {\n",
              "        vertical-align: middle;\n",
              "    }\n",
              "\n",
              "    .dataframe tbody tr th {\n",
              "        vertical-align: top;\n",
              "    }\n",
              "\n",
              "    .dataframe thead th {\n",
              "        text-align: right;\n",
              "    }\n",
              "</style>\n",
              "<table border=\"1\" class=\"dataframe\">\n",
              "  <thead>\n",
              "    <tr style=\"text-align: right;\">\n",
              "      <th></th>\n",
              "      <th>carat</th>\n",
              "      <th>cut</th>\n",
              "      <th>color</th>\n",
              "      <th>clarity</th>\n",
              "      <th>depth</th>\n",
              "      <th>table</th>\n",
              "      <th>price</th>\n",
              "      <th>x</th>\n",
              "      <th>y</th>\n",
              "      <th>z</th>\n",
              "    </tr>\n",
              "  </thead>\n",
              "  <tbody>\n",
              "    <tr>\n",
              "      <th>1</th>\n",
              "      <td>0.23</td>\n",
              "      <td>Ideal</td>\n",
              "      <td>E</td>\n",
              "      <td>SI2</td>\n",
              "      <td>61.5</td>\n",
              "      <td>55.0</td>\n",
              "      <td>326</td>\n",
              "      <td>3.95</td>\n",
              "      <td>3.98</td>\n",
              "      <td>2.43</td>\n",
              "    </tr>\n",
              "    <tr>\n",
              "      <th>2</th>\n",
              "      <td>0.21</td>\n",
              "      <td>Premium</td>\n",
              "      <td>E</td>\n",
              "      <td>SI1</td>\n",
              "      <td>59.8</td>\n",
              "      <td>61.0</td>\n",
              "      <td>326</td>\n",
              "      <td>3.89</td>\n",
              "      <td>3.84</td>\n",
              "      <td>2.31</td>\n",
              "    </tr>\n",
              "    <tr>\n",
              "      <th>3</th>\n",
              "      <td>0.23</td>\n",
              "      <td>Good</td>\n",
              "      <td>E</td>\n",
              "      <td>VS1</td>\n",
              "      <td>56.9</td>\n",
              "      <td>65.0</td>\n",
              "      <td>327</td>\n",
              "      <td>4.05</td>\n",
              "      <td>4.07</td>\n",
              "      <td>2.31</td>\n",
              "    </tr>\n",
              "  </tbody>\n",
              "</table>\n",
              "</div>"
            ],
            "text/plain": [
              "   carat      cut color clarity  depth  table  price     x     y     z\n",
              "1   0.23    Ideal     E     SI2   61.5   55.0    326  3.95  3.98  2.43\n",
              "2   0.21  Premium     E     SI1   59.8   61.0    326  3.89  3.84  2.31\n",
              "3   0.23     Good     E     VS1   56.9   65.0    327  4.05  4.07  2.31"
            ]
          },
          "metadata": {
            "tags": []
          },
          "execution_count": 212
        }
      ]
    },
    {
      "cell_type": "code",
      "metadata": {
        "colab": {
          "base_uri": "https://localhost:8080/",
          "height": 422
        },
        "id": "UQS028r9MJsx",
        "outputId": "05a7092e-0377-465c-9525-0b1a0fd5f433"
      },
      "source": [
        "df2 = df[['carat','depth','table','price','x','y','z']]\n",
        "df2"
      ],
      "execution_count": 218,
      "outputs": [
        {
          "output_type": "execute_result",
          "data": {
            "text/html": [
              "<div>\n",
              "<style scoped>\n",
              "    .dataframe tbody tr th:only-of-type {\n",
              "        vertical-align: middle;\n",
              "    }\n",
              "\n",
              "    .dataframe tbody tr th {\n",
              "        vertical-align: top;\n",
              "    }\n",
              "\n",
              "    .dataframe thead th {\n",
              "        text-align: right;\n",
              "    }\n",
              "</style>\n",
              "<table border=\"1\" class=\"dataframe\">\n",
              "  <thead>\n",
              "    <tr style=\"text-align: right;\">\n",
              "      <th></th>\n",
              "      <th>carat</th>\n",
              "      <th>depth</th>\n",
              "      <th>table</th>\n",
              "      <th>price</th>\n",
              "      <th>x</th>\n",
              "      <th>y</th>\n",
              "      <th>z</th>\n",
              "    </tr>\n",
              "  </thead>\n",
              "  <tbody>\n",
              "    <tr>\n",
              "      <th>1</th>\n",
              "      <td>0.23</td>\n",
              "      <td>61.5</td>\n",
              "      <td>55.0</td>\n",
              "      <td>326</td>\n",
              "      <td>3.95</td>\n",
              "      <td>3.98</td>\n",
              "      <td>2.43</td>\n",
              "    </tr>\n",
              "    <tr>\n",
              "      <th>2</th>\n",
              "      <td>0.21</td>\n",
              "      <td>59.8</td>\n",
              "      <td>61.0</td>\n",
              "      <td>326</td>\n",
              "      <td>3.89</td>\n",
              "      <td>3.84</td>\n",
              "      <td>2.31</td>\n",
              "    </tr>\n",
              "    <tr>\n",
              "      <th>3</th>\n",
              "      <td>0.23</td>\n",
              "      <td>56.9</td>\n",
              "      <td>65.0</td>\n",
              "      <td>327</td>\n",
              "      <td>4.05</td>\n",
              "      <td>4.07</td>\n",
              "      <td>2.31</td>\n",
              "    </tr>\n",
              "    <tr>\n",
              "      <th>4</th>\n",
              "      <td>0.29</td>\n",
              "      <td>62.4</td>\n",
              "      <td>58.0</td>\n",
              "      <td>334</td>\n",
              "      <td>4.20</td>\n",
              "      <td>4.23</td>\n",
              "      <td>2.63</td>\n",
              "    </tr>\n",
              "    <tr>\n",
              "      <th>5</th>\n",
              "      <td>0.31</td>\n",
              "      <td>63.3</td>\n",
              "      <td>58.0</td>\n",
              "      <td>335</td>\n",
              "      <td>4.34</td>\n",
              "      <td>4.35</td>\n",
              "      <td>2.75</td>\n",
              "    </tr>\n",
              "    <tr>\n",
              "      <th>...</th>\n",
              "      <td>...</td>\n",
              "      <td>...</td>\n",
              "      <td>...</td>\n",
              "      <td>...</td>\n",
              "      <td>...</td>\n",
              "      <td>...</td>\n",
              "      <td>...</td>\n",
              "    </tr>\n",
              "    <tr>\n",
              "      <th>53936</th>\n",
              "      <td>0.72</td>\n",
              "      <td>60.8</td>\n",
              "      <td>57.0</td>\n",
              "      <td>2757</td>\n",
              "      <td>5.75</td>\n",
              "      <td>5.76</td>\n",
              "      <td>3.50</td>\n",
              "    </tr>\n",
              "    <tr>\n",
              "      <th>53937</th>\n",
              "      <td>0.72</td>\n",
              "      <td>63.1</td>\n",
              "      <td>55.0</td>\n",
              "      <td>2757</td>\n",
              "      <td>5.69</td>\n",
              "      <td>5.75</td>\n",
              "      <td>3.61</td>\n",
              "    </tr>\n",
              "    <tr>\n",
              "      <th>53938</th>\n",
              "      <td>0.70</td>\n",
              "      <td>62.8</td>\n",
              "      <td>60.0</td>\n",
              "      <td>2757</td>\n",
              "      <td>5.66</td>\n",
              "      <td>5.68</td>\n",
              "      <td>3.56</td>\n",
              "    </tr>\n",
              "    <tr>\n",
              "      <th>53939</th>\n",
              "      <td>0.86</td>\n",
              "      <td>61.0</td>\n",
              "      <td>58.0</td>\n",
              "      <td>2757</td>\n",
              "      <td>6.15</td>\n",
              "      <td>6.12</td>\n",
              "      <td>3.74</td>\n",
              "    </tr>\n",
              "    <tr>\n",
              "      <th>53940</th>\n",
              "      <td>0.75</td>\n",
              "      <td>62.2</td>\n",
              "      <td>55.0</td>\n",
              "      <td>2757</td>\n",
              "      <td>5.83</td>\n",
              "      <td>5.87</td>\n",
              "      <td>3.64</td>\n",
              "    </tr>\n",
              "  </tbody>\n",
              "</table>\n",
              "<p>53940 rows × 7 columns</p>\n",
              "</div>"
            ],
            "text/plain": [
              "       carat  depth  table  price     x     y     z\n",
              "1       0.23   61.5   55.0    326  3.95  3.98  2.43\n",
              "2       0.21   59.8   61.0    326  3.89  3.84  2.31\n",
              "3       0.23   56.9   65.0    327  4.05  4.07  2.31\n",
              "4       0.29   62.4   58.0    334  4.20  4.23  2.63\n",
              "5       0.31   63.3   58.0    335  4.34  4.35  2.75\n",
              "...      ...    ...    ...    ...   ...   ...   ...\n",
              "53936   0.72   60.8   57.0   2757  5.75  5.76  3.50\n",
              "53937   0.72   63.1   55.0   2757  5.69  5.75  3.61\n",
              "53938   0.70   62.8   60.0   2757  5.66  5.68  3.56\n",
              "53939   0.86   61.0   58.0   2757  6.15  6.12  3.74\n",
              "53940   0.75   62.2   55.0   2757  5.83  5.87  3.64\n",
              "\n",
              "[53940 rows x 7 columns]"
            ]
          },
          "metadata": {
            "tags": []
          },
          "execution_count": 218
        }
      ]
    },
    {
      "cell_type": "code",
      "metadata": {
        "colab": {
          "base_uri": "https://localhost:8080/"
        },
        "id": "xHj6CqaKLo_p",
        "outputId": "9a7965ff-c3fe-4fe7-b059-721e627000ed"
      },
      "source": [
        "IQR = df2.quantile(0.75) - df2.quantile(0.25)\n",
        "\n",
        "minimun = df2.quantile(0.25) - (1.5*IQR)\n",
        "maximun = df2.quantile(0.75) + (1.5*IQR)\n",
        "\n",
        "print(minimun, maximun)"
      ],
      "execution_count": 219,
      "outputs": [
        {
          "output_type": "stream",
          "text": [
            "carat      -0.560\n",
            "depth      58.750\n",
            "table      51.500\n",
            "price   -5611.375\n",
            "x           1.965\n",
            "y           1.990\n",
            "z           1.215\n",
            "dtype: float64 carat        2.000\n",
            "depth       64.750\n",
            "table       63.500\n",
            "price    11885.625\n",
            "x            9.285\n",
            "y            9.270\n",
            "z            5.735\n",
            "dtype: float64\n"
          ],
          "name": "stdout"
        }
      ]
    },
    {
      "cell_type": "code",
      "metadata": {
        "colab": {
          "base_uri": "https://localhost:8080/"
        },
        "id": "ZW6A5BAqL-VY",
        "outputId": "9e02dcc6-2cc4-4cfb-a99b-7b731bb6a0fe"
      },
      "source": [
        "data = df2[(df2 <= minimun) | (df2 > maximun)].count()\n",
        "data"
      ],
      "execution_count": 231,
      "outputs": [
        {
          "output_type": "execute_result",
          "data": {
            "text/plain": [
              "carat    1889\n",
              "depth    2545\n",
              "table     605\n",
              "price    3540\n",
              "x          32\n",
              "y          29\n",
              "z          49\n",
              "dtype: int64"
            ]
          },
          "metadata": {
            "tags": []
          },
          "execution_count": 231
        }
      ]
    },
    {
      "cell_type": "code",
      "metadata": {
        "colab": {
          "base_uri": "https://localhost:8080/"
        },
        "id": "Kds9hkx5NPlr",
        "outputId": "c6eee821-9bb1-4501-ec0a-e00292ef6f77"
      },
      "source": [
        "data.values"
      ],
      "execution_count": 250,
      "outputs": [
        {
          "output_type": "execute_result",
          "data": {
            "text/plain": [
              "array([1889, 2545,  605, 3540,   32,   29,   49])"
            ]
          },
          "metadata": {
            "tags": []
          },
          "execution_count": 250
        }
      ]
    },
    {
      "cell_type": "code",
      "metadata": {
        "colab": {
          "base_uri": "https://localhost:8080/"
        },
        "id": "zyYCpd5xNRRc",
        "outputId": "03a78b9c-1b22-4174-dee8-2125f56575ce"
      },
      "source": [
        "data.index"
      ],
      "execution_count": 235,
      "outputs": [
        {
          "output_type": "execute_result",
          "data": {
            "text/plain": [
              "Index(['carat', 'depth', 'table', 'price', 'x', 'y', 'z'], dtype='object')"
            ]
          },
          "metadata": {
            "tags": []
          },
          "execution_count": 235
        }
      ]
    },
    {
      "cell_type": "code",
      "metadata": {
        "id": "3wuGurlDNbfw"
      },
      "source": [
        "ratio_df = pd.DataFrame(data.reset_index()).rename(columns = {\n",
        "    'index' : 'column',\n",
        "    '0' : 'ratio'\n",
        "}, inplace = True)\n",
        "ratio_df"
      ],
      "execution_count": 249,
      "outputs": []
    },
    {
      "cell_type": "code",
      "metadata": {
        "colab": {
          "base_uri": "https://localhost:8080/",
          "height": 268
        },
        "id": "g40bB1BPM1C5",
        "outputId": "a24df080-5d50-4c32-f4f9-c07272c89e59"
      },
      "source": [
        "df3 = pd.DataFrame(data.reset_index())\n",
        "df3"
      ],
      "execution_count": 252,
      "outputs": [
        {
          "output_type": "execute_result",
          "data": {
            "text/html": [
              "<div>\n",
              "<style scoped>\n",
              "    .dataframe tbody tr th:only-of-type {\n",
              "        vertical-align: middle;\n",
              "    }\n",
              "\n",
              "    .dataframe tbody tr th {\n",
              "        vertical-align: top;\n",
              "    }\n",
              "\n",
              "    .dataframe thead th {\n",
              "        text-align: right;\n",
              "    }\n",
              "</style>\n",
              "<table border=\"1\" class=\"dataframe\">\n",
              "  <thead>\n",
              "    <tr style=\"text-align: right;\">\n",
              "      <th></th>\n",
              "      <th>index</th>\n",
              "      <th>0</th>\n",
              "    </tr>\n",
              "  </thead>\n",
              "  <tbody>\n",
              "    <tr>\n",
              "      <th>0</th>\n",
              "      <td>carat</td>\n",
              "      <td>1889</td>\n",
              "    </tr>\n",
              "    <tr>\n",
              "      <th>1</th>\n",
              "      <td>depth</td>\n",
              "      <td>2545</td>\n",
              "    </tr>\n",
              "    <tr>\n",
              "      <th>2</th>\n",
              "      <td>table</td>\n",
              "      <td>605</td>\n",
              "    </tr>\n",
              "    <tr>\n",
              "      <th>3</th>\n",
              "      <td>price</td>\n",
              "      <td>3540</td>\n",
              "    </tr>\n",
              "    <tr>\n",
              "      <th>4</th>\n",
              "      <td>x</td>\n",
              "      <td>32</td>\n",
              "    </tr>\n",
              "    <tr>\n",
              "      <th>5</th>\n",
              "      <td>y</td>\n",
              "      <td>29</td>\n",
              "    </tr>\n",
              "    <tr>\n",
              "      <th>6</th>\n",
              "      <td>z</td>\n",
              "      <td>49</td>\n",
              "    </tr>\n",
              "  </tbody>\n",
              "</table>\n",
              "</div>"
            ],
            "text/plain": [
              "   index     0\n",
              "0  carat  1889\n",
              "1  depth  2545\n",
              "2  table   605\n",
              "3  price  3540\n",
              "4      x    32\n",
              "5      y    29\n",
              "6      z    49"
            ]
          },
          "metadata": {
            "tags": []
          },
          "execution_count": 252
        }
      ]
    },
    {
      "cell_type": "code",
      "metadata": {
        "id": "Y6yRZYYZOw2W"
      },
      "source": [
        "df3.columns = ['column','ratio']\n",
        "df3.columns\n",
        "\n",
        "ratio_df = df3"
      ],
      "execution_count": 257,
      "outputs": []
    },
    {
      "cell_type": "code",
      "metadata": {
        "colab": {
          "base_uri": "https://localhost:8080/",
          "height": 268
        },
        "id": "ktw73TANO59A",
        "outputId": "26e75f78-e85b-4d77-fe94-f3167bb85681"
      },
      "source": [
        "ratio_df.sort_values('ratio',ascending=False)"
      ],
      "execution_count": 259,
      "outputs": [
        {
          "output_type": "execute_result",
          "data": {
            "text/html": [
              "<div>\n",
              "<style scoped>\n",
              "    .dataframe tbody tr th:only-of-type {\n",
              "        vertical-align: middle;\n",
              "    }\n",
              "\n",
              "    .dataframe tbody tr th {\n",
              "        vertical-align: top;\n",
              "    }\n",
              "\n",
              "    .dataframe thead th {\n",
              "        text-align: right;\n",
              "    }\n",
              "</style>\n",
              "<table border=\"1\" class=\"dataframe\">\n",
              "  <thead>\n",
              "    <tr style=\"text-align: right;\">\n",
              "      <th></th>\n",
              "      <th>column</th>\n",
              "      <th>ratio</th>\n",
              "    </tr>\n",
              "  </thead>\n",
              "  <tbody>\n",
              "    <tr>\n",
              "      <th>3</th>\n",
              "      <td>price</td>\n",
              "      <td>3540</td>\n",
              "    </tr>\n",
              "    <tr>\n",
              "      <th>1</th>\n",
              "      <td>depth</td>\n",
              "      <td>2545</td>\n",
              "    </tr>\n",
              "    <tr>\n",
              "      <th>0</th>\n",
              "      <td>carat</td>\n",
              "      <td>1889</td>\n",
              "    </tr>\n",
              "    <tr>\n",
              "      <th>2</th>\n",
              "      <td>table</td>\n",
              "      <td>605</td>\n",
              "    </tr>\n",
              "    <tr>\n",
              "      <th>6</th>\n",
              "      <td>z</td>\n",
              "      <td>49</td>\n",
              "    </tr>\n",
              "    <tr>\n",
              "      <th>4</th>\n",
              "      <td>x</td>\n",
              "      <td>32</td>\n",
              "    </tr>\n",
              "    <tr>\n",
              "      <th>5</th>\n",
              "      <td>y</td>\n",
              "      <td>29</td>\n",
              "    </tr>\n",
              "  </tbody>\n",
              "</table>\n",
              "</div>"
            ],
            "text/plain": [
              "  column  ratio\n",
              "3  price   3540\n",
              "1  depth   2545\n",
              "0  carat   1889\n",
              "2  table    605\n",
              "6      z     49\n",
              "4      x     32\n",
              "5      y     29"
            ]
          },
          "metadata": {
            "tags": []
          },
          "execution_count": 259
        }
      ]
    },
    {
      "cell_type": "code",
      "metadata": {
        "colab": {
          "base_uri": "https://localhost:8080/",
          "height": 299
        },
        "id": "HSJjVYlBO_u8",
        "outputId": "8b6a5f5b-5697-49f5-920d-701cc448388f"
      },
      "source": [
        "df.groupby(['color']).price.agg(['max','min','mean'])"
      ],
      "execution_count": 261,
      "outputs": [
        {
          "output_type": "execute_result",
          "data": {
            "text/html": [
              "<div>\n",
              "<style scoped>\n",
              "    .dataframe tbody tr th:only-of-type {\n",
              "        vertical-align: middle;\n",
              "    }\n",
              "\n",
              "    .dataframe tbody tr th {\n",
              "        vertical-align: top;\n",
              "    }\n",
              "\n",
              "    .dataframe thead th {\n",
              "        text-align: right;\n",
              "    }\n",
              "</style>\n",
              "<table border=\"1\" class=\"dataframe\">\n",
              "  <thead>\n",
              "    <tr style=\"text-align: right;\">\n",
              "      <th></th>\n",
              "      <th>max</th>\n",
              "      <th>min</th>\n",
              "      <th>mean</th>\n",
              "    </tr>\n",
              "    <tr>\n",
              "      <th>color</th>\n",
              "      <th></th>\n",
              "      <th></th>\n",
              "      <th></th>\n",
              "    </tr>\n",
              "  </thead>\n",
              "  <tbody>\n",
              "    <tr>\n",
              "      <th>D</th>\n",
              "      <td>18693</td>\n",
              "      <td>357</td>\n",
              "      <td>3169.954096</td>\n",
              "    </tr>\n",
              "    <tr>\n",
              "      <th>E</th>\n",
              "      <td>18731</td>\n",
              "      <td>326</td>\n",
              "      <td>3076.752475</td>\n",
              "    </tr>\n",
              "    <tr>\n",
              "      <th>F</th>\n",
              "      <td>18791</td>\n",
              "      <td>342</td>\n",
              "      <td>3724.886397</td>\n",
              "    </tr>\n",
              "    <tr>\n",
              "      <th>G</th>\n",
              "      <td>18818</td>\n",
              "      <td>354</td>\n",
              "      <td>3999.135671</td>\n",
              "    </tr>\n",
              "    <tr>\n",
              "      <th>H</th>\n",
              "      <td>18803</td>\n",
              "      <td>337</td>\n",
              "      <td>4486.669196</td>\n",
              "    </tr>\n",
              "    <tr>\n",
              "      <th>I</th>\n",
              "      <td>18823</td>\n",
              "      <td>334</td>\n",
              "      <td>5091.874954</td>\n",
              "    </tr>\n",
              "    <tr>\n",
              "      <th>J</th>\n",
              "      <td>18710</td>\n",
              "      <td>335</td>\n",
              "      <td>5323.818020</td>\n",
              "    </tr>\n",
              "  </tbody>\n",
              "</table>\n",
              "</div>"
            ],
            "text/plain": [
              "         max  min         mean\n",
              "color                         \n",
              "D      18693  357  3169.954096\n",
              "E      18731  326  3076.752475\n",
              "F      18791  342  3724.886397\n",
              "G      18818  354  3999.135671\n",
              "H      18803  337  4486.669196\n",
              "I      18823  334  5091.874954\n",
              "J      18710  335  5323.818020"
            ]
          },
          "metadata": {
            "tags": []
          },
          "execution_count": 261
        }
      ]
    },
    {
      "cell_type": "code",
      "metadata": {
        "colab": {
          "base_uri": "https://localhost:8080/"
        },
        "id": "VcRy4GjMPprj",
        "outputId": "859c5a0d-3636-424a-ddf9-340a2f5316db"
      },
      "source": [
        "from sklearn.preprocessing import LabelEncoder\n",
        "\n",
        "le = LabelEncoder()\n",
        "result = le.fit_transform(df['color'])\n",
        "print(result)"
      ],
      "execution_count": 263,
      "outputs": [
        {
          "output_type": "stream",
          "text": [
            "[1 1 1 ... 0 4 0]\n"
          ],
          "name": "stdout"
        }
      ]
    },
    {
      "cell_type": "code",
      "metadata": {
        "colab": {
          "base_uri": "https://localhost:8080/"
        },
        "id": "VJa28A3DP7su",
        "outputId": "bd14ebd8-974a-443b-f753-21490c894bad"
      },
      "source": [
        "df['colorLabel'] = result\n",
        "df['colorLabel'].head(3)\n",
        "\n",
        "df['colorLabel'].value_counts()"
      ],
      "execution_count": 266,
      "outputs": [
        {
          "output_type": "execute_result",
          "data": {
            "text/plain": [
              "3    11292\n",
              "1     9797\n",
              "2     9542\n",
              "4     8304\n",
              "0     6775\n",
              "5     5422\n",
              "6     2808\n",
              "Name: colorLabel, dtype: int64"
            ]
          },
          "metadata": {
            "tags": []
          },
          "execution_count": 266
        }
      ]
    },
    {
      "cell_type": "code",
      "metadata": {
        "colab": {
          "base_uri": "https://localhost:8080/"
        },
        "id": "GbeCKM0iQEUr",
        "outputId": "6ecda5fd-a33a-4698-d6d5-2e535ace7c7d"
      },
      "source": [
        "df.groupby('cut').colorLabel.mean()"
      ],
      "execution_count": 267,
      "outputs": [
        {
          "output_type": "execute_result",
          "data": {
            "text/plain": [
              "cut\n",
              "Fair         2.851553\n",
              "Good         2.573176\n",
              "Ideal        2.529256\n",
              "Premium      2.697339\n",
              "Very Good    2.566545\n",
              "Name: colorLabel, dtype: float64"
            ]
          },
          "metadata": {
            "tags": []
          },
          "execution_count": 267
        }
      ]
    },
    {
      "cell_type": "code",
      "metadata": {
        "colab": {
          "base_uri": "https://localhost:8080/"
        },
        "id": "rWl9C0l0QMMc",
        "outputId": "5d3f0714-807f-486a-9ce5-68637be6b1c4"
      },
      "source": [
        "df['price']"
      ],
      "execution_count": 268,
      "outputs": [
        {
          "output_type": "execute_result",
          "data": {
            "text/plain": [
              "1         326\n",
              "2         326\n",
              "3         327\n",
              "4         334\n",
              "5         335\n",
              "         ... \n",
              "53936    2757\n",
              "53937    2757\n",
              "53938    2757\n",
              "53939    2757\n",
              "53940    2757\n",
              "Name: price, Length: 53940, dtype: int64"
            ]
          },
          "metadata": {
            "tags": []
          },
          "execution_count": 268
        }
      ]
    },
    {
      "cell_type": "code",
      "metadata": {
        "colab": {
          "base_uri": "https://localhost:8080/"
        },
        "id": "uwUTvqLFQVfU",
        "outputId": "59dcf6f7-2a59-4b0d-faeb-a58be33a4bf1"
      },
      "source": [
        "int(326/1000)\n",
        "int(1002/1000)\n",
        "int(2034/1000)"
      ],
      "execution_count": 276,
      "outputs": [
        {
          "output_type": "execute_result",
          "data": {
            "text/plain": [
              "2"
            ]
          },
          "metadata": {
            "tags": []
          },
          "execution_count": 276
        }
      ]
    },
    {
      "cell_type": "code",
      "metadata": {
        "colab": {
          "base_uri": "https://localhost:8080/"
        },
        "id": "JrmyPKV5Q1Ev",
        "outputId": "8a8bde36-4113-41d7-8369-b795135abd28"
      },
      "source": [
        "int((1000-1)/1000)"
      ],
      "execution_count": 281,
      "outputs": [
        {
          "output_type": "execute_result",
          "data": {
            "text/plain": [
              "0"
            ]
          },
          "metadata": {
            "tags": []
          },
          "execution_count": 281
        }
      ]
    },
    {
      "cell_type": "code",
      "metadata": {
        "colab": {
          "base_uri": "https://localhost:8080/"
        },
        "id": "ElxL41TDQjN5",
        "outputId": "c440b0ce-462b-46c9-a92a-691a1a6a53ff"
      },
      "source": [
        "df['priceLabel'] = df.price.apply(lambda x : int(x/1000))\n",
        "df['priceLabel']"
      ],
      "execution_count": 277,
      "outputs": [
        {
          "output_type": "execute_result",
          "data": {
            "text/plain": [
              "1        0\n",
              "2        0\n",
              "3        0\n",
              "4        0\n",
              "5        0\n",
              "        ..\n",
              "53936    2\n",
              "53937    2\n",
              "53938    2\n",
              "53939    2\n",
              "53940    2\n",
              "Name: priceLabel, Length: 53940, dtype: int64"
            ]
          },
          "metadata": {
            "tags": []
          },
          "execution_count": 277
        }
      ]
    },
    {
      "cell_type": "code",
      "metadata": {
        "colab": {
          "base_uri": "https://localhost:8080/"
        },
        "id": "-X0-1LuwQr2H",
        "outputId": "59d7001d-8a58-4994-c967-575803482a92"
      },
      "source": [
        "df.priceLabel.value_counts()"
      ],
      "execution_count": 278,
      "outputs": [
        {
          "output_type": "execute_result",
          "data": {
            "text/plain": [
              "0     14499\n",
              "1      9704\n",
              "2      6131\n",
              "4      4653\n",
              "3      4226\n",
              "5      3174\n",
              "6      2278\n",
              "7      1669\n",
              "8      1307\n",
              "9      1076\n",
              "10      935\n",
              "11      824\n",
              "12      702\n",
              "13      603\n",
              "15      514\n",
              "14      503\n",
              "16      424\n",
              "17      406\n",
              "18      312\n",
              "Name: priceLabel, dtype: int64"
            ]
          },
          "metadata": {
            "tags": []
          },
          "execution_count": 278
        }
      ]
    },
    {
      "cell_type": "markdown",
      "metadata": {
        "id": "JkxV3QiGRgJ0"
      },
      "source": [
        "비디오게임 판매량 및 등급"
      ]
    },
    {
      "cell_type": "code",
      "metadata": {
        "colab": {
          "base_uri": "https://localhost:8080/",
          "height": 184
        },
        "id": "M77Cca6URffK",
        "outputId": "6fd020ff-59f6-4cab-f3ce-c32d891cac54"
      },
      "source": [
        "import pandas as pd\n",
        "df = pd.read_csv(dataurl + 'video_games_sale.csv',index_col=0)\n",
        "df.head(2)"
      ],
      "execution_count": 285,
      "outputs": [
        {
          "output_type": "execute_result",
          "data": {
            "text/html": [
              "<div>\n",
              "<style scoped>\n",
              "    .dataframe tbody tr th:only-of-type {\n",
              "        vertical-align: middle;\n",
              "    }\n",
              "\n",
              "    .dataframe tbody tr th {\n",
              "        vertical-align: top;\n",
              "    }\n",
              "\n",
              "    .dataframe thead th {\n",
              "        text-align: right;\n",
              "    }\n",
              "</style>\n",
              "<table border=\"1\" class=\"dataframe\">\n",
              "  <thead>\n",
              "    <tr style=\"text-align: right;\">\n",
              "      <th></th>\n",
              "      <th>Name</th>\n",
              "      <th>Platform</th>\n",
              "      <th>Year_of_Release</th>\n",
              "      <th>Genre</th>\n",
              "      <th>Publisher</th>\n",
              "      <th>NA_Sales</th>\n",
              "      <th>EU_Sales</th>\n",
              "      <th>JP_Sales</th>\n",
              "      <th>Other_Sales</th>\n",
              "      <th>Global_Sales</th>\n",
              "      <th>Critic_Score</th>\n",
              "      <th>Critic_Count</th>\n",
              "      <th>User_Score</th>\n",
              "      <th>User_Count</th>\n",
              "      <th>Developer</th>\n",
              "      <th>Rating</th>\n",
              "      <th>Year_of_ten</th>\n",
              "    </tr>\n",
              "  </thead>\n",
              "  <tbody>\n",
              "    <tr>\n",
              "      <th>0</th>\n",
              "      <td>Wii Sports</td>\n",
              "      <td>Wii</td>\n",
              "      <td>2006.0</td>\n",
              "      <td>Sports</td>\n",
              "      <td>Nintendo</td>\n",
              "      <td>41.36</td>\n",
              "      <td>28.96</td>\n",
              "      <td>3.77</td>\n",
              "      <td>8.45</td>\n",
              "      <td>82.53</td>\n",
              "      <td>76.0</td>\n",
              "      <td>51.0</td>\n",
              "      <td>8.0</td>\n",
              "      <td>322.0</td>\n",
              "      <td>Nintendo</td>\n",
              "      <td>E</td>\n",
              "      <td>2000.0</td>\n",
              "    </tr>\n",
              "    <tr>\n",
              "      <th>1</th>\n",
              "      <td>Mario Kart Wii</td>\n",
              "      <td>Wii</td>\n",
              "      <td>2008.0</td>\n",
              "      <td>Racing</td>\n",
              "      <td>Nintendo</td>\n",
              "      <td>15.68</td>\n",
              "      <td>12.76</td>\n",
              "      <td>3.79</td>\n",
              "      <td>3.29</td>\n",
              "      <td>35.52</td>\n",
              "      <td>82.0</td>\n",
              "      <td>73.0</td>\n",
              "      <td>8.3</td>\n",
              "      <td>709.0</td>\n",
              "      <td>Nintendo</td>\n",
              "      <td>E</td>\n",
              "      <td>2000.0</td>\n",
              "    </tr>\n",
              "  </tbody>\n",
              "</table>\n",
              "</div>"
            ],
            "text/plain": [
              "             Name Platform  Year_of_Release  ... Developer Rating  Year_of_ten\n",
              "0      Wii Sports      Wii           2006.0  ...  Nintendo      E       2000.0\n",
              "1  Mario Kart Wii      Wii           2008.0  ...  Nintendo      E       2000.0\n",
              "\n",
              "[2 rows x 17 columns]"
            ]
          },
          "metadata": {
            "tags": []
          },
          "execution_count": 285
        }
      ]
    },
    {
      "cell_type": "code",
      "metadata": {
        "id": "Wiy_cJLvT1KE"
      },
      "source": [
        "import datetime"
      ],
      "execution_count": 287,
      "outputs": []
    },
    {
      "cell_type": "code",
      "metadata": {
        "colab": {
          "base_uri": "https://localhost:8080/",
          "height": 319
        },
        "id": "Vd4BU3-7RwIU",
        "outputId": "95ad992e-46f8-45df-8d70-a1f38623195e"
      },
      "source": [
        "df.describe()"
      ],
      "execution_count": 289,
      "outputs": [
        {
          "output_type": "execute_result",
          "data": {
            "text/html": [
              "<div>\n",
              "<style scoped>\n",
              "    .dataframe tbody tr th:only-of-type {\n",
              "        vertical-align: middle;\n",
              "    }\n",
              "\n",
              "    .dataframe tbody tr th {\n",
              "        vertical-align: top;\n",
              "    }\n",
              "\n",
              "    .dataframe thead th {\n",
              "        text-align: right;\n",
              "    }\n",
              "</style>\n",
              "<table border=\"1\" class=\"dataframe\">\n",
              "  <thead>\n",
              "    <tr style=\"text-align: right;\">\n",
              "      <th></th>\n",
              "      <th>Year_of_Release</th>\n",
              "      <th>NA_Sales</th>\n",
              "      <th>EU_Sales</th>\n",
              "      <th>JP_Sales</th>\n",
              "      <th>Other_Sales</th>\n",
              "      <th>Global_Sales</th>\n",
              "      <th>Critic_Score</th>\n",
              "      <th>Critic_Count</th>\n",
              "      <th>User_Score</th>\n",
              "      <th>User_Count</th>\n",
              "      <th>Year_of_ten</th>\n",
              "    </tr>\n",
              "  </thead>\n",
              "  <tbody>\n",
              "    <tr>\n",
              "      <th>count</th>\n",
              "      <td>6825.000000</td>\n",
              "      <td>6825.000000</td>\n",
              "      <td>6825.000000</td>\n",
              "      <td>6825.000000</td>\n",
              "      <td>6825.000000</td>\n",
              "      <td>6825.000000</td>\n",
              "      <td>6825.000000</td>\n",
              "      <td>6825.000000</td>\n",
              "      <td>6825.000000</td>\n",
              "      <td>6825.000000</td>\n",
              "      <td>6825.000000</td>\n",
              "    </tr>\n",
              "    <tr>\n",
              "      <th>mean</th>\n",
              "      <td>2007.436777</td>\n",
              "      <td>0.394484</td>\n",
              "      <td>0.236089</td>\n",
              "      <td>0.064158</td>\n",
              "      <td>0.082677</td>\n",
              "      <td>0.777590</td>\n",
              "      <td>70.272088</td>\n",
              "      <td>28.931136</td>\n",
              "      <td>7.185626</td>\n",
              "      <td>174.722344</td>\n",
              "      <td>2003.012454</td>\n",
              "    </tr>\n",
              "    <tr>\n",
              "      <th>std</th>\n",
              "      <td>4.211248</td>\n",
              "      <td>0.967385</td>\n",
              "      <td>0.687330</td>\n",
              "      <td>0.287570</td>\n",
              "      <td>0.269871</td>\n",
              "      <td>1.963443</td>\n",
              "      <td>13.868572</td>\n",
              "      <td>19.224165</td>\n",
              "      <td>1.439942</td>\n",
              "      <td>587.428538</td>\n",
              "      <td>4.846167</td>\n",
              "    </tr>\n",
              "    <tr>\n",
              "      <th>min</th>\n",
              "      <td>1985.000000</td>\n",
              "      <td>0.000000</td>\n",
              "      <td>0.000000</td>\n",
              "      <td>0.000000</td>\n",
              "      <td>0.000000</td>\n",
              "      <td>0.010000</td>\n",
              "      <td>13.000000</td>\n",
              "      <td>3.000000</td>\n",
              "      <td>0.500000</td>\n",
              "      <td>4.000000</td>\n",
              "      <td>1980.000000</td>\n",
              "    </tr>\n",
              "    <tr>\n",
              "      <th>25%</th>\n",
              "      <td>2004.000000</td>\n",
              "      <td>0.060000</td>\n",
              "      <td>0.020000</td>\n",
              "      <td>0.000000</td>\n",
              "      <td>0.010000</td>\n",
              "      <td>0.110000</td>\n",
              "      <td>62.000000</td>\n",
              "      <td>14.000000</td>\n",
              "      <td>6.500000</td>\n",
              "      <td>11.000000</td>\n",
              "      <td>2000.000000</td>\n",
              "    </tr>\n",
              "    <tr>\n",
              "      <th>50%</th>\n",
              "      <td>2007.000000</td>\n",
              "      <td>0.150000</td>\n",
              "      <td>0.060000</td>\n",
              "      <td>0.000000</td>\n",
              "      <td>0.020000</td>\n",
              "      <td>0.290000</td>\n",
              "      <td>72.000000</td>\n",
              "      <td>25.000000</td>\n",
              "      <td>7.500000</td>\n",
              "      <td>27.000000</td>\n",
              "      <td>2000.000000</td>\n",
              "    </tr>\n",
              "    <tr>\n",
              "      <th>75%</th>\n",
              "      <td>2011.000000</td>\n",
              "      <td>0.390000</td>\n",
              "      <td>0.210000</td>\n",
              "      <td>0.010000</td>\n",
              "      <td>0.070000</td>\n",
              "      <td>0.750000</td>\n",
              "      <td>80.000000</td>\n",
              "      <td>39.000000</td>\n",
              "      <td>8.200000</td>\n",
              "      <td>89.000000</td>\n",
              "      <td>2010.000000</td>\n",
              "    </tr>\n",
              "    <tr>\n",
              "      <th>max</th>\n",
              "      <td>2016.000000</td>\n",
              "      <td>41.360000</td>\n",
              "      <td>28.960000</td>\n",
              "      <td>6.500000</td>\n",
              "      <td>10.570000</td>\n",
              "      <td>82.530000</td>\n",
              "      <td>98.000000</td>\n",
              "      <td>113.000000</td>\n",
              "      <td>9.600000</td>\n",
              "      <td>10665.000000</td>\n",
              "      <td>2010.000000</td>\n",
              "    </tr>\n",
              "  </tbody>\n",
              "</table>\n",
              "</div>"
            ],
            "text/plain": [
              "       Year_of_Release     NA_Sales  ...    User_Count  Year_of_ten\n",
              "count      6825.000000  6825.000000  ...   6825.000000  6825.000000\n",
              "mean       2007.436777     0.394484  ...    174.722344  2003.012454\n",
              "std           4.211248     0.967385  ...    587.428538     4.846167\n",
              "min        1985.000000     0.000000  ...      4.000000  1980.000000\n",
              "25%        2004.000000     0.060000  ...     11.000000  2000.000000\n",
              "50%        2007.000000     0.150000  ...     27.000000  2000.000000\n",
              "75%        2011.000000     0.390000  ...     89.000000  2010.000000\n",
              "max        2016.000000    41.360000  ...  10665.000000  2010.000000\n",
              "\n",
              "[8 rows x 11 columns]"
            ]
          },
          "metadata": {
            "tags": []
          },
          "execution_count": 289
        }
      ]
    },
    {
      "cell_type": "code",
      "metadata": {
        "colab": {
          "base_uri": "https://localhost:8080/"
        },
        "id": "kWnhcC3MUFNu",
        "outputId": "fbdcfcde-036c-4b9c-bd7a-e3df6739d5ad"
      },
      "source": [
        "int(str(int(2009 / 10)) + '0')"
      ],
      "execution_count": 304,
      "outputs": [
        {
          "output_type": "execute_result",
          "data": {
            "text/plain": [
              "2000"
            ]
          },
          "metadata": {
            "tags": []
          },
          "execution_count": 304
        }
      ]
    },
    {
      "cell_type": "code",
      "metadata": {
        "colab": {
          "base_uri": "https://localhost:8080/"
        },
        "id": "GOO7esRkUH-r",
        "outputId": "24ddd7b6-fbd3-4c5c-9672-08f3d64bf7c7"
      },
      "source": [
        "df['year_of_ten'] = df.Year_of_Release.apply(lambda x : int(str(int(x / 10)) + '0'))\n",
        "df['year_of_ten']"
      ],
      "execution_count": 305,
      "outputs": [
        {
          "output_type": "execute_result",
          "data": {
            "text/plain": [
              "0       2000\n",
              "1       2000\n",
              "2       2000\n",
              "3       2000\n",
              "4       2000\n",
              "        ... \n",
              "6820    2000\n",
              "6821    2000\n",
              "6822    2010\n",
              "6823    2010\n",
              "6824    2010\n",
              "Name: year_of_ten, Length: 6825, dtype: int64"
            ]
          },
          "metadata": {
            "tags": []
          },
          "execution_count": 305
        }
      ]
    },
    {
      "cell_type": "code",
      "metadata": {
        "colab": {
          "base_uri": "https://localhost:8080/"
        },
        "id": "SG78Ozc2U4Bu",
        "outputId": "5abb40db-b8c5-4dfa-dacb-8fade53df5b8"
      },
      "source": [
        "df['year_of_ten'].value_counts()"
      ],
      "execution_count": 306,
      "outputs": [
        {
          "output_type": "execute_result",
          "data": {
            "text/plain": [
              "2000    4609\n",
              "2010    2137\n",
              "1990      77\n",
              "1980       2\n",
              "Name: year_of_ten, dtype: int64"
            ]
          },
          "metadata": {
            "tags": []
          },
          "execution_count": 306
        }
      ]
    },
    {
      "cell_type": "code",
      "metadata": {
        "colab": {
          "base_uri": "https://localhost:8080/"
        },
        "id": "9WEa9dVxU9_Q",
        "outputId": "046d5166-2934-4d08-ce2e-e83ed6b0e29e"
      },
      "source": [
        "len(df[(df.Platform.isin(['PS','PS2','PS3','PS4','PSV'])) & (df.Genre == 'Action')])"
      ],
      "execution_count": 315,
      "outputs": [
        {
          "output_type": "execute_result",
          "data": {
            "text/plain": [
              "616"
            ]
          },
          "metadata": {
            "tags": []
          },
          "execution_count": 315
        }
      ]
    },
    {
      "cell_type": "code",
      "metadata": {
        "colab": {
          "base_uri": "https://localhost:8080/",
          "height": 268
        },
        "id": "Rqvqw5-gVowR",
        "outputId": "82c1ec0a-248e-4fd8-8ef4-28eb39af1df0"
      },
      "source": [
        "df[df.Platform.isin(plat400)].groupby('Platform',as_index=False).User_Score.mean().sort_values('User_Score',ascending=False)"
      ],
      "execution_count": 341,
      "outputs": [
        {
          "output_type": "execute_result",
          "data": {
            "text/html": [
              "<div>\n",
              "<style scoped>\n",
              "    .dataframe tbody tr th:only-of-type {\n",
              "        vertical-align: middle;\n",
              "    }\n",
              "\n",
              "    .dataframe tbody tr th {\n",
              "        vertical-align: top;\n",
              "    }\n",
              "\n",
              "    .dataframe thead th {\n",
              "        text-align: right;\n",
              "    }\n",
              "</style>\n",
              "<table border=\"1\" class=\"dataframe\">\n",
              "  <thead>\n",
              "    <tr style=\"text-align: right;\">\n",
              "      <th></th>\n",
              "      <th>Platform</th>\n",
              "      <th>User_Score</th>\n",
              "    </tr>\n",
              "  </thead>\n",
              "  <tbody>\n",
              "    <tr>\n",
              "      <th>2</th>\n",
              "      <td>PS2</td>\n",
              "      <td>7.664386</td>\n",
              "    </tr>\n",
              "    <tr>\n",
              "      <th>6</th>\n",
              "      <td>XB</td>\n",
              "      <td>7.540708</td>\n",
              "    </tr>\n",
              "    <tr>\n",
              "      <th>1</th>\n",
              "      <td>PC</td>\n",
              "      <td>7.060369</td>\n",
              "    </tr>\n",
              "    <tr>\n",
              "      <th>0</th>\n",
              "      <td>DS</td>\n",
              "      <td>7.047198</td>\n",
              "    </tr>\n",
              "    <tr>\n",
              "      <th>4</th>\n",
              "      <td>Wii</td>\n",
              "      <td>6.903758</td>\n",
              "    </tr>\n",
              "    <tr>\n",
              "      <th>3</th>\n",
              "      <td>PS3</td>\n",
              "      <td>6.782705</td>\n",
              "    </tr>\n",
              "    <tr>\n",
              "      <th>5</th>\n",
              "      <td>X360</td>\n",
              "      <td>6.780769</td>\n",
              "    </tr>\n",
              "  </tbody>\n",
              "</table>\n",
              "</div>"
            ],
            "text/plain": [
              "  Platform  User_Score\n",
              "2      PS2    7.664386\n",
              "6       XB    7.540708\n",
              "1       PC    7.060369\n",
              "0       DS    7.047198\n",
              "4      Wii    6.903758\n",
              "3      PS3    6.782705\n",
              "5     X360    6.780769"
            ]
          },
          "metadata": {
            "tags": []
          },
          "execution_count": 341
        }
      ]
    },
    {
      "cell_type": "code",
      "metadata": {
        "colab": {
          "base_uri": "https://localhost:8080/"
        },
        "id": "gA88SBgdWKTy",
        "outputId": "7cd8e0a1-2e64-4894-9c8c-11d3bf5eddbf"
      },
      "source": [
        "plat400 = list(['PS2','X360','PS3','PC','XB','Wii','DS'])\n",
        "plat400"
      ],
      "execution_count": 329,
      "outputs": [
        {
          "output_type": "execute_result",
          "data": {
            "text/plain": [
              "['PS2', 'X360', 'PS3', 'PC', 'XB', 'Wii', 'DS']"
            ]
          },
          "metadata": {
            "tags": []
          },
          "execution_count": 329
        }
      ]
    },
    {
      "cell_type": "code",
      "metadata": {
        "colab": {
          "base_uri": "https://localhost:8080/"
        },
        "id": "EFn9nL_qWGPK",
        "outputId": "79e23a52-2dab-4bc9-b163-4ac0d342114d"
      },
      "source": [
        "df.Platform.value_counts() >= 400"
      ],
      "execution_count": 323,
      "outputs": [
        {
          "output_type": "execute_result",
          "data": {
            "text/plain": [
              "PS2      True\n",
              "X360     True\n",
              "PS3      True\n",
              "PC       True\n",
              "XB       True\n",
              "Wii      True\n",
              "DS       True\n",
              "PSP     False\n",
              "GC      False\n",
              "PS4     False\n",
              "GBA     False\n",
              "XOne    False\n",
              "3DS     False\n",
              "PS      False\n",
              "PSV     False\n",
              "WiiU    False\n",
              "DC      False\n",
              "Name: Platform, dtype: bool"
            ]
          },
          "metadata": {
            "tags": []
          },
          "execution_count": 323
        }
      ]
    },
    {
      "cell_type": "code",
      "metadata": {
        "colab": {
          "base_uri": "https://localhost:8080/",
          "height": 381
        },
        "id": "6wsteNQPWCmp",
        "outputId": "f279267a-0ec3-4377-9de9-733cd3ec5104"
      },
      "source": [
        "df.iloc[0:5]"
      ],
      "execution_count": 322,
      "outputs": [
        {
          "output_type": "execute_result",
          "data": {
            "text/html": [
              "<div>\n",
              "<style scoped>\n",
              "    .dataframe tbody tr th:only-of-type {\n",
              "        vertical-align: middle;\n",
              "    }\n",
              "\n",
              "    .dataframe tbody tr th {\n",
              "        vertical-align: top;\n",
              "    }\n",
              "\n",
              "    .dataframe thead th {\n",
              "        text-align: right;\n",
              "    }\n",
              "</style>\n",
              "<table border=\"1\" class=\"dataframe\">\n",
              "  <thead>\n",
              "    <tr style=\"text-align: right;\">\n",
              "      <th></th>\n",
              "      <th>Name</th>\n",
              "      <th>Platform</th>\n",
              "      <th>Year_of_Release</th>\n",
              "      <th>Genre</th>\n",
              "      <th>Publisher</th>\n",
              "      <th>NA_Sales</th>\n",
              "      <th>EU_Sales</th>\n",
              "      <th>JP_Sales</th>\n",
              "      <th>Other_Sales</th>\n",
              "      <th>Global_Sales</th>\n",
              "      <th>Critic_Score</th>\n",
              "      <th>Critic_Count</th>\n",
              "      <th>User_Score</th>\n",
              "      <th>User_Count</th>\n",
              "      <th>Developer</th>\n",
              "      <th>Rating</th>\n",
              "      <th>Year_of_ten</th>\n",
              "      <th>year_of_ten</th>\n",
              "    </tr>\n",
              "  </thead>\n",
              "  <tbody>\n",
              "    <tr>\n",
              "      <th>0</th>\n",
              "      <td>Wii Sports</td>\n",
              "      <td>Wii</td>\n",
              "      <td>2006.0</td>\n",
              "      <td>Sports</td>\n",
              "      <td>Nintendo</td>\n",
              "      <td>41.36</td>\n",
              "      <td>28.96</td>\n",
              "      <td>3.77</td>\n",
              "      <td>8.45</td>\n",
              "      <td>82.53</td>\n",
              "      <td>76.0</td>\n",
              "      <td>51.0</td>\n",
              "      <td>8.0</td>\n",
              "      <td>322.0</td>\n",
              "      <td>Nintendo</td>\n",
              "      <td>E</td>\n",
              "      <td>2000.0</td>\n",
              "      <td>2000</td>\n",
              "    </tr>\n",
              "    <tr>\n",
              "      <th>1</th>\n",
              "      <td>Mario Kart Wii</td>\n",
              "      <td>Wii</td>\n",
              "      <td>2008.0</td>\n",
              "      <td>Racing</td>\n",
              "      <td>Nintendo</td>\n",
              "      <td>15.68</td>\n",
              "      <td>12.76</td>\n",
              "      <td>3.79</td>\n",
              "      <td>3.29</td>\n",
              "      <td>35.52</td>\n",
              "      <td>82.0</td>\n",
              "      <td>73.0</td>\n",
              "      <td>8.3</td>\n",
              "      <td>709.0</td>\n",
              "      <td>Nintendo</td>\n",
              "      <td>E</td>\n",
              "      <td>2000.0</td>\n",
              "      <td>2000</td>\n",
              "    </tr>\n",
              "    <tr>\n",
              "      <th>2</th>\n",
              "      <td>Wii Sports Resort</td>\n",
              "      <td>Wii</td>\n",
              "      <td>2009.0</td>\n",
              "      <td>Sports</td>\n",
              "      <td>Nintendo</td>\n",
              "      <td>15.61</td>\n",
              "      <td>10.93</td>\n",
              "      <td>3.28</td>\n",
              "      <td>2.95</td>\n",
              "      <td>32.77</td>\n",
              "      <td>80.0</td>\n",
              "      <td>73.0</td>\n",
              "      <td>8.0</td>\n",
              "      <td>192.0</td>\n",
              "      <td>Nintendo</td>\n",
              "      <td>E</td>\n",
              "      <td>2000.0</td>\n",
              "      <td>2000</td>\n",
              "    </tr>\n",
              "    <tr>\n",
              "      <th>3</th>\n",
              "      <td>New Super Mario Bros.</td>\n",
              "      <td>DS</td>\n",
              "      <td>2006.0</td>\n",
              "      <td>Platform</td>\n",
              "      <td>Nintendo</td>\n",
              "      <td>11.28</td>\n",
              "      <td>9.14</td>\n",
              "      <td>6.50</td>\n",
              "      <td>2.88</td>\n",
              "      <td>29.80</td>\n",
              "      <td>89.0</td>\n",
              "      <td>65.0</td>\n",
              "      <td>8.5</td>\n",
              "      <td>431.0</td>\n",
              "      <td>Nintendo</td>\n",
              "      <td>E</td>\n",
              "      <td>2000.0</td>\n",
              "      <td>2000</td>\n",
              "    </tr>\n",
              "    <tr>\n",
              "      <th>4</th>\n",
              "      <td>Wii Play</td>\n",
              "      <td>Wii</td>\n",
              "      <td>2006.0</td>\n",
              "      <td>Misc</td>\n",
              "      <td>Nintendo</td>\n",
              "      <td>13.96</td>\n",
              "      <td>9.18</td>\n",
              "      <td>2.93</td>\n",
              "      <td>2.84</td>\n",
              "      <td>28.92</td>\n",
              "      <td>58.0</td>\n",
              "      <td>41.0</td>\n",
              "      <td>6.6</td>\n",
              "      <td>129.0</td>\n",
              "      <td>Nintendo</td>\n",
              "      <td>E</td>\n",
              "      <td>2000.0</td>\n",
              "      <td>2000</td>\n",
              "    </tr>\n",
              "  </tbody>\n",
              "</table>\n",
              "</div>"
            ],
            "text/plain": [
              "                    Name Platform  ...  Year_of_ten year_of_ten\n",
              "0             Wii Sports      Wii  ...       2000.0        2000\n",
              "1         Mario Kart Wii      Wii  ...       2000.0        2000\n",
              "2      Wii Sports Resort      Wii  ...       2000.0        2000\n",
              "3  New Super Mario Bros.       DS  ...       2000.0        2000\n",
              "4               Wii Play      Wii  ...       2000.0        2000\n",
              "\n",
              "[5 rows x 18 columns]"
            ]
          },
          "metadata": {
            "tags": []
          },
          "execution_count": 322
        }
      ]
    },
    {
      "cell_type": "code",
      "metadata": {
        "colab": {
          "base_uri": "https://localhost:8080/"
        },
        "id": "BOe8slgZXWQa",
        "outputId": "4022c5d1-b62c-48fd-823a-1af9c582d891"
      },
      "source": [
        "df[df.Name.str.contains('Mario')]['Developer'].value_counts() == 3"
      ],
      "execution_count": 345,
      "outputs": [
        {
          "output_type": "execute_result",
          "data": {
            "text/plain": [
              "Nintendo                                                        False\n",
              "Hudson                                                          False\n",
              "Camelot Software Planning                                       False\n",
              "Intelligent Systems                                             False\n",
              "Nintendo, Nd Cube                                                True\n",
              "Nintendo, Nintendo Software Technology                           True\n",
              "Next Level Games                                                False\n",
              "Square Enix                                                     False\n",
              "Hudson Soft                                                     False\n",
              "Nintendo, Camelot Software Planning                             False\n",
              "Fuse Games Limited                                              False\n",
              "Nintendo EAD Tokyo                                              False\n",
              "Retro Studios, Entertainment Analysis & Development Division    False\n",
              "Nd Cube                                                         False\n",
              "Namco Bandai Games                                              False\n",
              "Nintendo, Intelligent Systems                                   False\n",
              "Namco                                                           False\n",
              "Name: Developer, dtype: bool"
            ]
          },
          "metadata": {
            "tags": []
          },
          "execution_count": 345
        }
      ]
    },
    {
      "cell_type": "code",
      "metadata": {
        "colab": {
          "base_uri": "https://localhost:8080/"
        },
        "id": "GUTwglPvX1Bh",
        "outputId": "58ab6bc1-e05f-4159-9f7b-0a6986503099"
      },
      "source": [
        "df[df.Platform == 'PS2'].User_Score.kurtosis()"
      ],
      "execution_count": 347,
      "outputs": [
        {
          "output_type": "execute_result",
          "data": {
            "text/plain": [
              "2.4920035946875965"
            ]
          },
          "metadata": {
            "tags": []
          },
          "execution_count": 347
        }
      ]
    },
    {
      "cell_type": "code",
      "metadata": {
        "colab": {
          "base_uri": "https://localhost:8080/"
        },
        "id": "1ELCswrcX-Nb",
        "outputId": "aa038391-49a0-4ea6-b704-2a075ecb5425"
      },
      "source": [
        "((df['NA_Sales'] + df['EU_Sales'] + df['JP_Sales'] + df['Other_Sales']) != df['Global_Sales']).sum()"
      ],
      "execution_count": 351,
      "outputs": [
        {
          "output_type": "execute_result",
          "data": {
            "text/plain": [
              "3636"
            ]
          },
          "metadata": {
            "tags": []
          },
          "execution_count": 351
        }
      ]
    },
    {
      "cell_type": "code",
      "metadata": {
        "colab": {
          "base_uri": "https://localhost:8080/"
        },
        "id": "6YuyENtKYc5q",
        "outputId": "55209ed8-c201-4953-d6bd-3ad8bcb17369"
      },
      "source": [
        "sum((df['User_Count'] >= 120) & (df['User_Score'] >= 9))"
      ],
      "execution_count": 354,
      "outputs": [
        {
          "output_type": "execute_result",
          "data": {
            "text/plain": [
              "86"
            ]
          },
          "metadata": {
            "tags": []
          },
          "execution_count": 354
        }
      ]
    },
    {
      "cell_type": "code",
      "metadata": {
        "colab": {
          "base_uri": "https://localhost:8080/"
        },
        "id": "MTPim0liYuWF",
        "outputId": "c4a9b236-1ede-42f0-e0cc-9306e7ff657b"
      },
      "source": [
        "from sklearn.preprocessing import RobustScaler\n",
        "\n",
        "rb= RobustScaler()\n",
        "rb_fit = rb.fit_transform(df.Global_Sales.values.reshape(-1,1))\n",
        "len(rb_fit[rb_fit > 40])"
      ],
      "execution_count": 356,
      "outputs": [
        {
          "output_type": "execute_result",
          "data": {
            "text/plain": [
              "6"
            ]
          },
          "metadata": {
            "tags": []
          },
          "execution_count": 356
        }
      ]
    }
  ]
}
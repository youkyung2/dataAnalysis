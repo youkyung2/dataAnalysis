{
  "nbformat": 4,
  "nbformat_minor": 0,
  "metadata": {
    "colab": {
      "name": "KBO 타자 OPS 예측.ipynb",
      "provenance": [],
      "authorship_tag": "ABX9TyMj41zvKrrp0Bin1Z6WKzr4",
      "include_colab_link": true
    },
    "kernelspec": {
      "name": "python3",
      "display_name": "Python 3"
    },
    "language_info": {
      "name": "python"
    }
  },
  "cells": [
    {
      "cell_type": "markdown",
      "metadata": {
        "id": "view-in-github",
        "colab_type": "text"
      },
      "source": [
        "<a href=\"https://colab.research.google.com/github/youkyung2/dataAnalysis/blob/master/KBO_%ED%83%80%EC%9E%90_OPS_%EC%98%88%EC%B8%A1.ipynb\" target=\"_parent\"><img src=\"https://colab.research.google.com/assets/colab-badge.svg\" alt=\"Open In Colab\"/></a>"
      ]
    },
    {
      "cell_type": "code",
      "metadata": {
        "id": "xFKwjXcY0qG1"
      },
      "source": [
        "# DataSet\n",
        "# https://raw.githubusercontent.com/youkyung2/dataAnalysis/master/Pred_Koreabaseball/Regular_Season_Batter.csv\n",
        "# https://raw.githubusercontent.com/youkyung2/dataAnalysis/master/Pred_Koreabaseball/Pre_Season_Batter.csv\n",
        "# https://raw.githubusercontent.com/youkyung2/dataAnalysis/master/Pred_Koreabaseball/Regular_Season_Batter_Day_by_Day_b4.csv\n",
        "# https://raw.githubusercontent.com/youkyung2/dataAnalysis/master/Pred_Koreabaseball/submission.csv"
      ],
      "execution_count": null,
      "outputs": []
    },
    {
      "cell_type": "code",
      "metadata": {
        "id": "5aoC0GUF2jdO"
      },
      "source": [
        ""
      ],
      "execution_count": null,
      "outputs": []
    }
  ]
}
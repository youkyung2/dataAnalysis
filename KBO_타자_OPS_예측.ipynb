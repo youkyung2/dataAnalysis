{
  "nbformat": 4,
  "nbformat_minor": 0,
  "metadata": {
    "colab": {
      "name": "KBO 타자 OPS 예측.ipynb",
      "provenance": [],
      "collapsed_sections": [],
      "toc_visible": true,
      "authorship_tag": "ABX9TyPkDNL+E9ZHgUsXIF1eUym1",
      "include_colab_link": true
    },
    "kernelspec": {
      "name": "python3",
      "display_name": "Python 3"
    },
    "language_info": {
      "name": "python"
    }
  },
  "cells": [
    {
      "cell_type": "markdown",
      "metadata": {
        "id": "view-in-github",
        "colab_type": "text"
      },
      "source": [
        "<a href=\"https://colab.research.google.com/github/youkyung2/dataAnalysis/blob/master/KBO_%ED%83%80%EC%9E%90_OPS_%EC%98%88%EC%B8%A1.ipynb\" target=\"_parent\"><img src=\"https://colab.research.google.com/assets/colab-badge.svg\" alt=\"Open In Colab\"/></a>"
      ]
    },
    {
      "cell_type": "code",
      "metadata": {
        "id": "xFKwjXcY0qG1"
      },
      "source": [
        "# DataSet : https://dacon.io/competitions/official/235546/\n",
        "# https://raw.githubusercontent.com/youkyung2/dataAnalysis/master/Pred_Koreabaseball/Regular_Season_Batter.csv\n",
        "# https://raw.githubusercontent.com/youkyung2/dataAnalysis/master/Pred_Koreabaseball/Pre_Season_Batter.csv\n",
        "# https://raw.githubusercontent.com/youkyung2/dataAnalysis/master/Pred_Koreabaseball/Regular_Season_Batter_Day_by_Day_b4.csv\n",
        "# https://raw.githubusercontent.com/youkyung2/dataAnalysis/master/Pred_Koreabaseball/submission.csv\n",
        "# [Files]\n",
        "#① Regular_Season_Batter.csv : KBO에서 활약한 타자들의 역대 정규시즌 성적을 포함하여 몸무게, 키 ,생년월일 등의 기본정보\n",
        "#② Regular_Season_Batter_Day_by_Day.csv: KBO에서 활약한 타자들의 일자 별 정규시즌 성적\n",
        "#③ Pre_Season_Batter.csv : KBO에서 활약한 타자들의 역대 시범경기(정규시즌 직전에 여는 연습경기) 성적\n",
        "#④ submission.csv : 참가자들이 예측해야 할 타자의 이름과 아이디 목록"
      ],
      "execution_count": null,
      "outputs": []
    },
    {
      "cell_type": "code",
      "metadata": {
        "id": "5aoC0GUF2jdO"
      },
      "source": [
        "# 시각화 설정\n",
        "from matplotlib import font_manager, rc\n",
        "import matplotlib\n",
        "import matplotlib.pyplot as plt\n",
        "import seaborn as sns\n",
        "import pandas as pd\n",
        "import numpy as np\n",
        "import platform\n",
        "\n",
        "# 그래프 마이너스기호 표시되게 하는 설정\n",
        "matplotlib.rcParams['axes.unicode_minus'] = False"
      ],
      "execution_count": 1,
      "outputs": []
    },
    {
      "cell_type": "code",
      "metadata": {
        "colab": {
          "base_uri": "https://localhost:8080/"
        },
        "id": "zuk2XqsbVfX1",
        "outputId": "968c7b96-b7be-4f12-f410-e80ea637a237"
      },
      "source": [
        "# 프리시즌 데이터 로드\n",
        "preseason_df = pd.read_csv('https://raw.githubusercontent.com/youkyung2/dataAnalysis/master/Pred_Koreabaseball/Pre_Season_Batter.csv')\n",
        "# 정규시즌 데이터 로드\n",
        "regular_season_df = pd.read_csv('https://raw.githubusercontent.com/youkyung2/dataAnalysis/master/Pred_Koreabaseball/Regular_Season_Batter.csv')\n",
        "# 데이터 크기 확인\n",
        "print(preseason_df.shape)\n",
        "# 데이터 상단 출력\n",
        "print(preseason_df.head())"
      ],
      "execution_count": 2,
      "outputs": [
        {
          "output_type": "stream",
          "text": [
            "(1393, 29)\n",
            "   batter_id batter_name  ...  starting_salary    OPS\n",
            "0          0        가르시아  ...              NaN  0.959\n",
            "1          1         강경학  ...          10000만원  0.500\n",
            "2          1         강경학  ...          10000만원    NaN\n",
            "3          1         강경학  ...          10000만원  0.416\n",
            "4          1         강경학  ...          10000만원  0.493\n",
            "\n",
            "[5 rows x 29 columns]\n"
          ],
          "name": "stdout"
        }
      ]
    },
    {
      "cell_type": "code",
      "metadata": {
        "colab": {
          "base_uri": "https://localhost:8080/",
          "height": 278
        },
        "id": "Y8x50SGdYYCO",
        "outputId": "a453b921-e820-4712-89ce-3fad32c84179"
      },
      "source": [
        "preseason_df.head(2)"
      ],
      "execution_count": 3,
      "outputs": [
        {
          "output_type": "execute_result",
          "data": {
            "text/html": [
              "<div>\n",
              "<style scoped>\n",
              "    .dataframe tbody tr th:only-of-type {\n",
              "        vertical-align: middle;\n",
              "    }\n",
              "\n",
              "    .dataframe tbody tr th {\n",
              "        vertical-align: top;\n",
              "    }\n",
              "\n",
              "    .dataframe thead th {\n",
              "        text-align: right;\n",
              "    }\n",
              "</style>\n",
              "<table border=\"1\" class=\"dataframe\">\n",
              "  <thead>\n",
              "    <tr style=\"text-align: right;\">\n",
              "      <th></th>\n",
              "      <th>batter_id</th>\n",
              "      <th>batter_name</th>\n",
              "      <th>year</th>\n",
              "      <th>team</th>\n",
              "      <th>avg</th>\n",
              "      <th>G</th>\n",
              "      <th>AB</th>\n",
              "      <th>R</th>\n",
              "      <th>H</th>\n",
              "      <th>2B</th>\n",
              "      <th>3B</th>\n",
              "      <th>HR</th>\n",
              "      <th>TB</th>\n",
              "      <th>RBI</th>\n",
              "      <th>SB</th>\n",
              "      <th>CS</th>\n",
              "      <th>BB</th>\n",
              "      <th>HBP</th>\n",
              "      <th>SO</th>\n",
              "      <th>GDP</th>\n",
              "      <th>SLG</th>\n",
              "      <th>OBP</th>\n",
              "      <th>E</th>\n",
              "      <th>height/weight</th>\n",
              "      <th>year_born</th>\n",
              "      <th>position</th>\n",
              "      <th>career</th>\n",
              "      <th>starting_salary</th>\n",
              "      <th>OPS</th>\n",
              "    </tr>\n",
              "  </thead>\n",
              "  <tbody>\n",
              "    <tr>\n",
              "      <th>0</th>\n",
              "      <td>0</td>\n",
              "      <td>가르시아</td>\n",
              "      <td>2018</td>\n",
              "      <td>LG</td>\n",
              "      <td>0.350</td>\n",
              "      <td>7</td>\n",
              "      <td>20</td>\n",
              "      <td>1</td>\n",
              "      <td>7</td>\n",
              "      <td>1</td>\n",
              "      <td>0</td>\n",
              "      <td>1</td>\n",
              "      <td>11</td>\n",
              "      <td>5</td>\n",
              "      <td>0</td>\n",
              "      <td>0</td>\n",
              "      <td>2</td>\n",
              "      <td>0</td>\n",
              "      <td>3</td>\n",
              "      <td>1</td>\n",
              "      <td>0.55</td>\n",
              "      <td>0.409</td>\n",
              "      <td>1</td>\n",
              "      <td>177cm/93kg</td>\n",
              "      <td>1985년 04월 12일</td>\n",
              "      <td>내야수(우투우타)</td>\n",
              "      <td>쿠바 Ciego de Avila Maximo Gomez Baez(대)</td>\n",
              "      <td>NaN</td>\n",
              "      <td>0.959</td>\n",
              "    </tr>\n",
              "    <tr>\n",
              "      <th>1</th>\n",
              "      <td>1</td>\n",
              "      <td>강경학</td>\n",
              "      <td>2011</td>\n",
              "      <td>한화</td>\n",
              "      <td>0.000</td>\n",
              "      <td>4</td>\n",
              "      <td>2</td>\n",
              "      <td>2</td>\n",
              "      <td>0</td>\n",
              "      <td>0</td>\n",
              "      <td>0</td>\n",
              "      <td>0</td>\n",
              "      <td>0</td>\n",
              "      <td>1</td>\n",
              "      <td>0</td>\n",
              "      <td>1</td>\n",
              "      <td>0</td>\n",
              "      <td>2</td>\n",
              "      <td>1</td>\n",
              "      <td>0</td>\n",
              "      <td>0.00</td>\n",
              "      <td>0.500</td>\n",
              "      <td>0</td>\n",
              "      <td>180cm/72kg</td>\n",
              "      <td>1992년 08월 11일</td>\n",
              "      <td>내야수(우투좌타)</td>\n",
              "      <td>광주대성초-광주동성중-광주동성고</td>\n",
              "      <td>10000만원</td>\n",
              "      <td>0.500</td>\n",
              "    </tr>\n",
              "  </tbody>\n",
              "</table>\n",
              "</div>"
            ],
            "text/plain": [
              "   batter_id batter_name  ...  starting_salary    OPS\n",
              "0          0        가르시아  ...              NaN  0.959\n",
              "1          1         강경학  ...          10000만원  0.500\n",
              "\n",
              "[2 rows x 29 columns]"
            ]
          },
          "metadata": {
            "tags": []
          },
          "execution_count": 3
        }
      ]
    },
    {
      "cell_type": "code",
      "metadata": {
        "colab": {
          "base_uri": "https://localhost:8080/",
          "height": 304
        },
        "id": "LHOn93fGZfhj",
        "outputId": "ea5c1ac2-a135-4849-f337-a03339c876b3"
      },
      "source": [
        "# 데이터 기초통계량 확인\n",
        "display(preseason_df.describe())"
      ],
      "execution_count": 4,
      "outputs": [
        {
          "output_type": "display_data",
          "data": {
            "text/html": [
              "<div>\n",
              "<style scoped>\n",
              "    .dataframe tbody tr th:only-of-type {\n",
              "        vertical-align: middle;\n",
              "    }\n",
              "\n",
              "    .dataframe tbody tr th {\n",
              "        vertical-align: top;\n",
              "    }\n",
              "\n",
              "    .dataframe thead th {\n",
              "        text-align: right;\n",
              "    }\n",
              "</style>\n",
              "<table border=\"1\" class=\"dataframe\">\n",
              "  <thead>\n",
              "    <tr style=\"text-align: right;\">\n",
              "      <th></th>\n",
              "      <th>batter_id</th>\n",
              "      <th>year</th>\n",
              "      <th>G</th>\n",
              "      <th>AB</th>\n",
              "      <th>R</th>\n",
              "      <th>H</th>\n",
              "      <th>2B</th>\n",
              "      <th>3B</th>\n",
              "      <th>HR</th>\n",
              "      <th>TB</th>\n",
              "      <th>RBI</th>\n",
              "      <th>SB</th>\n",
              "      <th>CS</th>\n",
              "      <th>BB</th>\n",
              "      <th>HBP</th>\n",
              "      <th>SO</th>\n",
              "      <th>GDP</th>\n",
              "      <th>SLG</th>\n",
              "      <th>OBP</th>\n",
              "      <th>E</th>\n",
              "      <th>OPS</th>\n",
              "    </tr>\n",
              "  </thead>\n",
              "  <tbody>\n",
              "    <tr>\n",
              "      <th>count</th>\n",
              "      <td>1393.000000</td>\n",
              "      <td>1393.000000</td>\n",
              "      <td>1393.000000</td>\n",
              "      <td>1393.000000</td>\n",
              "      <td>1393.000000</td>\n",
              "      <td>1393.000000</td>\n",
              "      <td>1393.000000</td>\n",
              "      <td>1393.000000</td>\n",
              "      <td>1393.000000</td>\n",
              "      <td>1393.000000</td>\n",
              "      <td>1393.000000</td>\n",
              "      <td>1393.000000</td>\n",
              "      <td>1393.000000</td>\n",
              "      <td>1393.000000</td>\n",
              "      <td>1393.000000</td>\n",
              "      <td>1393.000000</td>\n",
              "      <td>1393.000000</td>\n",
              "      <td>1364.000000</td>\n",
              "      <td>1368.000000</td>\n",
              "      <td>1393.000000</td>\n",
              "      <td>1364.000000</td>\n",
              "    </tr>\n",
              "    <tr>\n",
              "      <th>mean</th>\n",
              "      <td>173.434314</td>\n",
              "      <td>2013.014358</td>\n",
              "      <td>8.705671</td>\n",
              "      <td>19.201723</td>\n",
              "      <td>2.679828</td>\n",
              "      <td>5.021536</td>\n",
              "      <td>0.954774</td>\n",
              "      <td>0.119885</td>\n",
              "      <td>0.391960</td>\n",
              "      <td>7.391960</td>\n",
              "      <td>2.430725</td>\n",
              "      <td>0.629576</td>\n",
              "      <td>0.291457</td>\n",
              "      <td>1.877961</td>\n",
              "      <td>0.330223</td>\n",
              "      <td>3.714286</td>\n",
              "      <td>0.447236</td>\n",
              "      <td>0.361012</td>\n",
              "      <td>0.317912</td>\n",
              "      <td>0.381910</td>\n",
              "      <td>0.676924</td>\n",
              "    </tr>\n",
              "    <tr>\n",
              "      <th>std</th>\n",
              "      <td>94.716851</td>\n",
              "      <td>4.166757</td>\n",
              "      <td>5.562686</td>\n",
              "      <td>13.395946</td>\n",
              "      <td>2.637212</td>\n",
              "      <td>4.232584</td>\n",
              "      <td>1.196904</td>\n",
              "      <td>0.379976</td>\n",
              "      <td>0.748557</td>\n",
              "      <td>6.538787</td>\n",
              "      <td>2.698122</td>\n",
              "      <td>1.146854</td>\n",
              "      <td>0.595522</td>\n",
              "      <td>2.053392</td>\n",
              "      <td>0.642204</td>\n",
              "      <td>3.180884</td>\n",
              "      <td>0.723364</td>\n",
              "      <td>0.269892</td>\n",
              "      <td>0.151489</td>\n",
              "      <td>0.729521</td>\n",
              "      <td>0.386933</td>\n",
              "    </tr>\n",
              "    <tr>\n",
              "      <th>min</th>\n",
              "      <td>0.000000</td>\n",
              "      <td>2002.000000</td>\n",
              "      <td>1.000000</td>\n",
              "      <td>0.000000</td>\n",
              "      <td>0.000000</td>\n",
              "      <td>0.000000</td>\n",
              "      <td>0.000000</td>\n",
              "      <td>0.000000</td>\n",
              "      <td>0.000000</td>\n",
              "      <td>0.000000</td>\n",
              "      <td>0.000000</td>\n",
              "      <td>0.000000</td>\n",
              "      <td>0.000000</td>\n",
              "      <td>0.000000</td>\n",
              "      <td>0.000000</td>\n",
              "      <td>0.000000</td>\n",
              "      <td>0.000000</td>\n",
              "      <td>0.000000</td>\n",
              "      <td>0.000000</td>\n",
              "      <td>0.000000</td>\n",
              "      <td>0.000000</td>\n",
              "    </tr>\n",
              "    <tr>\n",
              "      <th>25%</th>\n",
              "      <td>99.000000</td>\n",
              "      <td>2010.000000</td>\n",
              "      <td>6.000000</td>\n",
              "      <td>9.000000</td>\n",
              "      <td>1.000000</td>\n",
              "      <td>2.000000</td>\n",
              "      <td>0.000000</td>\n",
              "      <td>0.000000</td>\n",
              "      <td>0.000000</td>\n",
              "      <td>2.000000</td>\n",
              "      <td>0.000000</td>\n",
              "      <td>0.000000</td>\n",
              "      <td>0.000000</td>\n",
              "      <td>0.000000</td>\n",
              "      <td>0.000000</td>\n",
              "      <td>1.000000</td>\n",
              "      <td>0.000000</td>\n",
              "      <td>0.217000</td>\n",
              "      <td>0.250000</td>\n",
              "      <td>0.000000</td>\n",
              "      <td>0.472000</td>\n",
              "    </tr>\n",
              "    <tr>\n",
              "      <th>50%</th>\n",
              "      <td>178.000000</td>\n",
              "      <td>2014.000000</td>\n",
              "      <td>9.000000</td>\n",
              "      <td>18.000000</td>\n",
              "      <td>2.000000</td>\n",
              "      <td>4.000000</td>\n",
              "      <td>1.000000</td>\n",
              "      <td>0.000000</td>\n",
              "      <td>0.000000</td>\n",
              "      <td>6.000000</td>\n",
              "      <td>2.000000</td>\n",
              "      <td>0.000000</td>\n",
              "      <td>0.000000</td>\n",
              "      <td>1.000000</td>\n",
              "      <td>0.000000</td>\n",
              "      <td>3.000000</td>\n",
              "      <td>0.000000</td>\n",
              "      <td>0.344500</td>\n",
              "      <td>0.333000</td>\n",
              "      <td>0.000000</td>\n",
              "      <td>0.675000</td>\n",
              "    </tr>\n",
              "    <tr>\n",
              "      <th>75%</th>\n",
              "      <td>254.000000</td>\n",
              "      <td>2017.000000</td>\n",
              "      <td>11.000000</td>\n",
              "      <td>28.000000</td>\n",
              "      <td>4.000000</td>\n",
              "      <td>8.000000</td>\n",
              "      <td>2.000000</td>\n",
              "      <td>0.000000</td>\n",
              "      <td>1.000000</td>\n",
              "      <td>11.000000</td>\n",
              "      <td>4.000000</td>\n",
              "      <td>1.000000</td>\n",
              "      <td>0.000000</td>\n",
              "      <td>3.000000</td>\n",
              "      <td>1.000000</td>\n",
              "      <td>5.000000</td>\n",
              "      <td>1.000000</td>\n",
              "      <td>0.478000</td>\n",
              "      <td>0.400000</td>\n",
              "      <td>1.000000</td>\n",
              "      <td>0.867000</td>\n",
              "    </tr>\n",
              "    <tr>\n",
              "      <th>max</th>\n",
              "      <td>344.000000</td>\n",
              "      <td>2018.000000</td>\n",
              "      <td>119.000000</td>\n",
              "      <td>183.000000</td>\n",
              "      <td>35.000000</td>\n",
              "      <td>51.000000</td>\n",
              "      <td>11.000000</td>\n",
              "      <td>4.000000</td>\n",
              "      <td>5.000000</td>\n",
              "      <td>68.000000</td>\n",
              "      <td>24.000000</td>\n",
              "      <td>9.000000</td>\n",
              "      <td>4.000000</td>\n",
              "      <td>21.000000</td>\n",
              "      <td>4.000000</td>\n",
              "      <td>36.000000</td>\n",
              "      <td>5.000000</td>\n",
              "      <td>4.000000</td>\n",
              "      <td>1.000000</td>\n",
              "      <td>5.000000</td>\n",
              "      <td>5.000000</td>\n",
              "    </tr>\n",
              "  </tbody>\n",
              "</table>\n",
              "</div>"
            ],
            "text/plain": [
              "         batter_id         year  ...            E          OPS\n",
              "count  1393.000000  1393.000000  ...  1393.000000  1364.000000\n",
              "mean    173.434314  2013.014358  ...     0.381910     0.676924\n",
              "std      94.716851     4.166757  ...     0.729521     0.386933\n",
              "min       0.000000  2002.000000  ...     0.000000     0.000000\n",
              "25%      99.000000  2010.000000  ...     0.000000     0.472000\n",
              "50%     178.000000  2014.000000  ...     0.000000     0.675000\n",
              "75%     254.000000  2017.000000  ...     1.000000     0.867000\n",
              "max     344.000000  2018.000000  ...     5.000000     5.000000\n",
              "\n",
              "[8 rows x 21 columns]"
            ]
          },
          "metadata": {
            "tags": []
          }
        }
      ]
    },
    {
      "cell_type": "code",
      "metadata": {
        "colab": {
          "base_uri": "https://localhost:8080/",
          "height": 657
        },
        "id": "mZkTRaNjZ6uP",
        "outputId": "12fbe9a6-0965-48ef-b911-90b78b9b1f44"
      },
      "source": [
        "# 데이터시각화\n",
        "preseason_df.hist(figsize=(10,9))\n",
        "plt.tight_layout() #그래프 간격 설정\n",
        "plt.show() # 과거 데이터일 수록 기록한 데이터 수가 적다"
      ],
      "execution_count": 5,
      "outputs": [
        {
          "output_type": "display_data",
          "data": {
            "image/png": "[encoded data removed]",
            "text/plain": [
              "<Figure size 720x648 with 25 Axes>"
            ]
          },
          "metadata": {
            "tags": [],
            "needs_background": "light"
          }
        }
      ]
    },
    {
      "cell_type": "code",
      "metadata": {
        "id": "ppnYuTd3aaXd"
      },
      "source": [
        "# 정규시즌 데이터에서 2002년 이후의 연도별 기록된 선수의 수\n",
        "regular_count = regular_season_df.groupby('year')['batter_id'].count().rename('regular')\n",
        "\n",
        "# 프리시즌 데이터에서 연도별 기록된 선수의 수\n",
        "preseason_count = preseason_df.groupby('year')['batter_id'].count().rename('preseason')"
      ],
      "execution_count": 6,
      "outputs": []
    },
    {
      "cell_type": "code",
      "metadata": {
        "colab": {
          "base_uri": "https://localhost:8080/",
          "height": 374
        },
        "id": "Gm5MAsJlb8NC",
        "outputId": "865e47f3-2b0f-4146-dffc-8081d8e6d60d"
      },
      "source": [
        "regular_season_df.head(3)"
      ],
      "execution_count": 7,
      "outputs": [
        {
          "output_type": "execute_result",
          "data": {
            "text/html": [
              "<div>\n",
              "<style scoped>\n",
              "    .dataframe tbody tr th:only-of-type {\n",
              "        vertical-align: middle;\n",
              "    }\n",
              "\n",
              "    .dataframe tbody tr th {\n",
              "        vertical-align: top;\n",
              "    }\n",
              "\n",
              "    .dataframe thead th {\n",
              "        text-align: right;\n",
              "    }\n",
              "</style>\n",
              "<table border=\"1\" class=\"dataframe\">\n",
              "  <thead>\n",
              "    <tr style=\"text-align: right;\">\n",
              "      <th></th>\n",
              "      <th>batter_id</th>\n",
              "      <th>batter_name</th>\n",
              "      <th>year</th>\n",
              "      <th>team</th>\n",
              "      <th>avg</th>\n",
              "      <th>G</th>\n",
              "      <th>AB</th>\n",
              "      <th>R</th>\n",
              "      <th>H</th>\n",
              "      <th>2B</th>\n",
              "      <th>3B</th>\n",
              "      <th>HR</th>\n",
              "      <th>TB</th>\n",
              "      <th>RBI</th>\n",
              "      <th>SB</th>\n",
              "      <th>CS</th>\n",
              "      <th>BB</th>\n",
              "      <th>HBP</th>\n",
              "      <th>SO</th>\n",
              "      <th>GDP</th>\n",
              "      <th>SLG</th>\n",
              "      <th>OBP</th>\n",
              "      <th>E</th>\n",
              "      <th>height/weight</th>\n",
              "      <th>year_born</th>\n",
              "      <th>position</th>\n",
              "      <th>career</th>\n",
              "      <th>starting_salary</th>\n",
              "      <th>OPS</th>\n",
              "    </tr>\n",
              "  </thead>\n",
              "  <tbody>\n",
              "    <tr>\n",
              "      <th>0</th>\n",
              "      <td>0</td>\n",
              "      <td>가르시아</td>\n",
              "      <td>2018</td>\n",
              "      <td>LG</td>\n",
              "      <td>0.339</td>\n",
              "      <td>50</td>\n",
              "      <td>183</td>\n",
              "      <td>27</td>\n",
              "      <td>62</td>\n",
              "      <td>9</td>\n",
              "      <td>0</td>\n",
              "      <td>8</td>\n",
              "      <td>95</td>\n",
              "      <td>34</td>\n",
              "      <td>5</td>\n",
              "      <td>0</td>\n",
              "      <td>9</td>\n",
              "      <td>8</td>\n",
              "      <td>25</td>\n",
              "      <td>3</td>\n",
              "      <td>0.519</td>\n",
              "      <td>0.383</td>\n",
              "      <td>9</td>\n",
              "      <td>177cm/93kg</td>\n",
              "      <td>1985년 04월 12일</td>\n",
              "      <td>내야수(우투우타)</td>\n",
              "      <td>쿠바 Ciego de Avila Maximo Gomez Baez(대)</td>\n",
              "      <td>NaN</td>\n",
              "      <td>0.902</td>\n",
              "    </tr>\n",
              "    <tr>\n",
              "      <th>1</th>\n",
              "      <td>1</td>\n",
              "      <td>강경학</td>\n",
              "      <td>2011</td>\n",
              "      <td>한화</td>\n",
              "      <td>0.000</td>\n",
              "      <td>2</td>\n",
              "      <td>1</td>\n",
              "      <td>0</td>\n",
              "      <td>0</td>\n",
              "      <td>0</td>\n",
              "      <td>0</td>\n",
              "      <td>0</td>\n",
              "      <td>0</td>\n",
              "      <td>0</td>\n",
              "      <td>0</td>\n",
              "      <td>0</td>\n",
              "      <td>0</td>\n",
              "      <td>0</td>\n",
              "      <td>1</td>\n",
              "      <td>0</td>\n",
              "      <td>0.000</td>\n",
              "      <td>0.000</td>\n",
              "      <td>1</td>\n",
              "      <td>180cm/72kg</td>\n",
              "      <td>1992년 08월 11일</td>\n",
              "      <td>내야수(우투좌타)</td>\n",
              "      <td>광주대성초-광주동성중-광주동성고</td>\n",
              "      <td>10000만원</td>\n",
              "      <td>0.000</td>\n",
              "    </tr>\n",
              "    <tr>\n",
              "      <th>2</th>\n",
              "      <td>1</td>\n",
              "      <td>강경학</td>\n",
              "      <td>2014</td>\n",
              "      <td>한화</td>\n",
              "      <td>0.221</td>\n",
              "      <td>41</td>\n",
              "      <td>86</td>\n",
              "      <td>11</td>\n",
              "      <td>19</td>\n",
              "      <td>2</td>\n",
              "      <td>3</td>\n",
              "      <td>1</td>\n",
              "      <td>30</td>\n",
              "      <td>7</td>\n",
              "      <td>0</td>\n",
              "      <td>0</td>\n",
              "      <td>13</td>\n",
              "      <td>2</td>\n",
              "      <td>28</td>\n",
              "      <td>1</td>\n",
              "      <td>0.349</td>\n",
              "      <td>0.337</td>\n",
              "      <td>6</td>\n",
              "      <td>180cm/72kg</td>\n",
              "      <td>1992년 08월 11일</td>\n",
              "      <td>내야수(우투좌타)</td>\n",
              "      <td>광주대성초-광주동성중-광주동성고</td>\n",
              "      <td>10000만원</td>\n",
              "      <td>0.686</td>\n",
              "    </tr>\n",
              "  </tbody>\n",
              "</table>\n",
              "</div>"
            ],
            "text/plain": [
              "   batter_id batter_name  ...  starting_salary    OPS\n",
              "0          0        가르시아  ...              NaN  0.902\n",
              "1          1         강경학  ...          10000만원  0.000\n",
              "2          1         강경학  ...          10000만원  0.686\n",
              "\n",
              "[3 rows x 29 columns]"
            ]
          },
          "metadata": {
            "tags": []
          },
          "execution_count": 7
        }
      ]
    },
    {
      "cell_type": "code",
      "metadata": {
        "colab": {
          "base_uri": "https://localhost:8080/",
          "height": 297
        },
        "id": "gP3RP1JJcmCb",
        "outputId": "f0ee79f9-6246-4c64-b28f-d448a4b32c99"
      },
      "source": [
        "regular_count.plot()"
      ],
      "execution_count": 23,
      "outputs": [
        {
          "output_type": "execute_result",
          "data": {
            "text/plain": [
              "<matplotlib.axes._subplots.AxesSubplot at 0x7fcb2bdfca50>"
            ]
          },
          "metadata": {
            "tags": []
          },
          "execution_count": 23
        },
        {
          "output_type": "display_data",
          "data": {
            "image/png": "[encoded data removed]",
            "text/plain": [
              "<Figure size 432x288 with 1 Axes>"
            ]
          },
          "metadata": {
            "tags": [],
            "needs_background": "light"
          }
        }
      ]
    },
    {
      "cell_type": "code",
      "metadata": {
        "colab": {
          "base_uri": "https://localhost:8080/"
        },
        "id": "cbBkr29GcNx5",
        "outputId": "1bf73d8d-01bd-4bc2-9f29-1f7d93117fa5"
      },
      "source": [
        "regular_count.loc[2002:]"
      ],
      "execution_count": 22,
      "outputs": [
        {
          "output_type": "execute_result",
          "data": {
            "text/plain": [
              "year\n",
              "2002     43\n",
              "2003     54\n",
              "2004     68\n",
              "2005     73\n",
              "2006     85\n",
              "2007     98\n",
              "2008    115\n",
              "2009    124\n",
              "2010    130\n",
              "2011    151\n",
              "2012    174\n",
              "2013    194\n",
              "2014    186\n",
              "2015    207\n",
              "2016    213\n",
              "2017    217\n",
              "2018    227\n",
              "Name: regular, dtype: int64"
            ]
          },
          "metadata": {
            "tags": []
          },
          "execution_count": 22
        }
      ]
    },
    {
      "cell_type": "code",
      "metadata": {
        "colab": {
          "base_uri": "https://localhost:8080/"
        },
        "id": "KACXAzm9baZ6",
        "outputId": "4d5df526-7899-47a6-e933-95342e557d73"
      },
      "source": [
        "print(regular_count.head())\n",
        "print(preseason_count.head())"
      ],
      "execution_count": 17,
      "outputs": [
        {
          "output_type": "stream",
          "text": [
            "year\n",
            "1993    1\n",
            "1994    2\n",
            "1995    1\n",
            "1996    7\n",
            "1997    8\n",
            "Name: regular, dtype: int64\n",
            "year\n",
            "2002    12\n",
            "2003    19\n",
            "2004    28\n",
            "2005    37\n",
            "2006    36\n",
            "Name: preseason, dtype: int64\n"
          ],
          "name": "stdout"
        }
      ]
    },
    {
      "cell_type": "code",
      "metadata": {
        "colab": {
          "base_uri": "https://localhost:8080/"
        },
        "id": "PaD7jlwVcxDR",
        "outputId": "6a72d918-f20d-4be6-e85a-01f343ae8f38"
      },
      "source": [
        "np.round(preseason_count/regular_count,2).rename('ratio')"
      ],
      "execution_count": 25,
      "outputs": [
        {
          "output_type": "execute_result",
          "data": {
            "text/plain": [
              "year\n",
              "1993     NaN\n",
              "1994     NaN\n",
              "1995     NaN\n",
              "1996     NaN\n",
              "1997     NaN\n",
              "1998     NaN\n",
              "1999     NaN\n",
              "2000     NaN\n",
              "2001     NaN\n",
              "2002    0.28\n",
              "2003    0.35\n",
              "2004    0.41\n",
              "2005    0.51\n",
              "2006    0.42\n",
              "2007    0.44\n",
              "2008    0.53\n",
              "2009    0.53\n",
              "2010    0.55\n",
              "2011    0.50\n",
              "2012    0.50\n",
              "2013    0.54\n",
              "2014    0.63\n",
              "2015    0.65\n",
              "2016    0.72\n",
              "2017    0.77\n",
              "2018    0.80\n",
              "Name: ratio, dtype: float64"
            ]
          },
          "metadata": {
            "tags": []
          },
          "execution_count": 25
        }
      ]
    },
    {
      "cell_type": "code",
      "metadata": {
        "colab": {
          "base_uri": "https://localhost:8080/",
          "height": 580
        },
        "id": "7qPxQOiJdMnN",
        "outputId": "aa56fd66-18ad-4af3-ef06-5c1ed66e489c"
      },
      "source": [
        "pd.concat([regular_count, preseason_count, np.round(preseason_count/regular_count,2).rename('ratio')], axis =1).loc[2002:]"
      ],
      "execution_count": 28,
      "outputs": [
        {
          "output_type": "execute_result",
          "data": {
            "text/html": [
              "<div>\n",
              "<style scoped>\n",
              "    .dataframe tbody tr th:only-of-type {\n",
              "        vertical-align: middle;\n",
              "    }\n",
              "\n",
              "    .dataframe tbody tr th {\n",
              "        vertical-align: top;\n",
              "    }\n",
              "\n",
              "    .dataframe thead th {\n",
              "        text-align: right;\n",
              "    }\n",
              "</style>\n",
              "<table border=\"1\" class=\"dataframe\">\n",
              "  <thead>\n",
              "    <tr style=\"text-align: right;\">\n",
              "      <th></th>\n",
              "      <th>regular</th>\n",
              "      <th>preseason</th>\n",
              "      <th>ratio</th>\n",
              "    </tr>\n",
              "    <tr>\n",
              "      <th>year</th>\n",
              "      <th></th>\n",
              "      <th></th>\n",
              "      <th></th>\n",
              "    </tr>\n",
              "  </thead>\n",
              "  <tbody>\n",
              "    <tr>\n",
              "      <th>2002</th>\n",
              "      <td>43</td>\n",
              "      <td>12.0</td>\n",
              "      <td>0.28</td>\n",
              "    </tr>\n",
              "    <tr>\n",
              "      <th>2003</th>\n",
              "      <td>54</td>\n",
              "      <td>19.0</td>\n",
              "      <td>0.35</td>\n",
              "    </tr>\n",
              "    <tr>\n",
              "      <th>2004</th>\n",
              "      <td>68</td>\n",
              "      <td>28.0</td>\n",
              "      <td>0.41</td>\n",
              "    </tr>\n",
              "    <tr>\n",
              "      <th>2005</th>\n",
              "      <td>73</td>\n",
              "      <td>37.0</td>\n",
              "      <td>0.51</td>\n",
              "    </tr>\n",
              "    <tr>\n",
              "      <th>2006</th>\n",
              "      <td>85</td>\n",
              "      <td>36.0</td>\n",
              "      <td>0.42</td>\n",
              "    </tr>\n",
              "    <tr>\n",
              "      <th>2007</th>\n",
              "      <td>98</td>\n",
              "      <td>43.0</td>\n",
              "      <td>0.44</td>\n",
              "    </tr>\n",
              "    <tr>\n",
              "      <th>2008</th>\n",
              "      <td>115</td>\n",
              "      <td>61.0</td>\n",
              "      <td>0.53</td>\n",
              "    </tr>\n",
              "    <tr>\n",
              "      <th>2009</th>\n",
              "      <td>124</td>\n",
              "      <td>66.0</td>\n",
              "      <td>0.53</td>\n",
              "    </tr>\n",
              "    <tr>\n",
              "      <th>2010</th>\n",
              "      <td>130</td>\n",
              "      <td>72.0</td>\n",
              "      <td>0.55</td>\n",
              "    </tr>\n",
              "    <tr>\n",
              "      <th>2011</th>\n",
              "      <td>151</td>\n",
              "      <td>75.0</td>\n",
              "      <td>0.50</td>\n",
              "    </tr>\n",
              "    <tr>\n",
              "      <th>2012</th>\n",
              "      <td>174</td>\n",
              "      <td>87.0</td>\n",
              "      <td>0.50</td>\n",
              "    </tr>\n",
              "    <tr>\n",
              "      <th>2013</th>\n",
              "      <td>194</td>\n",
              "      <td>104.0</td>\n",
              "      <td>0.54</td>\n",
              "    </tr>\n",
              "    <tr>\n",
              "      <th>2014</th>\n",
              "      <td>186</td>\n",
              "      <td>117.0</td>\n",
              "      <td>0.63</td>\n",
              "    </tr>\n",
              "    <tr>\n",
              "      <th>2015</th>\n",
              "      <td>207</td>\n",
              "      <td>134.0</td>\n",
              "      <td>0.65</td>\n",
              "    </tr>\n",
              "    <tr>\n",
              "      <th>2016</th>\n",
              "      <td>213</td>\n",
              "      <td>153.0</td>\n",
              "      <td>0.72</td>\n",
              "    </tr>\n",
              "    <tr>\n",
              "      <th>2017</th>\n",
              "      <td>217</td>\n",
              "      <td>167.0</td>\n",
              "      <td>0.77</td>\n",
              "    </tr>\n",
              "    <tr>\n",
              "      <th>2018</th>\n",
              "      <td>227</td>\n",
              "      <td>182.0</td>\n",
              "      <td>0.80</td>\n",
              "    </tr>\n",
              "  </tbody>\n",
              "</table>\n",
              "</div>"
            ],
            "text/plain": [
              "      regular  preseason  ratio\n",
              "year                           \n",
              "2002       43       12.0   0.28\n",
              "2003       54       19.0   0.35\n",
              "2004       68       28.0   0.41\n",
              "2005       73       37.0   0.51\n",
              "2006       85       36.0   0.42\n",
              "2007       98       43.0   0.44\n",
              "2008      115       61.0   0.53\n",
              "2009      124       66.0   0.53\n",
              "2010      130       72.0   0.55\n",
              "2011      151       75.0   0.50\n",
              "2012      174       87.0   0.50\n",
              "2013      194      104.0   0.54\n",
              "2014      186      117.0   0.63\n",
              "2015      207      134.0   0.65\n",
              "2016      213      153.0   0.72\n",
              "2017      217      167.0   0.77\n",
              "2018      227      182.0   0.80"
            ]
          },
          "metadata": {
            "tags": []
          },
          "execution_count": 28
        }
      ]
    },
    {
      "cell_type": "code",
      "metadata": {
        "colab": {
          "base_uri": "https://localhost:8080/",
          "height": 136
        },
        "id": "1_q7TiRRbX6k",
        "outputId": "e1180d7f-84f7-46a4-b8df-4c8a5a6cf5c0"
      },
      "source": [
        "pd.concat([regular_count, preseason_count, np.round(preseason_count/regular_count,2).rename('ratio')], axis =1).transpose().loc[:,2002:] # 2002년부터 봄\n",
        "# 해석 : 과거로 갈 수록 프리시즌의 기록이 정규시즌보다 적어짐"
      ],
      "execution_count": 8,
      "outputs": [
        {
          "output_type": "execute_result",
          "data": {
            "text/html": [
              "<div>\n",
              "<style scoped>\n",
              "    .dataframe tbody tr th:only-of-type {\n",
              "        vertical-align: middle;\n",
              "    }\n",
              "\n",
              "    .dataframe tbody tr th {\n",
              "        vertical-align: top;\n",
              "    }\n",
              "\n",
              "    .dataframe thead th {\n",
              "        text-align: right;\n",
              "    }\n",
              "</style>\n",
              "<table border=\"1\" class=\"dataframe\">\n",
              "  <thead>\n",
              "    <tr style=\"text-align: right;\">\n",
              "      <th>year</th>\n",
              "      <th>2002</th>\n",
              "      <th>2003</th>\n",
              "      <th>2004</th>\n",
              "      <th>2005</th>\n",
              "      <th>2006</th>\n",
              "      <th>2007</th>\n",
              "      <th>2008</th>\n",
              "      <th>2009</th>\n",
              "      <th>2010</th>\n",
              "      <th>2011</th>\n",
              "      <th>2012</th>\n",
              "      <th>2013</th>\n",
              "      <th>2014</th>\n",
              "      <th>2015</th>\n",
              "      <th>2016</th>\n",
              "      <th>2017</th>\n",
              "      <th>2018</th>\n",
              "    </tr>\n",
              "  </thead>\n",
              "  <tbody>\n",
              "    <tr>\n",
              "      <th>regular</th>\n",
              "      <td>43.00</td>\n",
              "      <td>54.00</td>\n",
              "      <td>68.00</td>\n",
              "      <td>73.00</td>\n",
              "      <td>85.00</td>\n",
              "      <td>98.00</td>\n",
              "      <td>115.00</td>\n",
              "      <td>124.00</td>\n",
              "      <td>130.00</td>\n",
              "      <td>151.0</td>\n",
              "      <td>174.0</td>\n",
              "      <td>194.00</td>\n",
              "      <td>186.00</td>\n",
              "      <td>207.00</td>\n",
              "      <td>213.00</td>\n",
              "      <td>217.00</td>\n",
              "      <td>227.0</td>\n",
              "    </tr>\n",
              "    <tr>\n",
              "      <th>preseason</th>\n",
              "      <td>12.00</td>\n",
              "      <td>19.00</td>\n",
              "      <td>28.00</td>\n",
              "      <td>37.00</td>\n",
              "      <td>36.00</td>\n",
              "      <td>43.00</td>\n",
              "      <td>61.00</td>\n",
              "      <td>66.00</td>\n",
              "      <td>72.00</td>\n",
              "      <td>75.0</td>\n",
              "      <td>87.0</td>\n",
              "      <td>104.00</td>\n",
              "      <td>117.00</td>\n",
              "      <td>134.00</td>\n",
              "      <td>153.00</td>\n",
              "      <td>167.00</td>\n",
              "      <td>182.0</td>\n",
              "    </tr>\n",
              "    <tr>\n",
              "      <th>ratio</th>\n",
              "      <td>0.28</td>\n",
              "      <td>0.35</td>\n",
              "      <td>0.41</td>\n",
              "      <td>0.51</td>\n",
              "      <td>0.42</td>\n",
              "      <td>0.44</td>\n",
              "      <td>0.53</td>\n",
              "      <td>0.53</td>\n",
              "      <td>0.55</td>\n",
              "      <td>0.5</td>\n",
              "      <td>0.5</td>\n",
              "      <td>0.54</td>\n",
              "      <td>0.63</td>\n",
              "      <td>0.65</td>\n",
              "      <td>0.72</td>\n",
              "      <td>0.77</td>\n",
              "      <td>0.8</td>\n",
              "    </tr>\n",
              "  </tbody>\n",
              "</table>\n",
              "</div>"
            ],
            "text/plain": [
              "year        2002   2003   2004   2005  ...    2015    2016    2017   2018\n",
              "regular    43.00  54.00  68.00  73.00  ...  207.00  213.00  217.00  227.0\n",
              "preseason  12.00  19.00  28.00  37.00  ...  134.00  153.00  167.00  182.0\n",
              "ratio       0.28   0.35   0.41   0.51  ...    0.65    0.72    0.77    0.8\n",
              "\n",
              "[3 rows x 17 columns]"
            ]
          },
          "metadata": {
            "tags": []
          },
          "execution_count": 8
        }
      ]
    },
    {
      "cell_type": "code",
      "metadata": {
        "colab": {
          "base_uri": "https://localhost:8080/"
        },
        "id": "Z0jtJaUtdbaG",
        "outputId": "a8f0d94c-3daa-4e30-ea22-e4ca56f64e8e"
      },
      "source": [
        "# 프리시즌의 성적과 정규시즌의 성적 간의 상관관계 구하기\n",
        "regular_season_df['new_idx'] = regular_season_df['batter_name'] + regular_season_df['year'].apply(str)\n",
        "preseason_df['new_idx'] = preseason_df['batter_name'] + preseason_df['year'].apply(str)\n",
        "\n",
        "print(regular_season_df['new_idx'].head(3))\n",
        "print(preseason_df['new_idx'].head(3))"
      ],
      "execution_count": 13,
      "outputs": [
        {
          "output_type": "stream",
          "text": [
            "0    가르시아2018\n",
            "1     강경학2011\n",
            "2     강경학2014\n",
            "Name: new_idx, dtype: object\n",
            "0    가르시아2018\n",
            "1     강경학2011\n",
            "2     강경학2014\n",
            "Name: new_idx, dtype: object\n"
          ],
          "name": "stdout"
        }
      ]
    },
    {
      "cell_type": "code",
      "metadata": {
        "colab": {
          "base_uri": "https://localhost:8080/"
        },
        "id": "_zBrB8tZeZDC",
        "outputId": "64b06fa4-0f71-45c5-c679-e0803d96052b"
      },
      "source": [
        "# 새로운 인덱스의 교집합 (두 데이터의 성적을 비교하기위해 두 데이터에 공통으로 존재하는 선수들의 기록만 사용하기로 함)\n",
        "intersection_idx = list(set(regular_season_df['new_idx']).intersection(preseason_df['new_idx']))\n",
        "\n",
        "print(intersection_idx)"
      ],
      "execution_count": 14,
      "outputs": [
        {
          "output_type": "stream",
          "text": [
            "['윤석민2017', '스크럭스2018', '이명기2018', '채태인2018', '이지영2017', '정의윤2005', '임병욱2017', '김재율2012', '김성욱2015', '손시헌2005', '강구성2013', '정상호2003', '정범모2012', '조동찬2012', '최진행2015', '박헌도2013', '이성열2011', '송광민2017', '유재신2008', '최정2011', '이성우2010', '배영섭2012', '백창수2010', '박기혁2007', '이종욱2008', '이진영2014', '손주인2013', '안치홍2009', '정수빈2015', '나지완2013', '김용의2016', '박해민2016', '박기혁2003', '장성우2009', '박한이2008', '정훈2016', '박병호2009', '손시헌2018', '이영욱2016', '송민섭2018', '정근우2005', '김상수2018', '김성현2012', '민병헌2015', '양석환2015', '이대호2009', '이지영2013', '정성훈2009', '손아섭2016', '정성훈2005', '오지환2011', '정성훈2002', '송민섭2015', '김주형2006', '김주형2016', '최준석2009', '오재일2010', '김문호2016', '조동찬2016', '이용규2013', '조동화2013', '조동찬2018', '박해민2017', '이준호2012', '하주석2012', '양성우2012', '이상호2014', '장성우2014', '정수빈2014', '손시헌2012', '박지규2015', '나주환2018', '나성범2018', '오재일2013', '정훈2017', '장승현2018', '이택근2014', '안치홍2018', '조수행2016', '허도환2016', '나지완2014', '이재원2010', '박준태2015', '이범호2015', '김재성2015', '강한울2017', '유재신2009', '박용택2002', '박민우2013', '박동원2018', '박세혁2016', '최준석2012', '김선빈2010', '문규현2015', '김동한2016', '오선진2016', '이대수2014', '박한이2014', '강민호2015', '신성현2018', '안치홍2010', '정상호2016', '김태완2013', '김혜성2018', '박경수2005', '박광열2016', '안치홍2012', '김동욱2015', '김강민2008', '윤석민2014', '김상호2012', '양종민2018', '김태완2008', '최준석2007', '이진영2007', '정훈2011', '이대형2011', '김헌곤2012', '김사훈2017', '문규현2012', '손주인2011', '신종길2014', '김강민2015', '이준수2013', '박세혁2018', '오재일2009', '황재균2014', '유한준2005', '이대호2018', '김태완2017', '이대호2004', '김용의2018', '정성훈2013', '허경민2017', '조수행2018', '손시헌2013', '송광민2010', '김현수2014', '이정후2017', '최정민2015', '모창민2017', '이범호2014', '민병헌2007', '정상호2018', '지성준2015', '이준호2013', '지석훈2014', '김민성2009', '허도환2013', '이택근2009', '조수행2017', '이용규2018', '박병호2010', '김용의2013', '정근우2012', '이성우2009', '전준우2013', '이천웅2016', '박광열2015', '지석훈2013', '박기혁2018', '정현2017', '김성현2015', '홍재호2017', '지석훈2011', '임훈2010', '최영진2018', '이진영2003', '채은성2014', '백상원2017', '이재원2017', '최주환2018', '강진성2017', '오지환2017', '정성훈2014', '김민성2012', '강민호2012', '김지수2017', '강승호2017', '이진영2002', '노수광2015', '강경학2015', '김강민2009', '황재균2016', '고종욱2011', '조동찬2010', '최주환2017', '강민국2014', '최승준2018', '양의지2014', '이성열2010', '박동원2014', '고종욱2017', '박석민2010', '정상호2012', '김민성2014', '오지환2014', '오정복2016', '김주찬2009', '양종민2010', '임훈2013', '이명기2016', '장민석2012', '최형우2008', '정주현2012', '지석훈2006', '유한준2013', '박건우2018', '신성현2016', '이용규2009', '김재현2015', '나성범2016', '오재원2009', '황진수2014', '김재호2013', '김상수2010', '이진영2010', '박정권2009', '장민석2008', '이성우2011', '김주찬2004', '안중열2015', '서건창2017', '임종혁2014', '장성우2018', '박한이2011', '박찬도2014', '황윤호2017', '김회성2010', '김주찬2010', '최항2017', '김상호2017', '최정2007', '임훈2014', '정상호2014', '박경수2007', '최형우2002', '박용택2006', '박정권2016', '강진성2018', '나지완2008', '김용의2017', '허도환2017', '박병호2013', '오재원2012', '이호신2015', '강승호2016', '도태훈2017', '이성열2006', '이영욱2015', '박민우2018', '민병헌2008', '한승택2017', '박한이2005', '김상수2011', '이해창2016', '이택근2016', '나지완2012', '강민호2010', '임훈2012', '민병헌2006', '정훈2014', '최정2010', '이원석2009', '김성욱2018', '김동엽2016', '이명기2017', '김하성2016', '서동욱2010', '오재일2011', '문규현2018', '강민호2008', '이준호2011', '김문호2013', '노진혁2014', '오선진2009', '신종길2004', '손아섭2008', '김현수2012', '박기혁2013', '김현수2011', '이대수2012', '정진기2012', '김민성2017', '배영섭2016', '오재원2010', '김선빈2012', '오정복2018', '신성현2017', '이성열2017', '이택근2008', '김지수2010', '이해창2018', '이대형2017', '윤진호2018', '김주찬2003', '이대호2006', '고종욱2016', '최정2015', '강민호2007', '김성현2006', '이용규2016', '이대형2006', '백상원2015', '한동희2018', '김민성2018', '백상원2016', '김상수2012', '유재신2016', '이성열2012', '문규현2010', '김태균2018', '최주환2016', '최형우2009', '하준호2017', '김주찬2015', '김강민2007', '김민성2016', '김문호2011', '이성열2018', '김성욱2013', '최정2005', '정근우2007', '장영석2010', '김재호2004', '이대수2016', '최준석2011', '이용규2010', '양석환2018', '장성우2015', '모창민2013', '이진영2017', '황재균2011', '김선빈2018', '정성훈2012', '최재훈2018', '김사훈2018', '신종길2011', '최형우2004', '이동훈2018', '이종욱2013', '오재일2014', '박경수2017', '강민호2013', '정근우2010', '이대수2006', '최윤석2012', '지석훈2007', '이흥련2014', '김재호2009', '오태곤2015', '박용택2018', '김현수2007', '이상호2017', '김태완2010', '김태균2015', '이재원2016', '이지영2012', '박석민2009', '박해민2015', '나지완2009', '오재원2017', '서동욱2005', '박경수2006', '서동욱2013', '박동원2013', '이영욱2017', '최진행2016', '손아섭2015', '윤정우2016', '최정2012', '서동욱2018', '신종길2013', '정범모2013', '정근우2008', '나주환2017', '조평호2013', '이진영2004', '하준호2016', '조동찬2013', '김재현2016', '이용규2004', '이성곤2014', '이동훈2017', '김강민2016', '이택근2013', '서동욱2011', '김민수2018', '정의윤2006', '허경민2018', '윤석민2005', '정성훈2010', '정근우2016', '황재균2010', '문규현2004', '박용택2016', '정범모2018', '이원석2007', '최진행2010', '이성열2014', '강승호2018', '손시헌2014', '심우준2016', '김태완2018', '오재원2018', '최형우2018', '김민식2016', '김재호2005', '이대형2003', '지석훈2005', '김민성2013', '윤수강2012', '김하성2017', '김사훈2014', '최준석2017', '이대수2008', '김인태2017', '홍재호2012', '안치홍2014', '이원석2014', '김태균2012', '채은성2016', '정근우2006', '김사훈2013', '손시헌2004', '유한준2007', '박병호2012', '유강남2018', '이진영2012', '박용택2015', '문규현2013', '오정복2010', '최원준2017', '서동욱2009', '나지완2016', '노진혁2018', '조동찬2009', '이진영2005', '한동민2017', '손주인2014', '박용택2009', '김재호2008', '배영섭2013', '최준석2008', '최재훈2013', '오재원2008', '이대호2017', '박헌도2014', '정성훈2018', '박건우2017', '박찬도2015', '백용환2016', '윤진호2012', '조동화2008', '이원석2018', '강구성2016', '신종길2017', '김동욱2018', '박경수2010', '박경수2009', '정훈2015', '최형우2016', '오재일2016', '윤석민2007', '김재호2011', '심우준2018', '이흥련2016', '김강민2012', '정주현2013', '이대형2009', '김사훈2012', '박용택2011', '최승준2016', '이대수2013', '최원제2017', '전준우2008', '김민하2015', '김태연2018', '오태곤2014', '박승욱2018', '구자욱2018', '이용규2007', '최정2009', '나주환2003', '박용택2004', '정진기2017', '손시헌2016', '박한이2007', '정주현2010', '김문호2007', '정수빈2011', '김태균2005', '이원석2017', '채태인2009', '신종길2015', '김회성2015', '강민호2018', '박헌도2017', '장준원2016', '최준석2016', '손아섭2010', '전준우2014', '러프2017', '손아섭2014', '조동찬2007', '박용택2008', '이재원2015', '박기혁2010', '윤석민2016', '오선진2018', '강상원2017', '전준우2009', '이인행2015', '김상호2016', '한동민2013', '오지환2010', '안익훈2015', '최진행2018', '권희동2014', '강백호2018', '최정2018', '김현수2018', '손주인2018', '박건우2014', '스크럭스2017', '박정권2007', '서건창2018', '장영석2016', '박세혁2013', '김재호2010', '황윤호2016', '김문호2008', '이대호2002', '이성열2015', '권정웅2018', '구자욱2017', '이종욱2011', '정진호2016', '이영욱2008', '하주석2018', '손시헌2011', '최진행2011', '김회성2017', '장영석2018', '양석환2017', '황윤호2015', '박동원2016', '김동한2018', '문선재2014', '이호신2009', '김응민2014', '박한이2003', '박기혁2016', '이종욱2009', '전병우2018', '김동한2017', '김재환2016', '김강민2017', '강민호2014', '김회성2009', '오선진2013', '송성문2017', '이지영2014', '박용택2014', '최진행2005', '오재일2018', '이지영2009', '오지환2009', '이성우2016', '최정2006', '이종욱2007', '윤진호2016', '허경민2012', '이대호2008', '손주인2017', '조평호2016', '손아섭2009', '손주인2016', '김지수2015', '김상수2013', '주효상2018', '이천웅2018', '강민국2015', '오재원2015', '서건창2013', '서상우2017', '문규현2017', '지석훈2018', '나경민2017', '김주찬2012', '서동욱2015', '백민기2015', '김문호2012', '정상호2010', '김주찬2002', '이범호2012', '송광민2014', '이택근2015', '최윤석2018', '채태인2013', '양석환2016', '백용환2015', '송광민2018', '최정2014', '강한울2015', '김태균2004', '김헌곤2013', '백용환2018', '한승택2016', '장시윤2016', '심우준2017', '번즈2018', '최형우2011', '한승택2018', '최재훈2015', '박승욱2017', '나성범2014', '박정권2011', '박정권2014', '최승준2014', '박경수2004', '김선빈2011', '박헌도2018', '나지완2018', '손아섭2013', '서동욱2017', '임훈2015', '이상호2013', '이대형2015', '박승욱2013', '홍재호2011', '김강민2004', '오재일2015', '김성훈2018', '이원석2006', '송광민2009', '가르시아2018', '김재환2008', '정수빈2013', '지석훈2008', '최형우2015', '박경수2015', '최주환2008', '조동화2009', '이재율2018', '박석민2014', '나주환2009', '이해창2017', '러프2018', '정의윤2015', '남태혁2016', '박정음2017', '양종민2014', '김성욱2016', '강민호2016', '오정복2011', '김태균2013', '신본기2018', '박건우2015', '이진영2006', '박한이2004', '김태완2006', '김민성2011', '이재율2017', '김재환2015', '나원탁2018', '김주찬2016', '오정복2015', '이범호2017', '조동화2011', '김현수2010', '김선빈2014', '최진행2017', '이형종2017', '허경민2013', '채태인2016', '이성열2016', '백민기2018', '백창수2018', '최정2017', '박한이2010', '김강민2014', '이대형2010', '정진호2012', '이종욱2015', '최진행2014', '김태진2016', '강민호2017', '정진호2017', '이용규2011', '정범모2006', '국해성2016', '서상우2016', '한승택2013', '나주환2008', '손아섭2007', '김헌곤2017', '김성현2008', '로하스2018', '박민우2014', '모창민2010', '박석민2012', '최준석2015', '나성범2015', '이명기2015', '조동화2015', '임훈2011', '김태균2003', '최주환2013', '지석훈2012', '김헌곤2018', '이대수2010', '김민식2018', '김선빈2017', '정주현2018', '이재원2018', '김동욱2017', '정상호2015', '박병호2006', '번즈2017', '김주찬2008', '이범호2013', '박준태2014', '민병헌2016', '김선빈2008', '조동찬2017', '이택근2004', '김문호2018', '김태균2007', '권정웅2017', '김재호2014', '박건우2013', '박석민2004', '김용의2015', '하준호2015', '박한이2002', '김주찬2013', '윤정우2011', '이용규2005', '김민식2017', '정범모2008', '최영진2014', '이진영2016', '정성훈2016', '오재원2016', '박병호2015', '조홍석2014', '채은성2018', '김동한2013', '안익훈2016', '임병욱2018', '정성훈2015', '최승준2015', '임훈2017', '김성현2016', '이동훈2016', '오선진2017', '이종욱2010', '박헌도2016', '박경수2011', '정진기2018', '김동엽2018', '이명기2010', '박기혁2008', '이택근2007', '문선재2016', '나종덕2017', '이대수2007', '최준석2005', '버나디나2018', '허경민2014', '장성우2010', '오정복2014', '이종욱2016', '문규현2009', '임병욱2015', '최형우2010', '류지혁2016', '나지완2015', '정주현2009', '오선진2011', '이택근2003', '박기혁2005', '오선진2008', '이인행2017', '정의윤2013', '김현수2008', '서건창2014', '이택근2010', '최윤석2017', '채은성2017', '김민식2015', '정상호2002', '강민호2005', '전준우2017', '정성훈2003', '박병호2018', '이원석2008', '이대형2014', '조동화2016', '윤병호2015', '채태인2017', '이성열2009', '김태균2008', '장영석2015', '김현수2013', '조홍석2015', '손시헌2009', '김주형2018', '이종욱2014', '이범호2004', '최준석2013', '서건창2015', '박한이2016', '권희동2018', '김강민2010', '전준우2012', '최영진2017', '김용의2008', '황윤호2018', '이범호2008', '유한준2010', '정근우2013', '최진행2004', '이범호2005', '윤수강2018', '강민호2009', '손아섭2018', '박기혁2015', '김주형2004', '최진행2009', '박정권2018', '도태훈2018', '김태완2009', '조동화2006', '국해성2015', '조홍석2013', '노수광2016', '조윤준2012', '이대호2010', '김상수2009', '유민상2018', '박정권2010', '박용택2017', '문선재2015', '손주인2015', '유재신2015', '윤병호2018', '이대수2011', '민병헌2009', '양성우2017', '유한준2016', '이성우2015', '하주석2013', '오지환2015', '김헌곤2014', '채태인2012', '유재신2014', '정의윤2014', '호잉2018', '김현수2015', '김민성2007', '김동엽2017', '정훈2013', '전준우2010', '유재신2018', '김하성2015', '조동화2010', '최윤석2010', '모창민2014', '이원석2012', '이대호2011', '이범호2006', '나지완2010', '정훈2012', '최주환2009', '박석민2013', '허경민2015', '정훈2018', '김민수2014', '이대형2007', '윤석민2018', '구자욱2016', '강경학2017', '송광민2008', '김성욱2014', '국해성2018', '모창민2015', '이종욱2006', '김동욱2013', '최정2013', '손시헌2010', '백상원2013', '박동원2017', '정진호2018', '신본기2014', '김상수2014', '이지영2016', '정상호2008', '정주현2016', '김강민2005', '박기혁2009', '홍성갑2015', '이성우2017', '박한이2006', '조윤준2013', '류지혁2017', '서동욱2016', '오재원2013', '김회성2014', '이성열2007', '신본기2012', '김용의2014', '장민석2014', '정근우2018', '김강민2006', '양의지2016', '박정권2012', '김주형2008', '이범호2007', '오선진2010', '유강남2012', '모창민2018', '지석훈2016', '이영욱2009', '임병욱2016', '정상호2011', '박정권2004', '안치홍2011', '오태곤2016', '김상수2017', '최윤석2016', '최준석2018', '김용의2012', '김민성2015', '오재일2017', '배영섭2018', '이재원2007', '윤석민2012', '조동찬2011', '정주후2016', '박세혁2012', '정병곤2013', '박정권2015', '정수빈2012', '전준우2018', '하주석2017', '손아섭2011', '이대형2012', '권희동2013', '박정권2017', '박석민2017', '최정2008', '나경민2018', '박기혁2004', '김성현2011', '이지영2018', '오지환2018', '이영욱2011', '박광열2017', '황재균2013', '오태곤2018', '박정권2008', '송광민2015', '장민석2010', '이대수2009', '최주환2015', '정성훈2011', '손시헌2015', '민병헌2013', '나주환2004', '나주환2015', '조홍석2018', '김주형2011', '김재율2017', '박석민2008', '최준석2006', '엄태용2014', '이용규2012', '문규현2011', '지석훈2015', '정성훈2004', '김문호2017', '유한준2006', '국해성2017', '민병헌2018', '신종길2003', '나원탁2017', '문규현2014', '손시헌2017', '조동화2007', '김강민2013', '박경수2003', '윤정우2012', '최항2018', '초이스2018', '이용규2008', '유재신2013', '나성범2017', '장성우2017', '강경학2014', '조동찬2002', '권정웅2016', '이대수2005', '임훈2004', '정의윤2008', '도태훈2016', '백창수2016', '조윤준2017', '김재호2012', '정의윤2016', '정진호2015', '김재환2017', '박석민2011', '장민석2015', '김강민2018', '박한이2015', '최재훈2012', '김태완2016', '김지수2016', '박기혁2017', '백용환2014', '채태인2015', '손주인2012', '정상호2017', '박동원2015', '채태인2010', '김주형2005', '배정대2016', '홍창기2016', '강경학2011', '배정대2015', '박기혁2006', '박정권2013', '최진행2013', '강상원2018', '이택근2005', '장진혁2018', '김태완2007', '김동욱2016', '김성현2018', '채은성2015', '박용택2003', '윤병호2016', '양의지2012', '송광민2006', '이범호2002', '황재균2015', '김주형2007', '서건창2012', '김강민2011', '권희동2017', '이영욱2018', '이원석2005', '이명기2013', '손아섭2017', '박경수2016', '이진영2013', '이범호2009', '조동찬2003', '양종민2009', '황재균2018', '노진혁2013', '강민국2016', '이호신2007', '이상호2018', '홍재호2018', '배영섭2011', '백창수2015', '조동찬2008', '손주인2008', '한동민2014', '임훈2016', '유한준2018', '장영석2009', '장영석2011', '김주찬2011', '이성곤2017', '최정2016', '정성훈2007', '김태균2009', '윤병호2017', '류지혁2018', '양의지2015', '박한이2018', '이호신2017', '최주환2012', '오지환2013', '황재균2012', '채태인2011', '박한이2013', '서동욱2008', '최재훈2016', '지성준2018', '김재환2011', '조동찬2005', '조윤준2015', '김재호2017', '김지수2018', '심우준2015', '국해성2012', '양의지2011', '강한울2018', '한동민2018', '손주인2009', '김현수2009', '이대형2016', '조윤준2014', '박기혁2002', '김상수2015', '노수광2017', '이우성2016', '이대형2013', '유한준2017', '김태균2006', '조동화2014', '문규현2016', '홍재호2013', '박건우2016', '박경수2008', '양의지2018', '김주형2017', '양성우2016', '윤석민2015', '박세혁2017', '박민우2016', '임훈2018', '오재원2014', '이재원2014', '최정민2016', '이호신2016', '이대수2015', '최진행2012', '양종민2015', '이재율2016', '양의지2013', '이범호2003', '정의윤2011', '김재율2018', '유강남2016', '정근우2009', '신종길2012', '최형우2013', '김문호2014', '김주찬2018', '강구성2017', '이택근2006', '문규현2007', '김강민2003', '이원석2010', '조동화2005', '김진곤2015', '정성훈2017', '채태인2014', '정의윤2017', '문선재2017', '유한준2011', '이영욱2010', '유강남2017', '이지영2015', '박민우2015', '모창민2008', '최형우2012', '박한이2009', '장민석2016', '최윤석2011', '김성현2017', '정성훈2006', '박광열2018', '신본기2013', '김지수2014', '이성열2013', '이용규2014', '버나디나2017', '정범모2007', '박석민2015', '유한준2015', '최원준2018', '김성욱2017', '이대형2008', '남태혁2017', '박헌도2015', '이진영2009', '박정음2016', '나주환2005', '김재환2018', '서동욱2014', '민병헌2014', '서동욱2004', '정현2018', '이대수2004', '정범모2014', '박석민2016', '정경운2018', '정병곤2017', '오정복2017', '정수빈2016', '박한이2012', '노진혁2015', '최원준2016', '민병헌2010', '최재훈2017', '김태균2016', '강한울2014', '이흥련2015', '최진행2008', '김성현2007', '손주인2010', '오재원2011', '정진호2011', '이준수2012', '백상원2014', '손주인2005', '양성우2018', '이정후2018', '이형종2016', '이성우2013', '문선재2013', '황재균2008', '김재율2015', '오재일2012', '이용규2015', '이종욱2012', '안치홍2017', '박용택2010', '윤진호2011', '이준수2018', '최형우2014', '이성우2018', '김혜성2017', '강민호2006', '이천웅2017', '이재원2008', '안중열2016', '이성우2008', '주효상2016', '이범호2018', '김태균2014', '민병헌2017', '박석민2018', '김태완2014', '구자욱2015', '장민석2013', '정수빈2010', '김선빈2009', '허경민2016', '김재환2014', '김헌곤2011', '양의지2017', '이대형2005', '장민석2011', '최윤석2013', '김주형2013', '최준석2014', '이진영2018', '이진영2015', '김문호2015', '정성훈2008', '김주찬2014', '로맥2018', '유강남2015', '나종덕2018', '박지규2018', '김재호2015', '이대호2007', '김선빈2013', '남태혁2018', '이진영2011', '나주환2014', '손시헌2006', '박용택2005', '이성곤2018', '최영진2013', '허도환2012', '홍성갑2016', '오지환2012', '이해창2011', '나지완2017', '김상수2016', '나주환2007', '장성우2011', '이용규2006', '하주석2016', '배영섭2017', '윤진호2015', '박병호2014', '정근우2011', '김재호2016', '박병호2005', '서건창2016', '서동욱2012', '이진영2008', '이원석2011', '정상호2007', '홍성갑2017', '장민석2017', '서동욱2003', '김태균2017', '양의지2010', '황재균2009', '조동찬2006', '최준석2010', '박용택2013', '이성열2005', '고종욱2018', '이성열2008', '최주환2014', '이범호2016', '나주환2010', '신본기2017', '나주환2006', '박용택2012', '유재신2012', '박해민2018', '이대호2005', '이택근2012', '전준우2011', '김재호2018', '이종욱2018', '송광민2007', '윤석민2011', '오태곤2017', '이택근2017', '정의윤2018', '조평호2017', '안치홍2013', '정수빈2009', '이재원2006', '김성현2013', '최형우2017', '지석훈2017', '안익훈2018', '김민하2014', '유한준2014', '고종욱2015', '오선진2012', '박용택2007', '이범호2011', '김태균2002', '조동찬2004', '박경수2018', '김민성2010', '김재현2014', '정진기2011', '김주찬2017', '강민호2011', '백창수2014', '김하성2018', '김성현2014', '김주형2014', '조평호2015', '허도환2014', '이대수2017', '정근우2014', '허도환2018', '강경학2016', '노수광2018', '모창민2009']\n"
          ],
          "name": "stdout"
        }
      ]
    },
    {
      "cell_type": "code",
      "metadata": {
        "id": "HCDPe8NipI7u"
      },
      "source": [
        "# 교집합에 존재하는 데이터만 불러오기\n",
        "regular_season_new = regular_season_df.loc[regular_season_df['new_idx'].apply(lambda x: x in intersection_idx)].copy()"
      ],
      "execution_count": 39,
      "outputs": []
    },
    {
      "cell_type": "code",
      "metadata": {
        "colab": {
          "base_uri": "https://localhost:8080/"
        },
        "id": "VNK3bkcHqGr4",
        "outputId": "95dca0ed-d280-41c4-e176-cd56ab5eb733"
      },
      "source": [
        "regular_season_df['new_idx'].apply(lambda x: x in intersection_idx)"
      ],
      "execution_count": 15,
      "outputs": [
        {
          "output_type": "execute_result",
          "data": {
            "text/plain": [
              "0        True\n",
              "1        True\n",
              "2        True\n",
              "3        True\n",
              "4        True\n",
              "        ...  \n",
              "2449     True\n",
              "2450    False\n",
              "2451    False\n",
              "2452    False\n",
              "2453    False\n",
              "Name: new_idx, Length: 2454, dtype: bool"
            ]
          },
          "metadata": {
            "tags": []
          },
          "execution_count": 15
        }
      ]
    },
    {
      "cell_type": "code",
      "metadata": {
        "colab": {
          "base_uri": "https://localhost:8080/"
        },
        "id": "VEPec77tu2Nu",
        "outputId": "faaf6204-4587-44ea-c381-523b5bdbe2b5"
      },
      "source": [
        "regular_season_df['new_idx'][:10]"
      ],
      "execution_count": 17,
      "outputs": [
        {
          "output_type": "execute_result",
          "data": {
            "text/plain": [
              "0    가르시아2018\n",
              "1     강경학2011\n",
              "2     강경학2014\n",
              "3     강경학2015\n",
              "4     강경학2016\n",
              "5     강경학2017\n",
              "6     강경학2018\n",
              "7     강구성2013\n",
              "8     강구성2015\n",
              "9     강구성2016\n",
              "Name: new_idx, dtype: object"
            ]
          },
          "metadata": {
            "tags": []
          },
          "execution_count": 17
        }
      ]
    },
    {
      "cell_type": "code",
      "metadata": {
        "colab": {
          "base_uri": "https://localhost:8080/"
        },
        "id": "pmepgtWPu-9l",
        "outputId": "3296b251-898e-4f4a-aad7-c85be61b6722"
      },
      "source": [
        "regular_season_df.loc[regular_season_df['new_idx'] == '윤석민2017', 'new_idx']\n",
        "# df.loc[df['hour'] <= 5, 'hour':'weight']"
      ],
      "execution_count": 26,
      "outputs": [
        {
          "output_type": "execute_result",
          "data": {
            "text/plain": [
              "1364    윤석민2017\n",
              "Name: new_idx, dtype: object"
            ]
          },
          "metadata": {
            "tags": []
          },
          "execution_count": 26
        }
      ]
    },
    {
      "cell_type": "code",
      "metadata": {
        "id": "fIff5IsmyDro"
      },
      "source": [
        "# regular_season_df[regular_season_df['new_idx'] == '윤석민2017', 'new_idx']"
      ],
      "execution_count": null,
      "outputs": []
    },
    {
      "cell_type": "code",
      "metadata": {
        "colab": {
          "base_uri": "https://localhost:8080/",
          "height": 35
        },
        "id": "xcKyZ_1pwaQV",
        "outputId": "a945445f-d5e7-42b1-f78d-721be137e59b"
      },
      "source": [
        "regular_season_df.iloc[1364]['new_idx']"
      ],
      "execution_count": 30,
      "outputs": [
        {
          "output_type": "execute_result",
          "data": {
            "application/vnd.google.colaboratory.intrinsic+json": {
              "type": "string"
            },
            "text/plain": [
              "'윤석민2017'"
            ]
          },
          "metadata": {
            "tags": []
          },
          "execution_count": 30
        }
      ]
    },
    {
      "cell_type": "code",
      "metadata": {
        "colab": {
          "base_uri": "https://localhost:8080/",
          "height": 35
        },
        "id": "hKjmy1DoxvzX",
        "outputId": "850549ff-c598-4a51-ca8d-11f3e958ba1f"
      },
      "source": [
        "regular_season_df.iloc[2452]['new_idx']"
      ],
      "execution_count": 33,
      "outputs": [
        {
          "output_type": "execute_result",
          "data": {
            "application/vnd.google.colaboratory.intrinsic+json": {
              "type": "string"
            },
            "text/plain": [
              "'황진수2017'"
            ]
          },
          "metadata": {
            "tags": []
          },
          "execution_count": 33
        }
      ]
    },
    {
      "cell_type": "code",
      "metadata": {
        "colab": {
          "base_uri": "https://localhost:8080/"
        },
        "id": "lG0b0aadySRM",
        "outputId": "510db66a-182f-4ca9-94c5-60f185084abb"
      },
      "source": [
        "'황진수2017' in intersection_idx"
      ],
      "execution_count": 36,
      "outputs": [
        {
          "output_type": "execute_result",
          "data": {
            "text/plain": [
              "False"
            ]
          },
          "metadata": {
            "tags": []
          },
          "execution_count": 36
        }
      ]
    },
    {
      "cell_type": "code",
      "metadata": {
        "colab": {
          "base_uri": "https://localhost:8080/"
        },
        "id": "UBYwmqc_yXhc",
        "outputId": "5c091804-1287-4b03-c2d0-cbc78449218c"
      },
      "source": [
        "'윤석민2017' in intersection_idx"
      ],
      "execution_count": 37,
      "outputs": [
        {
          "output_type": "execute_result",
          "data": {
            "text/plain": [
              "True"
            ]
          },
          "metadata": {
            "tags": []
          },
          "execution_count": 37
        }
      ]
    },
    {
      "cell_type": "code",
      "metadata": {
        "colab": {
          "base_uri": "https://localhost:8080/"
        },
        "id": "j_SYY-XXxhIf",
        "outputId": "2ccb20c5-33dc-44ea-ca6a-8e76c0d64e4b"
      },
      "source": [
        "test = regular_season_df['new_idx'].apply(lambda x: x in intersection_idx)\n",
        "print(test.iloc[1364])\n",
        "print(test.iloc[2452])"
      ],
      "execution_count": 32,
      "outputs": [
        {
          "output_type": "stream",
          "text": [
            "True\n",
            "False\n"
          ],
          "name": "stdout"
        }
      ]
    },
    {
      "cell_type": "code",
      "metadata": {
        "id": "blxHjgqIyifF"
      },
      "source": [
        "regular_season_new = regular_season_new.sort_values(by='new_idx').reset_index(drop=True)"
      ],
      "execution_count": 40,
      "outputs": []
    },
    {
      "cell_type": "code",
      "metadata": {
        "id": "3o_LrxvkzAmY"
      },
      "source": [
        "# 비교를 위해 인덱스로 정렬\n",
        "preseason_new = preseason_df.loc[preseason_df['new_idx'].apply(lambda x: x in intersection_idx)].copy()\n",
        "preseason_new = preseason_new.sort_values(by='new_idx').reset_index(drop=True)"
      ],
      "execution_count": 42,
      "outputs": []
    },
    {
      "cell_type": "code",
      "metadata": {
        "colab": {
          "base_uri": "https://localhost:8080/"
        },
        "id": "vkN0d1ebzTSf",
        "outputId": "b6c2c72f-deff-4213-dae4-2ce317f66585"
      },
      "source": [
        "# 검정 코드\n",
        "print(regular_season_new.shape, regular_season_new.shape)\n",
        "sum(regular_season_new['new_idx'] == regular_season_new['new_idx'])"
      ],
      "execution_count": 43,
      "outputs": [
        {
          "output_type": "stream",
          "text": [
            "(1358, 30) (1358, 30)\n"
          ],
          "name": "stdout"
        },
        {
          "output_type": "execute_result",
          "data": {
            "text/plain": [
              "1358"
            ]
          },
          "metadata": {
            "tags": []
          },
          "execution_count": 43
        }
      ]
    },
    {
      "cell_type": "code",
      "metadata": {
        "colab": {
          "base_uri": "https://localhost:8080/",
          "height": 358
        },
        "id": "rak2uefmzgJ9",
        "outputId": "69190e14-96d4-499e-c467-b6f24d9470f7"
      },
      "source": [
        "# 정규시즌과 프리시즌의 상관관계 계산\n",
        "correlation = regular_season_new['OPS'].corr(preseason_new['OPS'])\n",
        "sns.scatterplot(regular_season_new['OPS'], preseason_new['OPS'])\n",
        "plt.title('correlation: ' + str(np.round(correlation,2)), fontsize=20)\n",
        "plt.xlabel('regularseason OPS', fontsize=12)\n",
        "plt.ylabel('preseason OPS', fontsize=12)\n",
        "plt.show()"
      ],
      "execution_count": 45,
      "outputs": [
        {
          "output_type": "stream",
          "text": [
            "/usr/local/lib/python3.7/dist-packages/seaborn/_decorators.py:43: FutureWarning: Pass the following variables as keyword args: x, y. From version 0.12, the only valid positional argument will be `data`, and passing other arguments without an explicit keyword will result in an error or misinterpretation.\n",
            "  FutureWarning\n"
          ],
          "name": "stderr"
        },
        {
          "output_type": "display_data",
          "data": {
            "image/png": "[encoded data removed]",
            "text/plain": [
              "<Figure size 432x288 with 1 Axes>"
            ]
          },
          "metadata": {
            "tags": [],
            "needs_background": "light"
          }
        }
      ]
    },
    {
      "cell_type": "code",
      "metadata": {
        "id": "sMpt0Uu63D5N"
      },
      "source": [
        "# 상관관계 해석 :\n",
        "# 정규시즌과 프리시즌의 성적 분포는 선형적인 모습이 아니다. => 상관성이 매우 낮다.\n",
        "\n",
        "# EDA 를 통해 알아낸 사실\n",
        "# 1. 프리시즌 데이터의 경기 기록 수는 매우 적으므로, 그 구성 역시 정규시즌 데이터와는 차이가 있을 수 있다.\n",
        "# 2. 프리시즌 데이터와 정규시즌 데이터 간 상관관계는 매우 낮다.\n",
        "# => 실제 분석에서는 프리시즌 데이터를 분석에서 제외할 것이다."
      ],
      "execution_count": null,
      "outputs": []
    }
  ]
}
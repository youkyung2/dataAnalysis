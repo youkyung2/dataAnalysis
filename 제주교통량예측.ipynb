{
  "nbformat": 4,
  "nbformat_minor": 0,
  "metadata": {
    "colab": {
      "name": "제주교통량예측.ipynb",
      "provenance": [],
      "authorship_tag": "ABX9TyPVMmQ9nCia3D1buMhPImzk",
      "include_colab_link": true
    },
    "kernelspec": {
      "name": "python3",
      "display_name": "Python 3"
    },
    "language_info": {
      "name": "python"
    }
  },
  "cells": [
    {
      "cell_type": "markdown",
      "metadata": {
        "id": "view-in-github",
        "colab_type": "text"
      },
      "source": [
        "<a href=\"https://colab.research.google.com/github/youkyung2/dataAnalysis/blob/master/%EC%A0%9C%EC%A3%BC%EA%B5%90%ED%86%B5%EB%9F%89%EC%98%88%EC%B8%A1.ipynb\" target=\"_parent\"><img src=\"https://colab.research.google.com/assets/colab-badge.svg\" alt=\"Open In Colab\"/></a>"
      ]
    },
    {
      "cell_type": "code",
      "metadata": {
        "id": "_t64715GPyJs"
      },
      "source": [
        "import pandas as pd"
      ],
      "execution_count": null,
      "outputs": []
    },
    {
      "cell_type": "code",
      "metadata": {
        "id": "8nIgWIl4QMld"
      },
      "source": [
        "train_X = pd.read_csv(\"https://raw.githubusercontent.com/Datamanim/jeju/main/Jeju_trainX.csv\",encoding='euc-kr')\n",
        "train_y= pd.read_csv(\"https://raw.githubusercontent.com/Datamanim/jeju/main/Jeju_trainy.csv\",encoding='euc-kr')\n",
        "test_X= pd.read_csv(\"https://raw.githubusercontent.com/Datamanim/jeju/main/Jeju_testX.csv\",encoding='euc-kr')\n",
        "sub= pd.read_csv(\"https://raw.githubusercontent.com/Datamanim/jeju/main/subExample.csv\",encoding='euc-kr')"
      ],
      "execution_count": null,
      "outputs": []
    },
    {
      "cell_type": "code",
      "metadata": {
        "id": "SG_6_FIGSd0u"
      },
      "source": [
        "data = pd.read_csv(\"https://raw.githubusercontent.com/youkyung2/dataAnalysis/master/Classification_CustGender/X_test.csv\")"
      ],
      "execution_count": null,
      "outputs": []
    },
    {
      "cell_type": "code",
      "metadata": {
        "colab": {
          "base_uri": "https://localhost:8080/",
          "height": 225
        },
        "id": "fBDAJu1kQUed",
        "outputId": "c3b1a2f1-73e7-418b-d742-8583c852a94f"
      },
      "source": [
        "train_X.head(6)"
      ],
      "execution_count": null,
      "outputs": [
        {
          "output_type": "execute_result",
          "data": {
            "text/html": [
              "<div>\n",
              "<style scoped>\n",
              "    .dataframe tbody tr th:only-of-type {\n",
              "        vertical-align: middle;\n",
              "    }\n",
              "\n",
              "    .dataframe tbody tr th {\n",
              "        vertical-align: top;\n",
              "    }\n",
              "\n",
              "    .dataframe thead th {\n",
              "        text-align: right;\n",
              "    }\n",
              "</style>\n",
              "<table border=\"1\" class=\"dataframe\">\n",
              "  <thead>\n",
              "    <tr style=\"text-align: right;\">\n",
              "      <th></th>\n",
              "      <th>id</th>\n",
              "      <th>일자</th>\n",
              "      <th>시도명</th>\n",
              "      <th>읍면동명</th>\n",
              "      <th>거주인구</th>\n",
              "      <th>근무인구</th>\n",
              "      <th>방문인구</th>\n",
              "      <th>총 유동인구</th>\n",
              "      <th>평균 속도</th>\n",
              "      <th>평균 소요 시간</th>\n",
              "      <th>평균 기온</th>\n",
              "      <th>일강수량</th>\n",
              "      <th>평균 풍속</th>\n",
              "    </tr>\n",
              "  </thead>\n",
              "  <tbody>\n",
              "    <tr>\n",
              "      <th>0</th>\n",
              "      <td>0</td>\n",
              "      <td>2018-01-01</td>\n",
              "      <td>서귀포시</td>\n",
              "      <td>남원읍</td>\n",
              "      <td>291408.897</td>\n",
              "      <td>18744.131</td>\n",
              "      <td>219588.857</td>\n",
              "      <td>529741.884</td>\n",
              "      <td>53.000</td>\n",
              "      <td>40.571</td>\n",
              "      <td>2.35</td>\n",
              "      <td>0.0</td>\n",
              "      <td>3.325</td>\n",
              "    </tr>\n",
              "    <tr>\n",
              "      <th>1</th>\n",
              "      <td>1</td>\n",
              "      <td>2018-01-01</td>\n",
              "      <td>제주시</td>\n",
              "      <td>노형동</td>\n",
              "      <td>1215420.248</td>\n",
              "      <td>74964.858</td>\n",
              "      <td>445735.329</td>\n",
              "      <td>1736120.435</td>\n",
              "      <td>38.563</td>\n",
              "      <td>30.655</td>\n",
              "      <td>-2.30</td>\n",
              "      <td>0.0</td>\n",
              "      <td>1.100</td>\n",
              "    </tr>\n",
              "    <tr>\n",
              "      <th>2</th>\n",
              "      <td>2</td>\n",
              "      <td>2018-01-01</td>\n",
              "      <td>제주시</td>\n",
              "      <td>구좌읍</td>\n",
              "      <td>276220.023</td>\n",
              "      <td>17542.105</td>\n",
              "      <td>248104.122</td>\n",
              "      <td>541866.250</td>\n",
              "      <td>53.188</td>\n",
              "      <td>40.719</td>\n",
              "      <td>5.90</td>\n",
              "      <td>0.0</td>\n",
              "      <td>4.100</td>\n",
              "    </tr>\n",
              "    <tr>\n",
              "      <th>3</th>\n",
              "      <td>3</td>\n",
              "      <td>2018-01-01</td>\n",
              "      <td>제주시</td>\n",
              "      <td>용담1동</td>\n",
              "      <td>159129.790</td>\n",
              "      <td>9363.622</td>\n",
              "      <td>101939.586</td>\n",
              "      <td>270432.998</td>\n",
              "      <td>35.833</td>\n",
              "      <td>14.000</td>\n",
              "      <td>2.90</td>\n",
              "      <td>0.0</td>\n",
              "      <td>2.400</td>\n",
              "    </tr>\n",
              "    <tr>\n",
              "      <th>4</th>\n",
              "      <td>4</td>\n",
              "      <td>2018-01-01</td>\n",
              "      <td>제주시</td>\n",
              "      <td>건입동</td>\n",
              "      <td>174544.301</td>\n",
              "      <td>19772.091</td>\n",
              "      <td>191560.904</td>\n",
              "      <td>385877.295</td>\n",
              "      <td>33.600</td>\n",
              "      <td>43.400</td>\n",
              "      <td>0.80</td>\n",
              "      <td>0.0</td>\n",
              "      <td>2.600</td>\n",
              "    </tr>\n",
              "    <tr>\n",
              "      <th>5</th>\n",
              "      <td>5</td>\n",
              "      <td>2018-01-01</td>\n",
              "      <td>제주시</td>\n",
              "      <td>용담2동</td>\n",
              "      <td>251966.838</td>\n",
              "      <td>44610.527</td>\n",
              "      <td>289235.033</td>\n",
              "      <td>585812.398</td>\n",
              "      <td>30.727</td>\n",
              "      <td>27.364</td>\n",
              "      <td>2.90</td>\n",
              "      <td>0.0</td>\n",
              "      <td>2.400</td>\n",
              "    </tr>\n",
              "  </tbody>\n",
              "</table>\n",
              "</div>"
            ],
            "text/plain": [
              "   id          일자   시도명  읍면동명  ...  평균 소요 시간  평균 기온  일강수량  평균 풍속\n",
              "0   0  2018-01-01  서귀포시   남원읍  ...    40.571   2.35   0.0  3.325\n",
              "1   1  2018-01-01   제주시   노형동  ...    30.655  -2.30   0.0  1.100\n",
              "2   2  2018-01-01   제주시   구좌읍  ...    40.719   5.90   0.0  4.100\n",
              "3   3  2018-01-01   제주시  용담1동  ...    14.000   2.90   0.0  2.400\n",
              "4   4  2018-01-01   제주시   건입동  ...    43.400   0.80   0.0  2.600\n",
              "5   5  2018-01-01   제주시  용담2동  ...    27.364   2.90   0.0  2.400\n",
              "\n",
              "[6 rows x 13 columns]"
            ]
          },
          "metadata": {
            "tags": []
          },
          "execution_count": 3
        }
      ]
    },
    {
      "cell_type": "code",
      "metadata": {
        "id": "L68Cp0qhQPqx"
      },
      "source": [
        ""
      ],
      "execution_count": null,
      "outputs": []
    }
  ]
}